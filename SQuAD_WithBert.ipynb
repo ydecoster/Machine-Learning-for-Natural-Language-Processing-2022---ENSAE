{
  "nbformat": 4,
  "nbformat_minor": 0,
  "metadata": {
    "colab": {
      "name": "SQuAD-WithBert.ipynb",
      "provenance": []
    },
    "kernelspec": {
      "name": "python3",
      "display_name": "Python 3"
    },
    "language_info": {
      "name": "python"
    }
  },
  "cells": [
    {
      "cell_type": "markdown",
      "source": [
        ""
      ],
      "metadata": {
        "id": "LACr74X4_h13"
      }
    },
    {
      "cell_type": "code",
      "source": [
        "import json"
      ],
      "metadata": {
        "id": "gjcySaQR_kNk"
      },
      "execution_count": null,
      "outputs": []
    },
    {
      "cell_type": "markdown",
      "source": [
        "Dans ce notebook, on utilisera le modèle préentrainé à base de transformers : BertForQuestionAnswering. Cela nous permet de nous familiariser avec les métriques utilisées classiquement pour cette tâche de NLP\n"
      ],
      "metadata": {
        "id": "-SgBZBXhLvnd"
      }
    },
    {
      "cell_type": "code",
      "source": [
        "pip install transformers"
      ],
      "metadata": {
        "colab": {
          "base_uri": "https://localhost:8080/"
        },
        "id": "3EFoTcxhDY7_",
        "outputId": "73de323b-75d6-4e0e-a0df-328cd045cdb8"
      },
      "execution_count": null,
      "outputs": [
        {
          "output_type": "stream",
          "name": "stdout",
          "text": [
            "Requirement already satisfied: transformers in /usr/local/lib/python3.7/dist-packages (4.18.0)\n",
            "Requirement already satisfied: numpy>=1.17 in /usr/local/lib/python3.7/dist-packages (from transformers) (1.21.6)\n",
            "Requirement already satisfied: huggingface-hub<1.0,>=0.1.0 in /usr/local/lib/python3.7/dist-packages (from transformers) (0.5.1)\n",
            "Requirement already satisfied: packaging>=20.0 in /usr/local/lib/python3.7/dist-packages (from transformers) (21.3)\n",
            "Requirement already satisfied: requests in /usr/local/lib/python3.7/dist-packages (from transformers) (2.23.0)\n",
            "Requirement already satisfied: pyyaml>=5.1 in /usr/local/lib/python3.7/dist-packages (from transformers) (6.0)\n",
            "Requirement already satisfied: sacremoses in /usr/local/lib/python3.7/dist-packages (from transformers) (0.0.49)\n",
            "Requirement already satisfied: tqdm>=4.27 in /usr/local/lib/python3.7/dist-packages (from transformers) (4.64.0)\n",
            "Requirement already satisfied: regex!=2019.12.17 in /usr/local/lib/python3.7/dist-packages (from transformers) (2019.12.20)\n",
            "Requirement already satisfied: importlib-metadata in /usr/local/lib/python3.7/dist-packages (from transformers) (4.11.3)\n",
            "Requirement already satisfied: filelock in /usr/local/lib/python3.7/dist-packages (from transformers) (3.6.0)\n",
            "Requirement already satisfied: tokenizers!=0.11.3,<0.13,>=0.11.1 in /usr/local/lib/python3.7/dist-packages (from transformers) (0.12.1)\n",
            "Requirement already satisfied: typing-extensions>=3.7.4.3 in /usr/local/lib/python3.7/dist-packages (from huggingface-hub<1.0,>=0.1.0->transformers) (4.1.1)\n",
            "Requirement already satisfied: pyparsing!=3.0.5,>=2.0.2 in /usr/local/lib/python3.7/dist-packages (from packaging>=20.0->transformers) (3.0.8)\n",
            "Requirement already satisfied: zipp>=0.5 in /usr/local/lib/python3.7/dist-packages (from importlib-metadata->transformers) (3.8.0)\n",
            "Requirement already satisfied: chardet<4,>=3.0.2 in /usr/local/lib/python3.7/dist-packages (from requests->transformers) (3.0.4)\n",
            "Requirement already satisfied: idna<3,>=2.5 in /usr/local/lib/python3.7/dist-packages (from requests->transformers) (2.10)\n",
            "Requirement already satisfied: urllib3!=1.25.0,!=1.25.1,<1.26,>=1.21.1 in /usr/local/lib/python3.7/dist-packages (from requests->transformers) (1.24.3)\n",
            "Requirement already satisfied: certifi>=2017.4.17 in /usr/local/lib/python3.7/dist-packages (from requests->transformers) (2021.10.8)\n",
            "Requirement already satisfied: six in /usr/local/lib/python3.7/dist-packages (from sacremoses->transformers) (1.15.0)\n",
            "Requirement already satisfied: joblib in /usr/local/lib/python3.7/dist-packages (from sacremoses->transformers) (1.1.0)\n",
            "Requirement already satisfied: click in /usr/local/lib/python3.7/dist-packages (from sacremoses->transformers) (7.1.2)\n"
          ]
        }
      ]
    },
    {
      "cell_type": "code",
      "source": [
        "# On télécharge le fichier de dev pour changer... (et il est plus léger)\n",
        "! wget -c https://rajpurkar.github.io/SQuAD-explorer/dataset/dev-v2.0.json"
      ],
      "metadata": {
        "colab": {
          "base_uri": "https://localhost:8080/"
        },
        "id": "yvR6S6nxBguZ",
        "outputId": "f13a9730-96e2-40c4-9a89-0744c2b37d21"
      },
      "execution_count": null,
      "outputs": [
        {
          "output_type": "stream",
          "name": "stdout",
          "text": [
            "--2022-04-24 15:45:34--  https://rajpurkar.github.io/SQuAD-explorer/dataset/dev-v2.0.json\n",
            "Resolving rajpurkar.github.io (rajpurkar.github.io)... 185.199.110.153, 185.199.108.153, 185.199.109.153, ...\n",
            "Connecting to rajpurkar.github.io (rajpurkar.github.io)|185.199.110.153|:443... connected.\n",
            "HTTP request sent, awaiting response... 416 Range Not Satisfiable\n",
            "\n",
            "    The file is already fully retrieved; nothing to do.\n",
            "\n"
          ]
        }
      ]
    },
    {
      "cell_type": "code",
      "source": [
        "squad = json.loads(open('dev-v2.0.json').read())"
      ],
      "metadata": {
        "id": "5GmVhdhACjPS"
      },
      "execution_count": null,
      "outputs": []
    },
    {
      "cell_type": "code",
      "source": [
        "# Structure du fichier json : une clef data (442 items)\n",
        "# dans clef, un \"titre\" +  des \"paragraphs\" (plusieurs dizaines). \n",
        "# dans paragraphs : un contexte + des questions/réponses (qas).\n",
        "# dans qas : \"question\" + une clef 'answers'\n",
        "# dans answers : \"text\" de la réponse + \"answer start\" + is impossible False (peut répondre).\n",
        "# Variante pour les dernies items : dans 'qas', is impossible : True, et donne une \"plausible answer\" "
      ],
      "metadata": {
        "id": "N4sGnwy5Bg2z"
      },
      "execution_count": null,
      "outputs": []
    },
    {
      "cell_type": "code",
      "source": [
        "# Exemple pour le premier contexte, et les différentes questions associées\n",
        "\n",
        "squad['data'][0]['paragraphs'][0]"
      ],
      "metadata": {
        "colab": {
          "base_uri": "https://localhost:8080/"
        },
        "id": "p31OwyGjD62k",
        "outputId": "30d48a7b-8931-45c1-9cdc-4fba07311cf2"
      },
      "execution_count": null,
      "outputs": [
        {
          "output_type": "execute_result",
          "data": {
            "text/plain": [
              "{'context': 'The Normans (Norman: Nourmands; French: Normands; Latin: Normanni) were the people who in the 10th and 11th centuries gave their name to Normandy, a region in France. They were descended from Norse (\"Norman\" comes from \"Norseman\") raiders and pirates from Denmark, Iceland and Norway who, under their leader Rollo, agreed to swear fealty to King Charles III of West Francia. Through generations of assimilation and mixing with the native Frankish and Roman-Gaulish populations, their descendants would gradually merge with the Carolingian-based cultures of West Francia. The distinct cultural and ethnic identity of the Normans emerged initially in the first half of the 10th century, and it continued to evolve over the succeeding centuries.',\n",
              " 'qas': [{'answers': [{'answer_start': 159, 'text': 'France'},\n",
              "    {'answer_start': 159, 'text': 'France'},\n",
              "    {'answer_start': 159, 'text': 'France'},\n",
              "    {'answer_start': 159, 'text': 'France'}],\n",
              "   'id': '56ddde6b9a695914005b9628',\n",
              "   'is_impossible': False,\n",
              "   'question': 'In what country is Normandy located?'},\n",
              "  {'answers': [{'answer_start': 94, 'text': '10th and 11th centuries'},\n",
              "    {'answer_start': 87, 'text': 'in the 10th and 11th centuries'},\n",
              "    {'answer_start': 94, 'text': '10th and 11th centuries'},\n",
              "    {'answer_start': 94, 'text': '10th and 11th centuries'}],\n",
              "   'id': '56ddde6b9a695914005b9629',\n",
              "   'is_impossible': False,\n",
              "   'question': 'When were the Normans in Normandy?'},\n",
              "  {'answers': [{'answer_start': 256, 'text': 'Denmark, Iceland and Norway'},\n",
              "    {'answer_start': 256, 'text': 'Denmark, Iceland and Norway'},\n",
              "    {'answer_start': 256, 'text': 'Denmark, Iceland and Norway'},\n",
              "    {'answer_start': 256, 'text': 'Denmark, Iceland and Norway'}],\n",
              "   'id': '56ddde6b9a695914005b962a',\n",
              "   'is_impossible': False,\n",
              "   'question': 'From which countries did the Norse originate?'},\n",
              "  {'answers': [{'answer_start': 308, 'text': 'Rollo'},\n",
              "    {'answer_start': 308, 'text': 'Rollo'},\n",
              "    {'answer_start': 308, 'text': 'Rollo'},\n",
              "    {'answer_start': 308, 'text': 'Rollo'}],\n",
              "   'id': '56ddde6b9a695914005b962b',\n",
              "   'is_impossible': False,\n",
              "   'question': 'Who was the Norse leader?'},\n",
              "  {'answers': [{'answer_start': 671, 'text': '10th century'},\n",
              "    {'answer_start': 649, 'text': 'the first half of the 10th century'},\n",
              "    {'answer_start': 671, 'text': '10th'},\n",
              "    {'answer_start': 671, 'text': '10th'}],\n",
              "   'id': '56ddde6b9a695914005b962c',\n",
              "   'is_impossible': False,\n",
              "   'question': 'What century did the Normans first gain their separate identity?'},\n",
              "  {'answers': [],\n",
              "   'id': '5ad39d53604f3c001a3fe8d1',\n",
              "   'is_impossible': True,\n",
              "   'plausible_answers': [{'answer_start': 4, 'text': 'Normans'}],\n",
              "   'question': \"Who gave their name to Normandy in the 1000's and 1100's\"},\n",
              "  {'answers': [],\n",
              "   'id': '5ad39d53604f3c001a3fe8d2',\n",
              "   'is_impossible': True,\n",
              "   'plausible_answers': [{'answer_start': 137, 'text': 'Normandy'}],\n",
              "   'question': 'What is France a region of?'},\n",
              "  {'answers': [],\n",
              "   'id': '5ad39d53604f3c001a3fe8d3',\n",
              "   'is_impossible': True,\n",
              "   'plausible_answers': [{'answer_start': 308, 'text': 'Rollo'}],\n",
              "   'question': 'Who did King Charles III swear fealty to?'},\n",
              "  {'answers': [],\n",
              "   'id': '5ad39d53604f3c001a3fe8d4',\n",
              "   'is_impossible': True,\n",
              "   'plausible_answers': [{'answer_start': 671, 'text': '10th century'}],\n",
              "   'question': 'When did the Frankish identity emerge?'}]}"
            ]
          },
          "metadata": {},
          "execution_count": 6
        }
      ]
    },
    {
      "cell_type": "code",
      "source": [
        "# extraction des différents items : le contexte, les questions, les réponses\n",
        "# afin de le passer ensuite dans le modèle BERT\n",
        "# nb : existe deux formats pour réponse ('answers' ou 'plausible answers')\n",
        "\n",
        "new_squad = []\n",
        "\n",
        "for group in squad['data']:\n",
        "    for paragraph in group['paragraphs']:\n",
        "        context = paragraph['context']\n",
        "        for qa_pair in paragraph['qas']:\n",
        "            question = qa_pair['question']\n",
        "            if 'answers' in qa_pair.keys() and len(qa_pair['answers']) > 0:\n",
        "                answer_list = qa_pair['answers']\n",
        "            elif 'plausible_answers' in qa_pair.keys() and len(qa_pair['plausible_answers']) > 0:\n",
        "                answer_list = qa_pair['plausible_answers']\n",
        "            else:\n",
        "                answer_list = []\n",
        "            answer_list = [item['text'] for item in answer_list]\n",
        "            answer_list = list(set(answer_list)) # pour enlever les doublons\n",
        "            for answer in answer_list :\n",
        "                new_squad.append({\n",
        "                    'question' : question,\n",
        "                    'answer': answer,\n",
        "                    'context': context})      "
      ],
      "metadata": {
        "id": "S-PB_CjfBg5r"
      },
      "execution_count": null,
      "outputs": []
    },
    {
      "cell_type": "code",
      "source": [
        "# sauvegarde au format json\n",
        "\n",
        "with open(\"/content/dev.json\", 'w') as f:\n",
        "    json.dump(new_squad,f)"
      ],
      "metadata": {
        "id": "2miXjcXz_kXB"
      },
      "execution_count": null,
      "outputs": []
    },
    {
      "cell_type": "code",
      "source": [
        "# charge le fichier dev préparé qui servira en entrée du modèle\n",
        "\n",
        "with open('/content/dev.json','r') as f :\n",
        "    squad = json.load(f)"
      ],
      "metadata": {
        "id": "gPXeVJ_b_khU"
      },
      "execution_count": null,
      "outputs": []
    },
    {
      "cell_type": "code",
      "source": [
        "# fichier json simplifié, exemple des deux premières lignes\n",
        "squad[:2]"
      ],
      "metadata": {
        "colab": {
          "base_uri": "https://localhost:8080/"
        },
        "id": "JN8TKw0C_tq_",
        "outputId": "cde50905-8cce-4636-be0a-2a6a7d1d25c1"
      },
      "execution_count": null,
      "outputs": [
        {
          "output_type": "execute_result",
          "data": {
            "text/plain": [
              "[{'answer': 'France',\n",
              "  'context': 'The Normans (Norman: Nourmands; French: Normands; Latin: Normanni) were the people who in the 10th and 11th centuries gave their name to Normandy, a region in France. They were descended from Norse (\"Norman\" comes from \"Norseman\") raiders and pirates from Denmark, Iceland and Norway who, under their leader Rollo, agreed to swear fealty to King Charles III of West Francia. Through generations of assimilation and mixing with the native Frankish and Roman-Gaulish populations, their descendants would gradually merge with the Carolingian-based cultures of West Francia. The distinct cultural and ethnic identity of the Normans emerged initially in the first half of the 10th century, and it continued to evolve over the succeeding centuries.',\n",
              "  'question': 'In what country is Normandy located?'},\n",
              " {'answer': 'in the 10th and 11th centuries',\n",
              "  'context': 'The Normans (Norman: Nourmands; French: Normands; Latin: Normanni) were the people who in the 10th and 11th centuries gave their name to Normandy, a region in France. They were descended from Norse (\"Norman\" comes from \"Norseman\") raiders and pirates from Denmark, Iceland and Norway who, under their leader Rollo, agreed to swear fealty to King Charles III of West Francia. Through generations of assimilation and mixing with the native Frankish and Roman-Gaulish populations, their descendants would gradually merge with the Carolingian-based cultures of West Francia. The distinct cultural and ethnic identity of the Normans emerged initially in the first half of the 10th century, and it continued to evolve over the succeeding centuries.',\n",
              "  'question': 'When were the Normans in Normandy?'}]"
            ]
          },
          "metadata": {},
          "execution_count": 10
        }
      ]
    },
    {
      "cell_type": "code",
      "source": [
        "# import des tokenizer de Bert\n",
        "\n",
        "from transformers import BertTokenizer, BertForQuestionAnswering\n",
        "\n",
        "# Choisir un modéle pré-entrainé sur HuggingFace\n",
        "\n",
        "modelname = 'deepset/bert-base-cased-squad2'\n",
        "\n",
        "tokenizer = BertTokenizer.from_pretrained(modelname)\n",
        "model = BertForQuestionAnswering.from_pretrained(modelname)"
      ],
      "metadata": {
        "id": "Sgkh3Rv0_lXG"
      },
      "execution_count": null,
      "outputs": []
    },
    {
      "cell_type": "code",
      "source": [
        "from transformers import pipeline"
      ],
      "metadata": {
        "id": "50O7DnQX_mYg"
      },
      "execution_count": null,
      "outputs": []
    },
    {
      "cell_type": "code",
      "source": [
        "qa = pipeline ('question-answering', model = modelname, tokenizer = tokenizer)"
      ],
      "metadata": {
        "id": "9Vi-pC6b_p0T"
      },
      "execution_count": null,
      "outputs": []
    },
    {
      "cell_type": "code",
      "source": [
        "# test sur une paire contexte + question (prise dans Squad)\n",
        "\n",
        "qa({ 'question': 'In what country is Normandy located?',\n",
        "    'context' : 'The Normans (Norman: Nourmands; French: Normands; Latin: Normanni) were the people who in the 10th and 11th centuries gave their name to Normandy, a region in France. They were descended from Norse (\"Norman\" comes from \"Norseman\") raiders and pirates from Denmark, Iceland and Norway who, under their leader Rollo, agreed to swear fealty to King Charles III of West Francia. Through generations of assimilation and mixing with the native Frankish and Roman-Gaulish populations, their descendants would gradually merge with the Carolingian-based cultures of West Francia. The distinct cultural and ethnic identity of the Normans emerged initially in the first half of the 10th century, and it continued to evolve over the succeeding centuries.'\n",
        "   })"
      ],
      "metadata": {
        "colab": {
          "base_uri": "https://localhost:8080/"
        },
        "id": "gTs_vc3H_ybQ",
        "outputId": "d80d1349-d3fa-4dee-dbee-7d8586afab9c"
      },
      "execution_count": null,
      "outputs": [
        {
          "output_type": "execute_result",
          "data": {
            "text/plain": [
              "{'answer': 'France.', 'end': 166, 'score': 0.999527633190155, 'start': 159}"
            ]
          },
          "metadata": {},
          "execution_count": 14
        }
      ]
    },
    {
      "cell_type": "code",
      "source": [
        "# essaie de prédiction sur plusieurs exemples du dataset\n",
        "\n",
        "answers = []\n",
        "\n",
        "for pair in squad[:5] :\n",
        "    ans = qa({'question': pair['question'], 'context' : pair['context']}) # récupère question et contexte\n",
        "    answers.append({'predicted':ans['answer'], # la réponse du modèle\n",
        "                    'true' : pair['answer']}) # la réponse exacte "
      ],
      "metadata": {
        "id": "spFvXZDA_zI8"
      },
      "execution_count": null,
      "outputs": []
    },
    {
      "cell_type": "code",
      "source": [
        "answers"
      ],
      "metadata": {
        "colab": {
          "base_uri": "https://localhost:8080/"
        },
        "id": "IIVR4Si7_15g",
        "outputId": "83eea1b4-179f-4211-f5dc-85359c5e7eb2"
      },
      "execution_count": null,
      "outputs": [
        {
          "output_type": "execute_result",
          "data": {
            "text/plain": [
              "[{'predicted': 'France.', 'true': 'France'},\n",
              " {'predicted': '10th and 11th centuries',\n",
              "  'true': 'in the 10th and 11th centuries'},\n",
              " {'predicted': '10th and 11th centuries', 'true': '10th and 11th centuries'},\n",
              " {'predicted': 'Denmark, Iceland and Norway',\n",
              "  'true': 'Denmark, Iceland and Norway'},\n",
              " {'predicted': 'Rollo,', 'true': 'Rollo'}]"
            ]
          },
          "metadata": {},
          "execution_count": 16
        }
      ]
    },
    {
      "cell_type": "code",
      "source": [
        "# Metrics \n",
        "# Exact Mach (EM) si virgule près dira que \"Rollo,\" et \"Rollo\" ce n'est pas pareil... \n",
        "# De même \"France.\" sera considérée faux, car l'attendu est \"France\" sans point.\n",
        "\n",
        "em = []\n",
        "for answer in answers :\n",
        "    if answer['predicted'] == answer['true']:\n",
        "        em.append(1)\n",
        "    else :\n",
        "        em.append(0)\n",
        "\n",
        "sum (em)/len(em)\n",
        "\n",
        "# on obtient un EM score de 40% sur les 5 Q&A"
      ],
      "metadata": {
        "colab": {
          "base_uri": "https://localhost:8080/"
        },
        "id": "w2P_H-4LAPJQ",
        "outputId": "17de225b-1f42-42e2-9362-c6ff3f3dc3bd"
      },
      "execution_count": null,
      "outputs": [
        {
          "output_type": "execute_result",
          "data": {
            "text/plain": [
              "0.4"
            ]
          },
          "metadata": {},
          "execution_count": 17
        }
      ]
    },
    {
      "cell_type": "code",
      "source": [
        "# modifier un peu pour accepter plus (lower case et autre)\n",
        "# enleve tout ce qui n'est PAS chiffre ou lettre\n",
        "\n",
        "import re\n",
        "\n",
        "em = []\n",
        "\n",
        "for answer in answers:\n",
        "    pred = re.sub('[^0-9a-z ]', '', answer['predicted'].lower())\n",
        "    true = re.sub('[^0-9a-z ]', '', answer['true'].lower())\n",
        "    if pred == true:\n",
        "        em.append(1)\n",
        "    else :\n",
        "        em.append(0)\n",
        "\n",
        "sum (em)/len(em)\n",
        "                 \n",
        "# Le score est monté à 80%. reste en effet une erreur pour la troisième question car l'attendue contient \"in the\""
      ],
      "metadata": {
        "colab": {
          "base_uri": "https://localhost:8080/"
        },
        "id": "M2T20TIYAXTw",
        "outputId": "4325b526-fb8a-4726-fbf6-6455d22206c9"
      },
      "execution_count": null,
      "outputs": [
        {
          "output_type": "execute_result",
          "data": {
            "text/plain": [
              "0.8"
            ]
          },
          "metadata": {},
          "execution_count": 18
        }
      ]
    },
    {
      "cell_type": "code",
      "source": [
        "# Regard une autre métrique : ROUGE\n",
        "# ROUGE metric (Recall Oriented Understudy for Gisting Evaluation)\n",
        "# a set of metrics : N, L, S en particulier, regarde match entre prédiction et réf texte\n",
        "# N: number of matching n-grams (unigram, bigram). ROUGE-1, ROUGE-2\n",
        "! pip install rouge"
      ],
      "metadata": {
        "colab": {
          "base_uri": "https://localhost:8080/"
        },
        "id": "u_faYRLzAZ7I",
        "outputId": "877c6d4c-f73d-4e5c-a95c-32b667055cf0"
      },
      "execution_count": null,
      "outputs": [
        {
          "output_type": "stream",
          "name": "stdout",
          "text": [
            "Requirement already satisfied: rouge in /usr/local/lib/python3.7/dist-packages (1.0.1)\n",
            "Requirement already satisfied: six in /usr/local/lib/python3.7/dist-packages (from rouge) (1.15.0)\n"
          ]
        }
      ]
    },
    {
      "cell_type": "code",
      "source": [
        "from rouge import Rouge"
      ],
      "metadata": {
        "id": "8oTA27LeAgCU"
      },
      "execution_count": null,
      "outputs": []
    },
    {
      "cell_type": "code",
      "source": [
        "rouge = Rouge()\n",
        "\n",
        "# transforme le dic Answers en une liste\n",
        "model_out = [ans['predicted'] for ans in answers]\n",
        "reference = [ans['true'] for ans in answers]\n",
        "\n",
        "rouge.get_scores(model_out, reference) # va itérer sur les listes \n",
        "# donne f:F1-score, p: precision et r: recall\n",
        "# pour chacune des 5 paires (predicted, true)\n",
        "# trouve 0 pour le dernier à cause de la virgule"
      ],
      "metadata": {
        "colab": {
          "base_uri": "https://localhost:8080/"
        },
        "id": "6EDPIWCoAi5H",
        "outputId": "801ad7a2-cb40-416e-9885-1e8a07e6a10a"
      },
      "execution_count": null,
      "outputs": [
        {
          "output_type": "execute_result",
          "data": {
            "text/plain": [
              "[{'rouge-1': {'f': 0.999999995, 'p': 1.0, 'r': 1.0},\n",
              "  'rouge-2': {'f': 0.0, 'p': 0.0, 'r': 0.0},\n",
              "  'rouge-l': {'f': 0.999999995, 'p': 1.0, 'r': 1.0}},\n",
              " {'rouge-1': {'f': 0.7999999952000001, 'p': 1.0, 'r': 0.6666666666666666},\n",
              "  'rouge-2': {'f': 0.7499999953125, 'p': 1.0, 'r': 0.6},\n",
              "  'rouge-l': {'f': 0.7999999952000001, 'p': 1.0, 'r': 0.6666666666666666}},\n",
              " {'rouge-1': {'f': 0.999999995, 'p': 1.0, 'r': 1.0},\n",
              "  'rouge-2': {'f': 0.999999995, 'p': 1.0, 'r': 1.0},\n",
              "  'rouge-l': {'f': 0.999999995, 'p': 1.0, 'r': 1.0}},\n",
              " {'rouge-1': {'f': 0.999999995, 'p': 1.0, 'r': 1.0},\n",
              "  'rouge-2': {'f': 0.999999995, 'p': 1.0, 'r': 1.0},\n",
              "  'rouge-l': {'f': 0.999999995, 'p': 1.0, 'r': 1.0}},\n",
              " {'rouge-1': {'f': 0.0, 'p': 0.0, 'r': 0.0},\n",
              "  'rouge-2': {'f': 0.0, 'p': 0.0, 'r': 0.0},\n",
              "  'rouge-l': {'f': 0.0, 'p': 0.0, 'r': 0.0}}]"
            ]
          },
          "metadata": {},
          "execution_count": 21
        }
      ]
    },
    {
      "cell_type": "code",
      "source": [
        "# built-in function pour avoir la moyenne sur la liste\n",
        "\n",
        "rouge.get_scores(model_out, reference, avg=True)"
      ],
      "metadata": {
        "colab": {
          "base_uri": "https://localhost:8080/"
        },
        "id": "tN05qS7nAnMK",
        "outputId": "68971a4c-816c-49de-da0a-b5b6a8f9d12f"
      },
      "execution_count": null,
      "outputs": [
        {
          "output_type": "execute_result",
          "data": {
            "text/plain": [
              "{'rouge-1': {'f': 0.7599999960400001, 'p': 0.8, 'r': 0.7333333333333333},\n",
              " 'rouge-2': {'f': 0.5499999970625, 'p': 0.6, 'r': 0.52},\n",
              " 'rouge-l': {'f': 0.7599999960400001, 'p': 0.8, 'r': 0.7333333333333333}}"
            ]
          },
          "metadata": {},
          "execution_count": 22
        }
      ]
    },
    {
      "cell_type": "code",
      "source": [
        "# sur tout le modèle.\n",
        "\n",
        "from tqdm import tqdm\n",
        "\n",
        "model_out = []\n",
        "reference = []"
      ],
      "metadata": {
        "id": "WQoZjSXzAn03"
      },
      "execution_count": null,
      "outputs": []
    },
    {
      "cell_type": "code",
      "source": [
        "# trop long, teste sur 50 premiers questions\n",
        "\n",
        "for pair in tqdm(squad[:50],leave = True):\n",
        "    ans = qa({'question':pair['question'],\n",
        "              'context':pair['context']})\n",
        "    model_out.append(ans['answer'])\n",
        "    reference.append(pair['answer'])"
      ],
      "metadata": {
        "colab": {
          "base_uri": "https://localhost:8080/"
        },
        "id": "sGe2l92RAtcD",
        "outputId": "1c0b315b-5e1c-4ed1-b406-ed44e4e2d15d"
      },
      "execution_count": null,
      "outputs": [
        {
          "output_type": "stream",
          "name": "stderr",
          "text": [
            "100%|██████████| 50/50 [01:30<00:00,  1.81s/it]\n"
          ]
        }
      ]
    },
    {
      "cell_type": "code",
      "source": [
        "rouge.get_scores(model_out, reference, avg = True)"
      ],
      "metadata": {
        "colab": {
          "base_uri": "https://localhost:8080/"
        },
        "id": "csv-CZnHAvrR",
        "outputId": "b3b8ede6-fcfa-4189-bdd7-50c9671e2839"
      },
      "execution_count": null,
      "outputs": [
        {
          "output_type": "execute_result",
          "data": {
            "text/plain": [
              "{'rouge-1': {'f': 0.40930158480384604,\n",
              "  'p': 0.45285714285714285,\n",
              "  'r': 0.4152380952380952},\n",
              " 'rouge-2': {'f': 0.21939626912222163, 'p': 0.24696969696969695, 'r': 0.2245},\n",
              " 'rouge-l': {'f': 0.40930158480384604,\n",
              "  'p': 0.45285714285714285,\n",
              "  'r': 0.4152380952380952}}"
            ]
          },
          "metadata": {},
          "execution_count": 25
        }
      ]
    },
    {
      "cell_type": "code",
      "source": [
        "# pas terrible, regarde détail\n",
        "scores = rouge.get_scores(model_out, reference)\n",
        "# Sait que le 4ème (Rollo,) pose problème. regarde rouge-1 et f score\n",
        "print(model_out[4],'|',reference[4], '|', scores[4]['rouge-1']['f'])\n",
        "    "
      ],
      "metadata": {
        "colab": {
          "base_uri": "https://localhost:8080/"
        },
        "id": "9_Cp_t3gAwap",
        "outputId": "86e44df6-72be-42ad-a18e-050d72b3546d"
      },
      "execution_count": null,
      "outputs": [
        {
          "output_type": "stream",
          "name": "stdout",
          "text": [
            "Rollo, | Rollo | 0.0\n"
          ]
        }
      ]
    },
    {
      "cell_type": "code",
      "source": [
        "# pb de poncutation !\n",
        "# fait la même manip' de nettoyage\n",
        "import re\n",
        "\n",
        "clean = re.compile('(?i)[^0-9a-z ]') # modifier ?i, devient case insensitive\n",
        "model_out = [clean.sub('',text) for text in model_out]\n",
        "reference = [clean.sub('',text) for text in reference]"
      ],
      "metadata": {
        "id": "AvCT8t5qAznq"
      },
      "execution_count": null,
      "outputs": []
    },
    {
      "cell_type": "code",
      "source": [
        "# relance rouge sur listes nettoyées\n",
        "rouge.get_scores(model_out, reference, avg = True)"
      ],
      "metadata": {
        "colab": {
          "base_uri": "https://localhost:8080/"
        },
        "id": "0Sgm-wBfA10x",
        "outputId": "c012cba6-a429-40ce-82af-020449ffdfc1"
      },
      "execution_count": null,
      "outputs": [
        {
          "output_type": "execute_result",
          "data": {
            "text/plain": [
              "{'rouge-1': {'f': 0.5337460286760682,\n",
              "  'p': 0.5608658008658007,\n",
              "  'r': 0.5919047619047618},\n",
              " 'rouge-2': {'f': 0.2943962687784716, 'p': 0.3198268398268398, 'r': 0.3145},\n",
              " 'rouge-l': {'f': 0.5337460286760682,\n",
              "  'p': 0.5608658008658007,\n",
              "  'r': 0.5919047619047618}}"
            ]
          },
          "metadata": {},
          "execution_count": 28
        }
      ]
    },
    {
      "cell_type": "code",
      "source": [
        "scores = rouge.get_scores(model_out, reference)\n",
        "print(model_out[4],'|',reference[4], '|', scores[4]['rouge-1']['f'])"
      ],
      "metadata": {
        "colab": {
          "base_uri": "https://localhost:8080/"
        },
        "id": "TZ6FQJUfA4rq",
        "outputId": "4a34aa18-eb4f-4599-891e-76d04c6fcd2b"
      },
      "execution_count": null,
      "outputs": [
        {
          "output_type": "stream",
          "name": "stdout",
          "text": [
            "Rollo | Rollo | 0.999999995\n"
          ]
        }
      ]
    },
    {
      "cell_type": "code",
      "source": [
        "#POUR INFO :\n",
        "# recall nb de ngram de pred qui match ref / nb de ngram dans la réference. \n",
        "# voir si modèle capture toute l'info dans la ref, mais peut etre que donnne tonne de mots\n",
        "# juste pour augmenter le recall. \n",
        "# 100% recall si tous les mots de ref dans préd, mais peut avoir d'autres mots inutiles\n",
        "# pour éviter prend précision : nb de ngrams qui match ref / nb ngrams dans la pred\n",
        "# combinaison des 2 avec le F1-score : 2*(precision*recall)/(precision + recall)"
      ],
      "metadata": {
        "id": "gdm-8SjGBAYL"
      },
      "execution_count": null,
      "outputs": []
    },
    {
      "cell_type": "code",
      "source": [
        "# Rouge L metric : longest common subsequence (shared tokens) between pred and ref\n",
        "# ex 2 mots. puis calcule recall en divisant par nb bi-grams dans la ref\n",
        "# ou calcule precision p en divisant par ngram dans la pred"
      ],
      "metadata": {
        "id": "p1Ml_o8gBC6f"
      },
      "execution_count": null,
      "outputs": []
    }
  ]
}