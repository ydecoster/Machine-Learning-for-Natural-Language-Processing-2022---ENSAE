{
  "cells": [
    {
      "cell_type": "markdown",
      "id": "4416de4f",
      "metadata": {
        "id": "4416de4f"
      },
      "source": [
        "# Question answer project"
      ]
    },
    {
      "cell_type": "markdown",
      "id": "5caf3523",
      "metadata": {
        "id": "5caf3523"
      },
      "source": [
        "The aim of the project is to create a question answer algorithm using a paragraph and a question as entries, and providing a correct answer. Such a model would be interesting in an encyclopedic website like Wikipedia, as it would analyse 'proper pages' paragraphs in parallel to answer quickly our question. Therefore, having a model doing this task can help curious person to increase their knowledge.\n",
        "\n",
        "Our model will be constituted with an embedding layer, followed by a LSTM and two fully connected layers to do two classification to know the position of both starting and ending tokens of the answer in the text of the context.\n",
        "\n",
        "A nice idea for further steps is to replace the LSTM with an encoder with two attention layers (one for the paragraph and one for the question). And to test the model on its performances and grammatical aspects. And use bigger models such as Transformers or T5.\n",
        "\n",
        "The dataset that we will use is the SQUAD 2.0 from Stanford University."
      ]
    },
    {
      "cell_type": "markdown",
      "id": "b69f8d68",
      "metadata": {
        "id": "b69f8d68"
      },
      "source": [
        "# Installations & Data Loading"
      ]
    },
    {
      "cell_type": "code",
      "execution_count": 114,
      "id": "8ac884f4",
      "metadata": {
        "id": "8ac884f4",
        "colab": {
          "base_uri": "https://localhost:8080/"
        },
        "outputId": "b4c78d04-94c1-4401-f05b-2045f094af11"
      },
      "outputs": [
        {
          "output_type": "stream",
          "name": "stdout",
          "text": [
            "[nltk_data] Downloading package stopwords to /root/nltk_data...\n",
            "[nltk_data]   Package stopwords is already up-to-date!\n"
          ]
        }
      ],
      "source": [
        "import pandas as pd\n",
        "import numpy as np\n",
        "import json\n",
        "import math\n",
        "import torch\n",
        "import matplotlib.pyplot as plt\n",
        "\n",
        "import collections\n",
        "from nltk.util import ngrams\n",
        "from nltk.corpus import stopwords\n",
        "import nltk\n",
        "nltk.download('stopwords')\n",
        "\n",
        "from tqdm import tqdm\n",
        "from nltk.tokenize import TweetTokenizer\n",
        "from sklearn.model_selection import train_test_split\n",
        "from torch.utils.data import Dataset\n",
        "from torch.utils.data import DataLoader\n",
        "from torchtext.vocab import GloVe, vocab, FastText\n",
        "\n",
        "import torch\n",
        "import torch.nn as nn\n",
        "import torch.nn.functional as F\n",
        "import torch.autograd as autograd\n",
        "from collections import Counter"
      ]
    },
    {
      "cell_type": "code",
      "source": [
        "! wget -c https://rajpurkar.github.io/SQuAD-explorer/dataset/train-v2.0.json"
      ],
      "metadata": {
        "colab": {
          "base_uri": "https://localhost:8080/"
        },
        "id": "oL3vpOH0t-Vp",
        "outputId": "a97dc4e7-909e-44ac-e036-e5d2765494ca"
      },
      "id": "oL3vpOH0t-Vp",
      "execution_count": 115,
      "outputs": [
        {
          "output_type": "stream",
          "name": "stdout",
          "text": [
            "--2022-04-24 16:11:24--  https://rajpurkar.github.io/SQuAD-explorer/dataset/train-v2.0.json\n",
            "Resolving rajpurkar.github.io (rajpurkar.github.io)... 185.199.108.153, 185.199.109.153, 185.199.110.153, ...\n",
            "Connecting to rajpurkar.github.io (rajpurkar.github.io)|185.199.108.153|:443... connected.\n",
            "HTTP request sent, awaiting response... 416 Range Not Satisfiable\n",
            "\n",
            "    The file is already fully retrieved; nothing to do.\n",
            "\n"
          ]
        }
      ]
    },
    {
      "cell_type": "markdown",
      "id": "2c3d9086",
      "metadata": {
        "id": "2c3d9086"
      },
      "source": [
        "# Data Representation\n",
        "Let's transform the data to make it compatible with our code."
      ]
    },
    {
      "cell_type": "code",
      "execution_count": 116,
      "id": "52912d44",
      "metadata": {
        "id": "52912d44"
      },
      "outputs": [],
      "source": [
        "def squad_json_to_dataframe_train(input_file_path, record_path = ['data','paragraphs','qas','answers'],\n",
        "                           verbose = 1):\n",
        "    \"\"\"\n",
        "    input_file_path: path to the squad json file.\n",
        "    record_path: path to deepest level in json file default value is\n",
        "    ['data','paragraphs','qas','answers']\n",
        "    verbose: 0 to suppress it default is 1\n",
        "    \"\"\"\n",
        "    if verbose:\n",
        "        print(\"Reading the json file\")    \n",
        "    file = json.loads(open(input_file_path).read())\n",
        "    if verbose:\n",
        "        print(\"processing...\")\n",
        "    # parsing different level's in the json file\n",
        "    js = pd.io.json.json_normalize(file , record_path )\n",
        "    m = pd.io.json.json_normalize(file, record_path[:-1] )\n",
        "    r = pd.io.json.json_normalize(file,record_path[:-2])\n",
        "    \n",
        "    #combining it into single dataframe\n",
        "    idx = np.repeat(r['context'].values, r.qas.str.len())\n",
        "    ndx  = np.repeat(m['id'].values,m['answers'].str.len())\n",
        "    m['context'] = idx\n",
        "    js['q_idx'] = ndx\n",
        "    main = pd.concat([ m[['id','question','context']].set_index('id'),js.set_index('q_idx')],1,sort=False).reset_index()\n",
        "    main['c_id'] = main['context'].factorize()[0]\n",
        "    if verbose:\n",
        "        print(\"shape of the dataframe is {}\".format(main.shape))\n",
        "        print(\"Done\")\n",
        "    return main"
      ]
    },
    {
      "cell_type": "code",
      "execution_count": 117,
      "id": "416296a0",
      "metadata": {
        "colab": {
          "base_uri": "https://localhost:8080/"
        },
        "id": "416296a0",
        "outputId": "3d39e326-1e4e-45c8-fe81-cd67ce3c2100"
      },
      "outputs": [
        {
          "output_type": "stream",
          "name": "stdout",
          "text": [
            "Reading the json file\n",
            "processing...\n"
          ]
        },
        {
          "output_type": "stream",
          "name": "stderr",
          "text": [
            "/usr/local/lib/python3.7/dist-packages/ipykernel_launcher.py:15: FutureWarning: pandas.io.json.json_normalize is deprecated, use pandas.json_normalize instead\n",
            "  from ipykernel import kernelapp as app\n",
            "/usr/local/lib/python3.7/dist-packages/ipykernel_launcher.py:16: FutureWarning: pandas.io.json.json_normalize is deprecated, use pandas.json_normalize instead\n",
            "  app.launch_new_instance()\n",
            "/usr/local/lib/python3.7/dist-packages/ipykernel_launcher.py:17: FutureWarning: pandas.io.json.json_normalize is deprecated, use pandas.json_normalize instead\n",
            "/usr/local/lib/python3.7/dist-packages/ipykernel_launcher.py:24: FutureWarning: In a future version of pandas all arguments of concat except for the argument 'objs' will be keyword-only\n"
          ]
        },
        {
          "output_type": "stream",
          "name": "stdout",
          "text": [
            "shape of the dataframe is (130319, 6)\n",
            "Done\n"
          ]
        }
      ],
      "source": [
        "# Obtaining data in pandas dataframe\n",
        "input_file_path = 'train-v2.0.json'\n",
        "record_path = ['data','paragraphs','qas','answers']\n",
        "data = squad_json_to_dataframe_train(input_file_path=input_file_path,record_path=record_path)"
      ]
    },
    {
      "cell_type": "code",
      "execution_count": 118,
      "id": "d2c4c402",
      "metadata": {
        "scrolled": false,
        "id": "d2c4c402",
        "outputId": "0a2a1e8d-bf4a-4e3e-d9bb-330713ea8b4b",
        "colab": {
          "base_uri": "https://localhost:8080/",
          "height": 468
        }
      },
      "outputs": [
        {
          "output_type": "execute_result",
          "data": {
            "text/plain": [
              "                      index  \\\n",
              "0  56be85543aeaaa14008c9063   \n",
              "1  56be85543aeaaa14008c9065   \n",
              "2  56be85543aeaaa14008c9066   \n",
              "\n",
              "                                            question  \\\n",
              "0           When did Beyonce start becoming popular?   \n",
              "1  What areas did Beyonce compete in when she was...   \n",
              "2  When did Beyonce leave Destiny's Child and bec...   \n",
              "\n",
              "                                             context                 text  \\\n",
              "0  Beyoncé Giselle Knowles-Carter (/biːˈjɒnseɪ/ b...    in the late 1990s   \n",
              "1  Beyoncé Giselle Knowles-Carter (/biːˈjɒnseɪ/ b...  singing and dancing   \n",
              "2  Beyoncé Giselle Knowles-Carter (/biːˈjɒnseɪ/ b...                 2003   \n",
              "\n",
              "   answer_start  c_id  \n",
              "0         269.0     0  \n",
              "1         207.0     0  \n",
              "2         526.0     0  "
            ],
            "text/html": [
              "\n",
              "  <div id=\"df-3d0a56cd-670c-440e-b375-27ecd2d1e01f\">\n",
              "    <div class=\"colab-df-container\">\n",
              "      <div>\n",
              "<style scoped>\n",
              "    .dataframe tbody tr th:only-of-type {\n",
              "        vertical-align: middle;\n",
              "    }\n",
              "\n",
              "    .dataframe tbody tr th {\n",
              "        vertical-align: top;\n",
              "    }\n",
              "\n",
              "    .dataframe thead th {\n",
              "        text-align: right;\n",
              "    }\n",
              "</style>\n",
              "<table border=\"1\" class=\"dataframe\">\n",
              "  <thead>\n",
              "    <tr style=\"text-align: right;\">\n",
              "      <th></th>\n",
              "      <th>index</th>\n",
              "      <th>question</th>\n",
              "      <th>context</th>\n",
              "      <th>text</th>\n",
              "      <th>answer_start</th>\n",
              "      <th>c_id</th>\n",
              "    </tr>\n",
              "  </thead>\n",
              "  <tbody>\n",
              "    <tr>\n",
              "      <th>0</th>\n",
              "      <td>56be85543aeaaa14008c9063</td>\n",
              "      <td>When did Beyonce start becoming popular?</td>\n",
              "      <td>Beyoncé Giselle Knowles-Carter (/biːˈjɒnseɪ/ b...</td>\n",
              "      <td>in the late 1990s</td>\n",
              "      <td>269.0</td>\n",
              "      <td>0</td>\n",
              "    </tr>\n",
              "    <tr>\n",
              "      <th>1</th>\n",
              "      <td>56be85543aeaaa14008c9065</td>\n",
              "      <td>What areas did Beyonce compete in when she was...</td>\n",
              "      <td>Beyoncé Giselle Knowles-Carter (/biːˈjɒnseɪ/ b...</td>\n",
              "      <td>singing and dancing</td>\n",
              "      <td>207.0</td>\n",
              "      <td>0</td>\n",
              "    </tr>\n",
              "    <tr>\n",
              "      <th>2</th>\n",
              "      <td>56be85543aeaaa14008c9066</td>\n",
              "      <td>When did Beyonce leave Destiny's Child and bec...</td>\n",
              "      <td>Beyoncé Giselle Knowles-Carter (/biːˈjɒnseɪ/ b...</td>\n",
              "      <td>2003</td>\n",
              "      <td>526.0</td>\n",
              "      <td>0</td>\n",
              "    </tr>\n",
              "  </tbody>\n",
              "</table>\n",
              "</div>\n",
              "      <button class=\"colab-df-convert\" onclick=\"convertToInteractive('df-3d0a56cd-670c-440e-b375-27ecd2d1e01f')\"\n",
              "              title=\"Convert this dataframe to an interactive table.\"\n",
              "              style=\"display:none;\">\n",
              "        \n",
              "  <svg xmlns=\"http://www.w3.org/2000/svg\" height=\"24px\"viewBox=\"0 0 24 24\"\n",
              "       width=\"24px\">\n",
              "    <path d=\"M0 0h24v24H0V0z\" fill=\"none\"/>\n",
              "    <path d=\"M18.56 5.44l.94 2.06.94-2.06 2.06-.94-2.06-.94-.94-2.06-.94 2.06-2.06.94zm-11 1L8.5 8.5l.94-2.06 2.06-.94-2.06-.94L8.5 2.5l-.94 2.06-2.06.94zm10 10l.94 2.06.94-2.06 2.06-.94-2.06-.94-.94-2.06-.94 2.06-2.06.94z\"/><path d=\"M17.41 7.96l-1.37-1.37c-.4-.4-.92-.59-1.43-.59-.52 0-1.04.2-1.43.59L10.3 9.45l-7.72 7.72c-.78.78-.78 2.05 0 2.83L4 21.41c.39.39.9.59 1.41.59.51 0 1.02-.2 1.41-.59l7.78-7.78 2.81-2.81c.8-.78.8-2.07 0-2.86zM5.41 20L4 18.59l7.72-7.72 1.47 1.35L5.41 20z\"/>\n",
              "  </svg>\n",
              "      </button>\n",
              "      \n",
              "  <style>\n",
              "    .colab-df-container {\n",
              "      display:flex;\n",
              "      flex-wrap:wrap;\n",
              "      gap: 12px;\n",
              "    }\n",
              "\n",
              "    .colab-df-convert {\n",
              "      background-color: #E8F0FE;\n",
              "      border: none;\n",
              "      border-radius: 50%;\n",
              "      cursor: pointer;\n",
              "      display: none;\n",
              "      fill: #1967D2;\n",
              "      height: 32px;\n",
              "      padding: 0 0 0 0;\n",
              "      width: 32px;\n",
              "    }\n",
              "\n",
              "    .colab-df-convert:hover {\n",
              "      background-color: #E2EBFA;\n",
              "      box-shadow: 0px 1px 2px rgba(60, 64, 67, 0.3), 0px 1px 3px 1px rgba(60, 64, 67, 0.15);\n",
              "      fill: #174EA6;\n",
              "    }\n",
              "\n",
              "    [theme=dark] .colab-df-convert {\n",
              "      background-color: #3B4455;\n",
              "      fill: #D2E3FC;\n",
              "    }\n",
              "\n",
              "    [theme=dark] .colab-df-convert:hover {\n",
              "      background-color: #434B5C;\n",
              "      box-shadow: 0px 1px 3px 1px rgba(0, 0, 0, 0.15);\n",
              "      filter: drop-shadow(0px 1px 2px rgba(0, 0, 0, 0.3));\n",
              "      fill: #FFFFFF;\n",
              "    }\n",
              "  </style>\n",
              "\n",
              "      <script>\n",
              "        const buttonEl =\n",
              "          document.querySelector('#df-3d0a56cd-670c-440e-b375-27ecd2d1e01f button.colab-df-convert');\n",
              "        buttonEl.style.display =\n",
              "          google.colab.kernel.accessAllowed ? 'block' : 'none';\n",
              "\n",
              "        async function convertToInteractive(key) {\n",
              "          const element = document.querySelector('#df-3d0a56cd-670c-440e-b375-27ecd2d1e01f');\n",
              "          const dataTable =\n",
              "            await google.colab.kernel.invokeFunction('convertToInteractive',\n",
              "                                                     [key], {});\n",
              "          if (!dataTable) return;\n",
              "\n",
              "          const docLinkHtml = 'Like what you see? Visit the ' +\n",
              "            '<a target=\"_blank\" href=https://colab.research.google.com/notebooks/data_table.ipynb>data table notebook</a>'\n",
              "            + ' to learn more about interactive tables.';\n",
              "          element.innerHTML = '';\n",
              "          dataTable['output_type'] = 'display_data';\n",
              "          await google.colab.output.renderOutput(dataTable, element);\n",
              "          const docLink = document.createElement('div');\n",
              "          docLink.innerHTML = docLinkHtml;\n",
              "          element.appendChild(docLink);\n",
              "        }\n",
              "      </script>\n",
              "    </div>\n",
              "  </div>\n",
              "  "
            ]
          },
          "metadata": {},
          "execution_count": 118
        }
      ],
      "source": [
        "data.head(3)"
      ]
    },
    {
      "cell_type": "code",
      "execution_count": 119,
      "id": "65b8cb4e",
      "metadata": {
        "id": "65b8cb4e",
        "outputId": "c7d96fda-cfd7-477a-e515-f36bd78fc36d",
        "colab": {
          "base_uri": "https://localhost:8080/"
        }
      },
      "outputs": [
        {
          "output_type": "execute_result",
          "data": {
            "text/plain": [
              "Index(['index', 'question', 'context', 'text', 'answer_start', 'c_id'], dtype='object')"
            ]
          },
          "metadata": {},
          "execution_count": 119
        }
      ],
      "source": [
        "data.columns"
      ]
    },
    {
      "cell_type": "code",
      "source": [
        "data.shape"
      ],
      "metadata": {
        "colab": {
          "base_uri": "https://localhost:8080/"
        },
        "id": "5octDbuvwL8c",
        "outputId": "d45e3134-c55b-4fc7-b036-0879f3ddcea1"
      },
      "id": "5octDbuvwL8c",
      "execution_count": 120,
      "outputs": [
        {
          "output_type": "execute_result",
          "data": {
            "text/plain": [
              "(130319, 6)"
            ]
          },
          "metadata": {},
          "execution_count": 120
        }
      ]
    },
    {
      "cell_type": "markdown",
      "source": [
        "# Data Cleaning"
      ],
      "metadata": {
        "id": "6jge93_t6nx7"
      },
      "id": "6jge93_t6nx7"
    },
    {
      "cell_type": "markdown",
      "id": "048acecf",
      "metadata": {
        "id": "048acecf"
      },
      "source": [
        "Let's look if we have duplicates in our dataset"
      ]
    },
    {
      "cell_type": "code",
      "source": [
        "len(data[data.duplicated(keep=False)])"
      ],
      "metadata": {
        "colab": {
          "base_uri": "https://localhost:8080/"
        },
        "id": "LSVlNzfCwy-J",
        "outputId": "e36e2f6b-afd8-4278-ca5b-9b30c13076e9"
      },
      "id": "LSVlNzfCwy-J",
      "execution_count": 121,
      "outputs": [
        {
          "output_type": "execute_result",
          "data": {
            "text/plain": [
              "0"
            ]
          },
          "metadata": {},
          "execution_count": 121
        }
      ]
    },
    {
      "cell_type": "markdown",
      "source": [
        "It seems that we do not have any duplicates. Can we find identical question-context-answer with identical features in the dataset? Let's try to check if we can have two identical question-context-answer with two different ids."
      ],
      "metadata": {
        "id": "tmt03Asxw6xM"
      },
      "id": "tmt03Asxw6xM"
    },
    {
      "cell_type": "code",
      "source": [
        "# Do we have duplicates?\n",
        "col_to_check = ['question', 'context', 'text', 'answer_start', 'c_id']\n",
        "print(data[data[col_to_check].duplicated(keep=False)].shape)\n",
        "data[data[col_to_check].duplicated(keep=False)].head(5)"
      ],
      "metadata": {
        "colab": {
          "base_uri": "https://localhost:8080/",
          "height": 757
        },
        "id": "_rXUBRzrxJzw",
        "outputId": "5816d15b-cdc1-48d4-ff7e-62eb593a39ea"
      },
      "id": "_rXUBRzrxJzw",
      "execution_count": 122,
      "outputs": [
        {
          "output_type": "stream",
          "name": "stdout",
          "text": [
            "(52, 6)\n"
          ]
        },
        {
          "output_type": "execute_result",
          "data": {
            "text/plain": [
              "                         index                                question  \\\n",
              "251   56be9bb83aeaaa14008c915c  When did Beyonce have her first child?   \n",
              "255   56bfa087a10cfb14005511d9  When did Beyonce have her first child?   \n",
              "916   56cf66734df3c31400b0d714      What year did Chopin leave Warsaw?   \n",
              "920   56d3123b59d6e41400146205      What year did Chopin leave Warsaw?   \n",
              "1061  56cfdb3e234ae51400d9bf7f  What was the name of Liszt's mistress?   \n",
              "\n",
              "                                                context             text  \\\n",
              "251   On January 7, 2012, Beyoncé gave birth to her ...  January 7, 2012   \n",
              "255   On January 7, 2012, Beyoncé gave birth to her ...  January 7, 2012   \n",
              "916   In 1827, soon after the death of Chopin's youn...             1830   \n",
              "920   In 1827, soon after the death of Chopin's youn...             1830   \n",
              "1061  Although the two displayed great respect and a...   Marie d'Agoult   \n",
              "\n",
              "      answer_start  c_id  \n",
              "251            3.0    20  \n",
              "255            3.0    20  \n",
              "916          329.0    77  \n",
              "920          329.0    77  \n",
              "1061        1168.0    90  "
            ],
            "text/html": [
              "\n",
              "  <div id=\"df-e6c6d857-285f-418e-8dff-b3c4c2f5eeea\">\n",
              "    <div class=\"colab-df-container\">\n",
              "      <div>\n",
              "<style scoped>\n",
              "    .dataframe tbody tr th:only-of-type {\n",
              "        vertical-align: middle;\n",
              "    }\n",
              "\n",
              "    .dataframe tbody tr th {\n",
              "        vertical-align: top;\n",
              "    }\n",
              "\n",
              "    .dataframe thead th {\n",
              "        text-align: right;\n",
              "    }\n",
              "</style>\n",
              "<table border=\"1\" class=\"dataframe\">\n",
              "  <thead>\n",
              "    <tr style=\"text-align: right;\">\n",
              "      <th></th>\n",
              "      <th>index</th>\n",
              "      <th>question</th>\n",
              "      <th>context</th>\n",
              "      <th>text</th>\n",
              "      <th>answer_start</th>\n",
              "      <th>c_id</th>\n",
              "    </tr>\n",
              "  </thead>\n",
              "  <tbody>\n",
              "    <tr>\n",
              "      <th>251</th>\n",
              "      <td>56be9bb83aeaaa14008c915c</td>\n",
              "      <td>When did Beyonce have her first child?</td>\n",
              "      <td>On January 7, 2012, Beyoncé gave birth to her ...</td>\n",
              "      <td>January 7, 2012</td>\n",
              "      <td>3.0</td>\n",
              "      <td>20</td>\n",
              "    </tr>\n",
              "    <tr>\n",
              "      <th>255</th>\n",
              "      <td>56bfa087a10cfb14005511d9</td>\n",
              "      <td>When did Beyonce have her first child?</td>\n",
              "      <td>On January 7, 2012, Beyoncé gave birth to her ...</td>\n",
              "      <td>January 7, 2012</td>\n",
              "      <td>3.0</td>\n",
              "      <td>20</td>\n",
              "    </tr>\n",
              "    <tr>\n",
              "      <th>916</th>\n",
              "      <td>56cf66734df3c31400b0d714</td>\n",
              "      <td>What year did Chopin leave Warsaw?</td>\n",
              "      <td>In 1827, soon after the death of Chopin's youn...</td>\n",
              "      <td>1830</td>\n",
              "      <td>329.0</td>\n",
              "      <td>77</td>\n",
              "    </tr>\n",
              "    <tr>\n",
              "      <th>920</th>\n",
              "      <td>56d3123b59d6e41400146205</td>\n",
              "      <td>What year did Chopin leave Warsaw?</td>\n",
              "      <td>In 1827, soon after the death of Chopin's youn...</td>\n",
              "      <td>1830</td>\n",
              "      <td>329.0</td>\n",
              "      <td>77</td>\n",
              "    </tr>\n",
              "    <tr>\n",
              "      <th>1061</th>\n",
              "      <td>56cfdb3e234ae51400d9bf7f</td>\n",
              "      <td>What was the name of Liszt's mistress?</td>\n",
              "      <td>Although the two displayed great respect and a...</td>\n",
              "      <td>Marie d'Agoult</td>\n",
              "      <td>1168.0</td>\n",
              "      <td>90</td>\n",
              "    </tr>\n",
              "  </tbody>\n",
              "</table>\n",
              "</div>\n",
              "      <button class=\"colab-df-convert\" onclick=\"convertToInteractive('df-e6c6d857-285f-418e-8dff-b3c4c2f5eeea')\"\n",
              "              title=\"Convert this dataframe to an interactive table.\"\n",
              "              style=\"display:none;\">\n",
              "        \n",
              "  <svg xmlns=\"http://www.w3.org/2000/svg\" height=\"24px\"viewBox=\"0 0 24 24\"\n",
              "       width=\"24px\">\n",
              "    <path d=\"M0 0h24v24H0V0z\" fill=\"none\"/>\n",
              "    <path d=\"M18.56 5.44l.94 2.06.94-2.06 2.06-.94-2.06-.94-.94-2.06-.94 2.06-2.06.94zm-11 1L8.5 8.5l.94-2.06 2.06-.94-2.06-.94L8.5 2.5l-.94 2.06-2.06.94zm10 10l.94 2.06.94-2.06 2.06-.94-2.06-.94-.94-2.06-.94 2.06-2.06.94z\"/><path d=\"M17.41 7.96l-1.37-1.37c-.4-.4-.92-.59-1.43-.59-.52 0-1.04.2-1.43.59L10.3 9.45l-7.72 7.72c-.78.78-.78 2.05 0 2.83L4 21.41c.39.39.9.59 1.41.59.51 0 1.02-.2 1.41-.59l7.78-7.78 2.81-2.81c.8-.78.8-2.07 0-2.86zM5.41 20L4 18.59l7.72-7.72 1.47 1.35L5.41 20z\"/>\n",
              "  </svg>\n",
              "      </button>\n",
              "      \n",
              "  <style>\n",
              "    .colab-df-container {\n",
              "      display:flex;\n",
              "      flex-wrap:wrap;\n",
              "      gap: 12px;\n",
              "    }\n",
              "\n",
              "    .colab-df-convert {\n",
              "      background-color: #E8F0FE;\n",
              "      border: none;\n",
              "      border-radius: 50%;\n",
              "      cursor: pointer;\n",
              "      display: none;\n",
              "      fill: #1967D2;\n",
              "      height: 32px;\n",
              "      padding: 0 0 0 0;\n",
              "      width: 32px;\n",
              "    }\n",
              "\n",
              "    .colab-df-convert:hover {\n",
              "      background-color: #E2EBFA;\n",
              "      box-shadow: 0px 1px 2px rgba(60, 64, 67, 0.3), 0px 1px 3px 1px rgba(60, 64, 67, 0.15);\n",
              "      fill: #174EA6;\n",
              "    }\n",
              "\n",
              "    [theme=dark] .colab-df-convert {\n",
              "      background-color: #3B4455;\n",
              "      fill: #D2E3FC;\n",
              "    }\n",
              "\n",
              "    [theme=dark] .colab-df-convert:hover {\n",
              "      background-color: #434B5C;\n",
              "      box-shadow: 0px 1px 3px 1px rgba(0, 0, 0, 0.15);\n",
              "      filter: drop-shadow(0px 1px 2px rgba(0, 0, 0, 0.3));\n",
              "      fill: #FFFFFF;\n",
              "    }\n",
              "  </style>\n",
              "\n",
              "      <script>\n",
              "        const buttonEl =\n",
              "          document.querySelector('#df-e6c6d857-285f-418e-8dff-b3c4c2f5eeea button.colab-df-convert');\n",
              "        buttonEl.style.display =\n",
              "          google.colab.kernel.accessAllowed ? 'block' : 'none';\n",
              "\n",
              "        async function convertToInteractive(key) {\n",
              "          const element = document.querySelector('#df-e6c6d857-285f-418e-8dff-b3c4c2f5eeea');\n",
              "          const dataTable =\n",
              "            await google.colab.kernel.invokeFunction('convertToInteractive',\n",
              "                                                     [key], {});\n",
              "          if (!dataTable) return;\n",
              "\n",
              "          const docLinkHtml = 'Like what you see? Visit the ' +\n",
              "            '<a target=\"_blank\" href=https://colab.research.google.com/notebooks/data_table.ipynb>data table notebook</a>'\n",
              "            + ' to learn more about interactive tables.';\n",
              "          element.innerHTML = '';\n",
              "          dataTable['output_type'] = 'display_data';\n",
              "          await google.colab.output.renderOutput(dataTable, element);\n",
              "          const docLink = document.createElement('div');\n",
              "          docLink.innerHTML = docLinkHtml;\n",
              "          element.appendChild(docLink);\n",
              "        }\n",
              "      </script>\n",
              "    </div>\n",
              "  </div>\n",
              "  "
            ]
          },
          "metadata": {},
          "execution_count": 122
        }
      ]
    },
    {
      "cell_type": "code",
      "source": [
        "data[data['question']==\"What year did Chopin leave Warsaw?\"]"
      ],
      "metadata": {
        "colab": {
          "base_uri": "https://localhost:8080/",
          "height": 350
        },
        "id": "kfOd-R6cy17Q",
        "outputId": "9a824615-14ae-4a1f-8798-a6ec91d1a13c"
      },
      "id": "kfOd-R6cy17Q",
      "execution_count": 123,
      "outputs": [
        {
          "output_type": "execute_result",
          "data": {
            "text/plain": [
              "                        index                            question  \\\n",
              "916  56cf66734df3c31400b0d714  What year did Chopin leave Warsaw?   \n",
              "920  56d3123b59d6e41400146205  What year did Chopin leave Warsaw?   \n",
              "\n",
              "                                               context  text  answer_start  \\\n",
              "916  In 1827, soon after the death of Chopin's youn...  1830         329.0   \n",
              "920  In 1827, soon after the death of Chopin's youn...  1830         329.0   \n",
              "\n",
              "     c_id  \n",
              "916    77  \n",
              "920    77  "
            ],
            "text/html": [
              "\n",
              "  <div id=\"df-b330fb0f-ad7f-4687-a3ce-45576f71d478\">\n",
              "    <div class=\"colab-df-container\">\n",
              "      <div>\n",
              "<style scoped>\n",
              "    .dataframe tbody tr th:only-of-type {\n",
              "        vertical-align: middle;\n",
              "    }\n",
              "\n",
              "    .dataframe tbody tr th {\n",
              "        vertical-align: top;\n",
              "    }\n",
              "\n",
              "    .dataframe thead th {\n",
              "        text-align: right;\n",
              "    }\n",
              "</style>\n",
              "<table border=\"1\" class=\"dataframe\">\n",
              "  <thead>\n",
              "    <tr style=\"text-align: right;\">\n",
              "      <th></th>\n",
              "      <th>index</th>\n",
              "      <th>question</th>\n",
              "      <th>context</th>\n",
              "      <th>text</th>\n",
              "      <th>answer_start</th>\n",
              "      <th>c_id</th>\n",
              "    </tr>\n",
              "  </thead>\n",
              "  <tbody>\n",
              "    <tr>\n",
              "      <th>916</th>\n",
              "      <td>56cf66734df3c31400b0d714</td>\n",
              "      <td>What year did Chopin leave Warsaw?</td>\n",
              "      <td>In 1827, soon after the death of Chopin's youn...</td>\n",
              "      <td>1830</td>\n",
              "      <td>329.0</td>\n",
              "      <td>77</td>\n",
              "    </tr>\n",
              "    <tr>\n",
              "      <th>920</th>\n",
              "      <td>56d3123b59d6e41400146205</td>\n",
              "      <td>What year did Chopin leave Warsaw?</td>\n",
              "      <td>In 1827, soon after the death of Chopin's youn...</td>\n",
              "      <td>1830</td>\n",
              "      <td>329.0</td>\n",
              "      <td>77</td>\n",
              "    </tr>\n",
              "  </tbody>\n",
              "</table>\n",
              "</div>\n",
              "      <button class=\"colab-df-convert\" onclick=\"convertToInteractive('df-b330fb0f-ad7f-4687-a3ce-45576f71d478')\"\n",
              "              title=\"Convert this dataframe to an interactive table.\"\n",
              "              style=\"display:none;\">\n",
              "        \n",
              "  <svg xmlns=\"http://www.w3.org/2000/svg\" height=\"24px\"viewBox=\"0 0 24 24\"\n",
              "       width=\"24px\">\n",
              "    <path d=\"M0 0h24v24H0V0z\" fill=\"none\"/>\n",
              "    <path d=\"M18.56 5.44l.94 2.06.94-2.06 2.06-.94-2.06-.94-.94-2.06-.94 2.06-2.06.94zm-11 1L8.5 8.5l.94-2.06 2.06-.94-2.06-.94L8.5 2.5l-.94 2.06-2.06.94zm10 10l.94 2.06.94-2.06 2.06-.94-2.06-.94-.94-2.06-.94 2.06-2.06.94z\"/><path d=\"M17.41 7.96l-1.37-1.37c-.4-.4-.92-.59-1.43-.59-.52 0-1.04.2-1.43.59L10.3 9.45l-7.72 7.72c-.78.78-.78 2.05 0 2.83L4 21.41c.39.39.9.59 1.41.59.51 0 1.02-.2 1.41-.59l7.78-7.78 2.81-2.81c.8-.78.8-2.07 0-2.86zM5.41 20L4 18.59l7.72-7.72 1.47 1.35L5.41 20z\"/>\n",
              "  </svg>\n",
              "      </button>\n",
              "      \n",
              "  <style>\n",
              "    .colab-df-container {\n",
              "      display:flex;\n",
              "      flex-wrap:wrap;\n",
              "      gap: 12px;\n",
              "    }\n",
              "\n",
              "    .colab-df-convert {\n",
              "      background-color: #E8F0FE;\n",
              "      border: none;\n",
              "      border-radius: 50%;\n",
              "      cursor: pointer;\n",
              "      display: none;\n",
              "      fill: #1967D2;\n",
              "      height: 32px;\n",
              "      padding: 0 0 0 0;\n",
              "      width: 32px;\n",
              "    }\n",
              "\n",
              "    .colab-df-convert:hover {\n",
              "      background-color: #E2EBFA;\n",
              "      box-shadow: 0px 1px 2px rgba(60, 64, 67, 0.3), 0px 1px 3px 1px rgba(60, 64, 67, 0.15);\n",
              "      fill: #174EA6;\n",
              "    }\n",
              "\n",
              "    [theme=dark] .colab-df-convert {\n",
              "      background-color: #3B4455;\n",
              "      fill: #D2E3FC;\n",
              "    }\n",
              "\n",
              "    [theme=dark] .colab-df-convert:hover {\n",
              "      background-color: #434B5C;\n",
              "      box-shadow: 0px 1px 3px 1px rgba(0, 0, 0, 0.15);\n",
              "      filter: drop-shadow(0px 1px 2px rgba(0, 0, 0, 0.3));\n",
              "      fill: #FFFFFF;\n",
              "    }\n",
              "  </style>\n",
              "\n",
              "      <script>\n",
              "        const buttonEl =\n",
              "          document.querySelector('#df-b330fb0f-ad7f-4687-a3ce-45576f71d478 button.colab-df-convert');\n",
              "        buttonEl.style.display =\n",
              "          google.colab.kernel.accessAllowed ? 'block' : 'none';\n",
              "\n",
              "        async function convertToInteractive(key) {\n",
              "          const element = document.querySelector('#df-b330fb0f-ad7f-4687-a3ce-45576f71d478');\n",
              "          const dataTable =\n",
              "            await google.colab.kernel.invokeFunction('convertToInteractive',\n",
              "                                                     [key], {});\n",
              "          if (!dataTable) return;\n",
              "\n",
              "          const docLinkHtml = 'Like what you see? Visit the ' +\n",
              "            '<a target=\"_blank\" href=https://colab.research.google.com/notebooks/data_table.ipynb>data table notebook</a>'\n",
              "            + ' to learn more about interactive tables.';\n",
              "          element.innerHTML = '';\n",
              "          dataTable['output_type'] = 'display_data';\n",
              "          await google.colab.output.renderOutput(dataTable, element);\n",
              "          const docLink = document.createElement('div');\n",
              "          docLink.innerHTML = docLinkHtml;\n",
              "          element.appendChild(docLink);\n",
              "        }\n",
              "      </script>\n",
              "    </div>\n",
              "  </div>\n",
              "  "
            ]
          },
          "metadata": {},
          "execution_count": 123
        }
      ]
    },
    {
      "cell_type": "markdown",
      "source": [
        "This is the case, we have several duplicates, let's remove them."
      ],
      "metadata": {
        "id": "K3dpvAp2xtTq"
      },
      "id": "K3dpvAp2xtTq"
    },
    {
      "cell_type": "code",
      "source": [
        "#Removing duplicates\n",
        "data = data.drop_duplicates(subset=col_to_check, keep='first')"
      ],
      "metadata": {
        "id": "FCD6pE6qzD4M"
      },
      "id": "FCD6pE6qzD4M",
      "execution_count": 124,
      "outputs": []
    },
    {
      "cell_type": "markdown",
      "source": [
        "Do we have Nan or others weird values?"
      ],
      "metadata": {
        "id": "JstiQERr1fih"
      },
      "id": "JstiQERr1fih"
    },
    {
      "cell_type": "code",
      "source": [
        "data.describe(include='all')"
      ],
      "metadata": {
        "colab": {
          "base_uri": "https://localhost:8080/",
          "height": 563
        },
        "id": "7nxyrCW_1gSR",
        "outputId": "59d71d34-7ba9-4135-c0b2-cc74052b8269"
      },
      "id": "7nxyrCW_1gSR",
      "execution_count": 125,
      "outputs": [
        {
          "output_type": "execute_result",
          "data": {
            "text/plain": [
              "                           index                              question  \\\n",
              "count                     130293                                130293   \n",
              "unique                    130293                                130217   \n",
              "top     56be85543aeaaa14008c9063  In what year did World War II start?   \n",
              "freq                           1                                     3   \n",
              "mean                         NaN                                   NaN   \n",
              "std                          NaN                                   NaN   \n",
              "min                          NaN                                   NaN   \n",
              "25%                          NaN                                   NaN   \n",
              "50%                          NaN                                   NaN   \n",
              "75%                          NaN                                   NaN   \n",
              "max                          NaN                                   NaN   \n",
              "\n",
              "                                                  context   text  \\\n",
              "count                                              130293  86798   \n",
              "unique                                              19029  64763   \n",
              "top     In 1853, Victoria gave birth to her eighth chi...  three   \n",
              "freq                                                   30    231   \n",
              "mean                                                  NaN    NaN   \n",
              "std                                                   NaN    NaN   \n",
              "min                                                   NaN    NaN   \n",
              "25%                                                   NaN    NaN   \n",
              "50%                                                   NaN    NaN   \n",
              "75%                                                   NaN    NaN   \n",
              "max                                                   NaN    NaN   \n",
              "\n",
              "        answer_start           c_id  \n",
              "count   86798.000000  130293.000000  \n",
              "unique           NaN            NaN  \n",
              "top              NaN            NaN  \n",
              "freq             NaN            NaN  \n",
              "mean      319.810791    9847.873792  \n",
              "std       266.383226    5364.786633  \n",
              "min         0.000000       0.000000  \n",
              "25%       111.000000    5627.000000  \n",
              "50%       262.000000    9965.000000  \n",
              "75%       468.000000   14459.000000  \n",
              "max      3126.000000   19028.000000  "
            ],
            "text/html": [
              "\n",
              "  <div id=\"df-c3fc3272-195d-4363-9c00-dfad59bcdefb\">\n",
              "    <div class=\"colab-df-container\">\n",
              "      <div>\n",
              "<style scoped>\n",
              "    .dataframe tbody tr th:only-of-type {\n",
              "        vertical-align: middle;\n",
              "    }\n",
              "\n",
              "    .dataframe tbody tr th {\n",
              "        vertical-align: top;\n",
              "    }\n",
              "\n",
              "    .dataframe thead th {\n",
              "        text-align: right;\n",
              "    }\n",
              "</style>\n",
              "<table border=\"1\" class=\"dataframe\">\n",
              "  <thead>\n",
              "    <tr style=\"text-align: right;\">\n",
              "      <th></th>\n",
              "      <th>index</th>\n",
              "      <th>question</th>\n",
              "      <th>context</th>\n",
              "      <th>text</th>\n",
              "      <th>answer_start</th>\n",
              "      <th>c_id</th>\n",
              "    </tr>\n",
              "  </thead>\n",
              "  <tbody>\n",
              "    <tr>\n",
              "      <th>count</th>\n",
              "      <td>130293</td>\n",
              "      <td>130293</td>\n",
              "      <td>130293</td>\n",
              "      <td>86798</td>\n",
              "      <td>86798.000000</td>\n",
              "      <td>130293.000000</td>\n",
              "    </tr>\n",
              "    <tr>\n",
              "      <th>unique</th>\n",
              "      <td>130293</td>\n",
              "      <td>130217</td>\n",
              "      <td>19029</td>\n",
              "      <td>64763</td>\n",
              "      <td>NaN</td>\n",
              "      <td>NaN</td>\n",
              "    </tr>\n",
              "    <tr>\n",
              "      <th>top</th>\n",
              "      <td>56be85543aeaaa14008c9063</td>\n",
              "      <td>In what year did World War II start?</td>\n",
              "      <td>In 1853, Victoria gave birth to her eighth chi...</td>\n",
              "      <td>three</td>\n",
              "      <td>NaN</td>\n",
              "      <td>NaN</td>\n",
              "    </tr>\n",
              "    <tr>\n",
              "      <th>freq</th>\n",
              "      <td>1</td>\n",
              "      <td>3</td>\n",
              "      <td>30</td>\n",
              "      <td>231</td>\n",
              "      <td>NaN</td>\n",
              "      <td>NaN</td>\n",
              "    </tr>\n",
              "    <tr>\n",
              "      <th>mean</th>\n",
              "      <td>NaN</td>\n",
              "      <td>NaN</td>\n",
              "      <td>NaN</td>\n",
              "      <td>NaN</td>\n",
              "      <td>319.810791</td>\n",
              "      <td>9847.873792</td>\n",
              "    </tr>\n",
              "    <tr>\n",
              "      <th>std</th>\n",
              "      <td>NaN</td>\n",
              "      <td>NaN</td>\n",
              "      <td>NaN</td>\n",
              "      <td>NaN</td>\n",
              "      <td>266.383226</td>\n",
              "      <td>5364.786633</td>\n",
              "    </tr>\n",
              "    <tr>\n",
              "      <th>min</th>\n",
              "      <td>NaN</td>\n",
              "      <td>NaN</td>\n",
              "      <td>NaN</td>\n",
              "      <td>NaN</td>\n",
              "      <td>0.000000</td>\n",
              "      <td>0.000000</td>\n",
              "    </tr>\n",
              "    <tr>\n",
              "      <th>25%</th>\n",
              "      <td>NaN</td>\n",
              "      <td>NaN</td>\n",
              "      <td>NaN</td>\n",
              "      <td>NaN</td>\n",
              "      <td>111.000000</td>\n",
              "      <td>5627.000000</td>\n",
              "    </tr>\n",
              "    <tr>\n",
              "      <th>50%</th>\n",
              "      <td>NaN</td>\n",
              "      <td>NaN</td>\n",
              "      <td>NaN</td>\n",
              "      <td>NaN</td>\n",
              "      <td>262.000000</td>\n",
              "      <td>9965.000000</td>\n",
              "    </tr>\n",
              "    <tr>\n",
              "      <th>75%</th>\n",
              "      <td>NaN</td>\n",
              "      <td>NaN</td>\n",
              "      <td>NaN</td>\n",
              "      <td>NaN</td>\n",
              "      <td>468.000000</td>\n",
              "      <td>14459.000000</td>\n",
              "    </tr>\n",
              "    <tr>\n",
              "      <th>max</th>\n",
              "      <td>NaN</td>\n",
              "      <td>NaN</td>\n",
              "      <td>NaN</td>\n",
              "      <td>NaN</td>\n",
              "      <td>3126.000000</td>\n",
              "      <td>19028.000000</td>\n",
              "    </tr>\n",
              "  </tbody>\n",
              "</table>\n",
              "</div>\n",
              "      <button class=\"colab-df-convert\" onclick=\"convertToInteractive('df-c3fc3272-195d-4363-9c00-dfad59bcdefb')\"\n",
              "              title=\"Convert this dataframe to an interactive table.\"\n",
              "              style=\"display:none;\">\n",
              "        \n",
              "  <svg xmlns=\"http://www.w3.org/2000/svg\" height=\"24px\"viewBox=\"0 0 24 24\"\n",
              "       width=\"24px\">\n",
              "    <path d=\"M0 0h24v24H0V0z\" fill=\"none\"/>\n",
              "    <path d=\"M18.56 5.44l.94 2.06.94-2.06 2.06-.94-2.06-.94-.94-2.06-.94 2.06-2.06.94zm-11 1L8.5 8.5l.94-2.06 2.06-.94-2.06-.94L8.5 2.5l-.94 2.06-2.06.94zm10 10l.94 2.06.94-2.06 2.06-.94-2.06-.94-.94-2.06-.94 2.06-2.06.94z\"/><path d=\"M17.41 7.96l-1.37-1.37c-.4-.4-.92-.59-1.43-.59-.52 0-1.04.2-1.43.59L10.3 9.45l-7.72 7.72c-.78.78-.78 2.05 0 2.83L4 21.41c.39.39.9.59 1.41.59.51 0 1.02-.2 1.41-.59l7.78-7.78 2.81-2.81c.8-.78.8-2.07 0-2.86zM5.41 20L4 18.59l7.72-7.72 1.47 1.35L5.41 20z\"/>\n",
              "  </svg>\n",
              "      </button>\n",
              "      \n",
              "  <style>\n",
              "    .colab-df-container {\n",
              "      display:flex;\n",
              "      flex-wrap:wrap;\n",
              "      gap: 12px;\n",
              "    }\n",
              "\n",
              "    .colab-df-convert {\n",
              "      background-color: #E8F0FE;\n",
              "      border: none;\n",
              "      border-radius: 50%;\n",
              "      cursor: pointer;\n",
              "      display: none;\n",
              "      fill: #1967D2;\n",
              "      height: 32px;\n",
              "      padding: 0 0 0 0;\n",
              "      width: 32px;\n",
              "    }\n",
              "\n",
              "    .colab-df-convert:hover {\n",
              "      background-color: #E2EBFA;\n",
              "      box-shadow: 0px 1px 2px rgba(60, 64, 67, 0.3), 0px 1px 3px 1px rgba(60, 64, 67, 0.15);\n",
              "      fill: #174EA6;\n",
              "    }\n",
              "\n",
              "    [theme=dark] .colab-df-convert {\n",
              "      background-color: #3B4455;\n",
              "      fill: #D2E3FC;\n",
              "    }\n",
              "\n",
              "    [theme=dark] .colab-df-convert:hover {\n",
              "      background-color: #434B5C;\n",
              "      box-shadow: 0px 1px 3px 1px rgba(0, 0, 0, 0.15);\n",
              "      filter: drop-shadow(0px 1px 2px rgba(0, 0, 0, 0.3));\n",
              "      fill: #FFFFFF;\n",
              "    }\n",
              "  </style>\n",
              "\n",
              "      <script>\n",
              "        const buttonEl =\n",
              "          document.querySelector('#df-c3fc3272-195d-4363-9c00-dfad59bcdefb button.colab-df-convert');\n",
              "        buttonEl.style.display =\n",
              "          google.colab.kernel.accessAllowed ? 'block' : 'none';\n",
              "\n",
              "        async function convertToInteractive(key) {\n",
              "          const element = document.querySelector('#df-c3fc3272-195d-4363-9c00-dfad59bcdefb');\n",
              "          const dataTable =\n",
              "            await google.colab.kernel.invokeFunction('convertToInteractive',\n",
              "                                                     [key], {});\n",
              "          if (!dataTable) return;\n",
              "\n",
              "          const docLinkHtml = 'Like what you see? Visit the ' +\n",
              "            '<a target=\"_blank\" href=https://colab.research.google.com/notebooks/data_table.ipynb>data table notebook</a>'\n",
              "            + ' to learn more about interactive tables.';\n",
              "          element.innerHTML = '';\n",
              "          dataTable['output_type'] = 'display_data';\n",
              "          await google.colab.output.renderOutput(dataTable, element);\n",
              "          const docLink = document.createElement('div');\n",
              "          docLink.innerHTML = docLinkHtml;\n",
              "          element.appendChild(docLink);\n",
              "        }\n",
              "      </script>\n",
              "    </div>\n",
              "  </div>\n",
              "  "
            ]
          },
          "metadata": {},
          "execution_count": 125
        }
      ]
    },
    {
      "cell_type": "markdown",
      "source": [
        "Looking at the above table, we can see that we don't have any missing values for 'index', 'question', 'context'. But we have a lot of missing values for the answers.\n",
        "\n",
        "Interstingly, we have still some questions that are the same. Let's look at this in more detail"
      ],
      "metadata": {
        "id": "9fMeozEb7wQU"
      },
      "id": "9fMeozEb7wQU"
    },
    {
      "cell_type": "code",
      "source": [
        "#Same question and context data\n",
        "data[data[['question','context']].duplicated(keep=False)]"
      ],
      "metadata": {
        "colab": {
          "base_uri": "https://localhost:8080/",
          "height": 1000
        },
        "id": "y_EsPNrm8NwD",
        "outputId": "21a88866-43c1-45da-d01d-af97e4b3d0b9"
      },
      "id": "y_EsPNrm8NwD",
      "execution_count": 126,
      "outputs": [
        {
          "output_type": "execute_result",
          "data": {
            "text/plain": [
              "                           index  \\\n",
              "1226    56cf5433aab44d1400b88ff1   \n",
              "1230    56d3a9bb2ccc5a1400d82ddc   \n",
              "1255    56cfe7f4234ae51400d9c060   \n",
              "1258    56d375b859d6e4140014646b   \n",
              "1285    56cfeae2234ae51400d9c0b9   \n",
              "...                          ...   \n",
              "126760  5aced07232bba1001ae4b538   \n",
              "129292  5734465d879d6814001ca466   \n",
              "129295  5735e8736c16ec1900b9288a   \n",
              "129520  57345181879d6814001ca509   \n",
              "129524  573610e9012e2f140011a18a   \n",
              "\n",
              "                                                 question  \\\n",
              "1226                         Who orchestrated Chopiniana?   \n",
              "1230                         Who orchestrated Chopiniana?   \n",
              "1255          Where was Chopin's last public performance?   \n",
              "1258          Where was Chopin's last public performance?   \n",
              "1285                     Where was Chopin's funeral held?   \n",
              "...                                                   ...   \n",
              "126760  Why did Wilson rotate officers between communi...   \n",
              "129292  Who are the only remaining full-time hunter-ga...   \n",
              "129295  Who are the only remaining full-time hunter-ga...   \n",
              "129520  What percentage of Americans actually hunted a...   \n",
              "129524  What percentage of Americans actually hunted a...   \n",
              "\n",
              "                                                  context  \\\n",
              "1226    Chopin's music was used in the 1909 ballet Cho...   \n",
              "1230    Chopin's music was used in the 1909 ballet Cho...   \n",
              "1255    Chopin made his last public appearance on a co...   \n",
              "1258    Chopin made his last public appearance on a co...   \n",
              "1285    The funeral, held at the Church of the Madelei...   \n",
              "...                                                   ...   \n",
              "126760  In the United States, August Vollmer introduce...   \n",
              "129292  Hunter-gathering lifestyles remained prevalent...   \n",
              "129295  Hunter-gathering lifestyles remained prevalent...   \n",
              "129520  Hunting in the United States is not associated...   \n",
              "129524  Hunting in the United States is not associated...   \n",
              "\n",
              "                           text  answer_start   c_id  \n",
              "1226         Alexander Glazunov         106.0    108  \n",
              "1230        Alexander Glazunov.         106.0    108  \n",
              "1255                  Guildhall          73.0    112  \n",
              "1258         London's Guildhall          64.0    112  \n",
              "1285    Church of the Madeleine          25.0    117  \n",
              "...                         ...           ...    ...  \n",
              "126760                      NaN           NaN  18530  \n",
              "129292    the Hadza of Tanzania         625.0  18883  \n",
              "129295        Hadza of Tanzania         629.0  18883  \n",
              "129520         just six percent         251.0  18899  \n",
              "129524              six percent         256.0  18899  \n",
              "\n",
              "[76 rows x 6 columns]"
            ],
            "text/html": [
              "\n",
              "  <div id=\"df-7f750b89-63d4-4bae-b91a-69cf8317afb8\">\n",
              "    <div class=\"colab-df-container\">\n",
              "      <div>\n",
              "<style scoped>\n",
              "    .dataframe tbody tr th:only-of-type {\n",
              "        vertical-align: middle;\n",
              "    }\n",
              "\n",
              "    .dataframe tbody tr th {\n",
              "        vertical-align: top;\n",
              "    }\n",
              "\n",
              "    .dataframe thead th {\n",
              "        text-align: right;\n",
              "    }\n",
              "</style>\n",
              "<table border=\"1\" class=\"dataframe\">\n",
              "  <thead>\n",
              "    <tr style=\"text-align: right;\">\n",
              "      <th></th>\n",
              "      <th>index</th>\n",
              "      <th>question</th>\n",
              "      <th>context</th>\n",
              "      <th>text</th>\n",
              "      <th>answer_start</th>\n",
              "      <th>c_id</th>\n",
              "    </tr>\n",
              "  </thead>\n",
              "  <tbody>\n",
              "    <tr>\n",
              "      <th>1226</th>\n",
              "      <td>56cf5433aab44d1400b88ff1</td>\n",
              "      <td>Who orchestrated Chopiniana?</td>\n",
              "      <td>Chopin's music was used in the 1909 ballet Cho...</td>\n",
              "      <td>Alexander Glazunov</td>\n",
              "      <td>106.0</td>\n",
              "      <td>108</td>\n",
              "    </tr>\n",
              "    <tr>\n",
              "      <th>1230</th>\n",
              "      <td>56d3a9bb2ccc5a1400d82ddc</td>\n",
              "      <td>Who orchestrated Chopiniana?</td>\n",
              "      <td>Chopin's music was used in the 1909 ballet Cho...</td>\n",
              "      <td>Alexander Glazunov.</td>\n",
              "      <td>106.0</td>\n",
              "      <td>108</td>\n",
              "    </tr>\n",
              "    <tr>\n",
              "      <th>1255</th>\n",
              "      <td>56cfe7f4234ae51400d9c060</td>\n",
              "      <td>Where was Chopin's last public performance?</td>\n",
              "      <td>Chopin made his last public appearance on a co...</td>\n",
              "      <td>Guildhall</td>\n",
              "      <td>73.0</td>\n",
              "      <td>112</td>\n",
              "    </tr>\n",
              "    <tr>\n",
              "      <th>1258</th>\n",
              "      <td>56d375b859d6e4140014646b</td>\n",
              "      <td>Where was Chopin's last public performance?</td>\n",
              "      <td>Chopin made his last public appearance on a co...</td>\n",
              "      <td>London's Guildhall</td>\n",
              "      <td>64.0</td>\n",
              "      <td>112</td>\n",
              "    </tr>\n",
              "    <tr>\n",
              "      <th>1285</th>\n",
              "      <td>56cfeae2234ae51400d9c0b9</td>\n",
              "      <td>Where was Chopin's funeral held?</td>\n",
              "      <td>The funeral, held at the Church of the Madelei...</td>\n",
              "      <td>Church of the Madeleine</td>\n",
              "      <td>25.0</td>\n",
              "      <td>117</td>\n",
              "    </tr>\n",
              "    <tr>\n",
              "      <th>...</th>\n",
              "      <td>...</td>\n",
              "      <td>...</td>\n",
              "      <td>...</td>\n",
              "      <td>...</td>\n",
              "      <td>...</td>\n",
              "      <td>...</td>\n",
              "    </tr>\n",
              "    <tr>\n",
              "      <th>126760</th>\n",
              "      <td>5aced07232bba1001ae4b538</td>\n",
              "      <td>Why did Wilson rotate officers between communi...</td>\n",
              "      <td>In the United States, August Vollmer introduce...</td>\n",
              "      <td>NaN</td>\n",
              "      <td>NaN</td>\n",
              "      <td>18530</td>\n",
              "    </tr>\n",
              "    <tr>\n",
              "      <th>129292</th>\n",
              "      <td>5734465d879d6814001ca466</td>\n",
              "      <td>Who are the only remaining full-time hunter-ga...</td>\n",
              "      <td>Hunter-gathering lifestyles remained prevalent...</td>\n",
              "      <td>the Hadza of Tanzania</td>\n",
              "      <td>625.0</td>\n",
              "      <td>18883</td>\n",
              "    </tr>\n",
              "    <tr>\n",
              "      <th>129295</th>\n",
              "      <td>5735e8736c16ec1900b9288a</td>\n",
              "      <td>Who are the only remaining full-time hunter-ga...</td>\n",
              "      <td>Hunter-gathering lifestyles remained prevalent...</td>\n",
              "      <td>Hadza of Tanzania</td>\n",
              "      <td>629.0</td>\n",
              "      <td>18883</td>\n",
              "    </tr>\n",
              "    <tr>\n",
              "      <th>129520</th>\n",
              "      <td>57345181879d6814001ca509</td>\n",
              "      <td>What percentage of Americans actually hunted a...</td>\n",
              "      <td>Hunting in the United States is not associated...</td>\n",
              "      <td>just six percent</td>\n",
              "      <td>251.0</td>\n",
              "      <td>18899</td>\n",
              "    </tr>\n",
              "    <tr>\n",
              "      <th>129524</th>\n",
              "      <td>573610e9012e2f140011a18a</td>\n",
              "      <td>What percentage of Americans actually hunted a...</td>\n",
              "      <td>Hunting in the United States is not associated...</td>\n",
              "      <td>six percent</td>\n",
              "      <td>256.0</td>\n",
              "      <td>18899</td>\n",
              "    </tr>\n",
              "  </tbody>\n",
              "</table>\n",
              "<p>76 rows × 6 columns</p>\n",
              "</div>\n",
              "      <button class=\"colab-df-convert\" onclick=\"convertToInteractive('df-7f750b89-63d4-4bae-b91a-69cf8317afb8')\"\n",
              "              title=\"Convert this dataframe to an interactive table.\"\n",
              "              style=\"display:none;\">\n",
              "        \n",
              "  <svg xmlns=\"http://www.w3.org/2000/svg\" height=\"24px\"viewBox=\"0 0 24 24\"\n",
              "       width=\"24px\">\n",
              "    <path d=\"M0 0h24v24H0V0z\" fill=\"none\"/>\n",
              "    <path d=\"M18.56 5.44l.94 2.06.94-2.06 2.06-.94-2.06-.94-.94-2.06-.94 2.06-2.06.94zm-11 1L8.5 8.5l.94-2.06 2.06-.94-2.06-.94L8.5 2.5l-.94 2.06-2.06.94zm10 10l.94 2.06.94-2.06 2.06-.94-2.06-.94-.94-2.06-.94 2.06-2.06.94z\"/><path d=\"M17.41 7.96l-1.37-1.37c-.4-.4-.92-.59-1.43-.59-.52 0-1.04.2-1.43.59L10.3 9.45l-7.72 7.72c-.78.78-.78 2.05 0 2.83L4 21.41c.39.39.9.59 1.41.59.51 0 1.02-.2 1.41-.59l7.78-7.78 2.81-2.81c.8-.78.8-2.07 0-2.86zM5.41 20L4 18.59l7.72-7.72 1.47 1.35L5.41 20z\"/>\n",
              "  </svg>\n",
              "      </button>\n",
              "      \n",
              "  <style>\n",
              "    .colab-df-container {\n",
              "      display:flex;\n",
              "      flex-wrap:wrap;\n",
              "      gap: 12px;\n",
              "    }\n",
              "\n",
              "    .colab-df-convert {\n",
              "      background-color: #E8F0FE;\n",
              "      border: none;\n",
              "      border-radius: 50%;\n",
              "      cursor: pointer;\n",
              "      display: none;\n",
              "      fill: #1967D2;\n",
              "      height: 32px;\n",
              "      padding: 0 0 0 0;\n",
              "      width: 32px;\n",
              "    }\n",
              "\n",
              "    .colab-df-convert:hover {\n",
              "      background-color: #E2EBFA;\n",
              "      box-shadow: 0px 1px 2px rgba(60, 64, 67, 0.3), 0px 1px 3px 1px rgba(60, 64, 67, 0.15);\n",
              "      fill: #174EA6;\n",
              "    }\n",
              "\n",
              "    [theme=dark] .colab-df-convert {\n",
              "      background-color: #3B4455;\n",
              "      fill: #D2E3FC;\n",
              "    }\n",
              "\n",
              "    [theme=dark] .colab-df-convert:hover {\n",
              "      background-color: #434B5C;\n",
              "      box-shadow: 0px 1px 3px 1px rgba(0, 0, 0, 0.15);\n",
              "      filter: drop-shadow(0px 1px 2px rgba(0, 0, 0, 0.3));\n",
              "      fill: #FFFFFF;\n",
              "    }\n",
              "  </style>\n",
              "\n",
              "      <script>\n",
              "        const buttonEl =\n",
              "          document.querySelector('#df-7f750b89-63d4-4bae-b91a-69cf8317afb8 button.colab-df-convert');\n",
              "        buttonEl.style.display =\n",
              "          google.colab.kernel.accessAllowed ? 'block' : 'none';\n",
              "\n",
              "        async function convertToInteractive(key) {\n",
              "          const element = document.querySelector('#df-7f750b89-63d4-4bae-b91a-69cf8317afb8');\n",
              "          const dataTable =\n",
              "            await google.colab.kernel.invokeFunction('convertToInteractive',\n",
              "                                                     [key], {});\n",
              "          if (!dataTable) return;\n",
              "\n",
              "          const docLinkHtml = 'Like what you see? Visit the ' +\n",
              "            '<a target=\"_blank\" href=https://colab.research.google.com/notebooks/data_table.ipynb>data table notebook</a>'\n",
              "            + ' to learn more about interactive tables.';\n",
              "          element.innerHTML = '';\n",
              "          dataTable['output_type'] = 'display_data';\n",
              "          await google.colab.output.renderOutput(dataTable, element);\n",
              "          const docLink = document.createElement('div');\n",
              "          docLink.innerHTML = docLinkHtml;\n",
              "          element.appendChild(docLink);\n",
              "        }\n",
              "      </script>\n",
              "    </div>\n",
              "  </div>\n",
              "  "
            ]
          },
          "metadata": {},
          "execution_count": 126
        }
      ]
    },
    {
      "cell_type": "markdown",
      "source": [
        "We can see that for some identical question/context, we can obtain different answers values (the are almost the same, except that they are composed of an extra '.', or extra useless words like 'the').\n",
        "As we are lazy to clean this part of data, and as it concerned only 76 rows on the 130 000 available, let's remove all this data."
      ],
      "metadata": {
        "id": "5X6t4kuS9H-t"
      },
      "id": "5X6t4kuS9H-t"
    },
    {
      "cell_type": "code",
      "source": [
        "#Removing duplicates\n",
        "data = data.drop_duplicates(subset=['question','context'], keep=False)"
      ],
      "metadata": {
        "id": "wbW_xP-U9Hbq"
      },
      "id": "wbW_xP-U9Hbq",
      "execution_count": 127,
      "outputs": []
    },
    {
      "cell_type": "code",
      "source": [
        "#Same question\n",
        "data[data['question'].duplicated(keep=False)].head(10)"
      ],
      "metadata": {
        "colab": {
          "base_uri": "https://localhost:8080/",
          "height": 1000
        },
        "id": "mnR645I0-XJ9",
        "outputId": "0543f212-c4f1-4831-fb08-7b8a18d8ef04"
      },
      "id": "mnR645I0-XJ9",
      "execution_count": 128,
      "outputs": [
        {
          "output_type": "execute_result",
          "data": {
            "text/plain": [
              "                          index  \\\n",
              "786    56d1cd98e7d4791d009021e6   \n",
              "982    56cf6d3e4df3c31400b0d783   \n",
              "1882   56cc858b6d243a140015efec   \n",
              "10723  5ad0ccaa645df0001a2d03ac   \n",
              "10749  56de4347cffd8e1900b4b741   \n",
              "10992  56de4fd0cffd8e1900b4b7f4   \n",
              "17651  5ad12b14645df0001a2d1070   \n",
              "17984  5ad165eb645df0001a2d19ac   \n",
              "20217  56e792e237bdd419002c417f   \n",
              "23864  56f970019b226e1400dd145e   \n",
              "\n",
              "                                                question  \\\n",
              "786     In what year did Chopin become a French citizen?   \n",
              "982     In what year did Chopin become a French citizen?   \n",
              "1882                            What does DRM stand for?   \n",
              "10723  On what date was the 2010 Human Development Re...   \n",
              "10749  On what date was the 2010 Human Development Re...   \n",
              "10992                        When did the USSR dissolve?   \n",
              "17651                           What does IPM stand for?   \n",
              "17984                             What happened in 1970?   \n",
              "20217                   When did Japan invade Manchuria?   \n",
              "23864                                     What is copra?   \n",
              "\n",
              "                                                 context  \\\n",
              "786    At the age of 21 he settled in Paris. Thereaft...   \n",
              "982    Chopin arrived in Paris in late September 1831...   \n",
              "1882   The iPod line can play several audio file form...   \n",
              "10723  The 2014 Human Development Report by the Unite...   \n",
              "10749  The 2010 Human Development Report by the Unite...   \n",
              "10992  Italy became a major industrialized country ag...   \n",
              "17651  Soon, Laemmle and other disgruntled nickelodeo...   \n",
              "17984  In the early 1950s, Universal set up its own d...   \n",
              "20217  In 1937, the Empire of Japan started a full-sc...   \n",
              "23864  On September 15, 2007, Witon Barry (of the Tob...   \n",
              "\n",
              "                            text  answer_start  c_id  \n",
              "786                         1835         415.0    67  \n",
              "982                         1835         251.0    82  \n",
              "1882   Digital Rights Management         729.0   242  \n",
              "10723                        NaN           NaN  1712  \n",
              "10749           November 4, 2010          92.0  1718  \n",
              "10992                       1991         474.0  1759  \n",
              "17651                        NaN           NaN  3018  \n",
              "17984                        NaN           NaN  3056  \n",
              "20217                       1931          96.0  3378  \n",
              "23864    the meat of the coconut         354.0  4059  "
            ],
            "text/html": [
              "\n",
              "  <div id=\"df-3b8b9a74-f237-4eee-ba2f-90426db6bb66\">\n",
              "    <div class=\"colab-df-container\">\n",
              "      <div>\n",
              "<style scoped>\n",
              "    .dataframe tbody tr th:only-of-type {\n",
              "        vertical-align: middle;\n",
              "    }\n",
              "\n",
              "    .dataframe tbody tr th {\n",
              "        vertical-align: top;\n",
              "    }\n",
              "\n",
              "    .dataframe thead th {\n",
              "        text-align: right;\n",
              "    }\n",
              "</style>\n",
              "<table border=\"1\" class=\"dataframe\">\n",
              "  <thead>\n",
              "    <tr style=\"text-align: right;\">\n",
              "      <th></th>\n",
              "      <th>index</th>\n",
              "      <th>question</th>\n",
              "      <th>context</th>\n",
              "      <th>text</th>\n",
              "      <th>answer_start</th>\n",
              "      <th>c_id</th>\n",
              "    </tr>\n",
              "  </thead>\n",
              "  <tbody>\n",
              "    <tr>\n",
              "      <th>786</th>\n",
              "      <td>56d1cd98e7d4791d009021e6</td>\n",
              "      <td>In what year did Chopin become a French citizen?</td>\n",
              "      <td>At the age of 21 he settled in Paris. Thereaft...</td>\n",
              "      <td>1835</td>\n",
              "      <td>415.0</td>\n",
              "      <td>67</td>\n",
              "    </tr>\n",
              "    <tr>\n",
              "      <th>982</th>\n",
              "      <td>56cf6d3e4df3c31400b0d783</td>\n",
              "      <td>In what year did Chopin become a French citizen?</td>\n",
              "      <td>Chopin arrived in Paris in late September 1831...</td>\n",
              "      <td>1835</td>\n",
              "      <td>251.0</td>\n",
              "      <td>82</td>\n",
              "    </tr>\n",
              "    <tr>\n",
              "      <th>1882</th>\n",
              "      <td>56cc858b6d243a140015efec</td>\n",
              "      <td>What does DRM stand for?</td>\n",
              "      <td>The iPod line can play several audio file form...</td>\n",
              "      <td>Digital Rights Management</td>\n",
              "      <td>729.0</td>\n",
              "      <td>242</td>\n",
              "    </tr>\n",
              "    <tr>\n",
              "      <th>10723</th>\n",
              "      <td>5ad0ccaa645df0001a2d03ac</td>\n",
              "      <td>On what date was the 2010 Human Development Re...</td>\n",
              "      <td>The 2014 Human Development Report by the Unite...</td>\n",
              "      <td>NaN</td>\n",
              "      <td>NaN</td>\n",
              "      <td>1712</td>\n",
              "    </tr>\n",
              "    <tr>\n",
              "      <th>10749</th>\n",
              "      <td>56de4347cffd8e1900b4b741</td>\n",
              "      <td>On what date was the 2010 Human Development Re...</td>\n",
              "      <td>The 2010 Human Development Report by the Unite...</td>\n",
              "      <td>November 4, 2010</td>\n",
              "      <td>92.0</td>\n",
              "      <td>1718</td>\n",
              "    </tr>\n",
              "    <tr>\n",
              "      <th>10992</th>\n",
              "      <td>56de4fd0cffd8e1900b4b7f4</td>\n",
              "      <td>When did the USSR dissolve?</td>\n",
              "      <td>Italy became a major industrialized country ag...</td>\n",
              "      <td>1991</td>\n",
              "      <td>474.0</td>\n",
              "      <td>1759</td>\n",
              "    </tr>\n",
              "    <tr>\n",
              "      <th>17651</th>\n",
              "      <td>5ad12b14645df0001a2d1070</td>\n",
              "      <td>What does IPM stand for?</td>\n",
              "      <td>Soon, Laemmle and other disgruntled nickelodeo...</td>\n",
              "      <td>NaN</td>\n",
              "      <td>NaN</td>\n",
              "      <td>3018</td>\n",
              "    </tr>\n",
              "    <tr>\n",
              "      <th>17984</th>\n",
              "      <td>5ad165eb645df0001a2d19ac</td>\n",
              "      <td>What happened in 1970?</td>\n",
              "      <td>In the early 1950s, Universal set up its own d...</td>\n",
              "      <td>NaN</td>\n",
              "      <td>NaN</td>\n",
              "      <td>3056</td>\n",
              "    </tr>\n",
              "    <tr>\n",
              "      <th>20217</th>\n",
              "      <td>56e792e237bdd419002c417f</td>\n",
              "      <td>When did Japan invade Manchuria?</td>\n",
              "      <td>In 1937, the Empire of Japan started a full-sc...</td>\n",
              "      <td>1931</td>\n",
              "      <td>96.0</td>\n",
              "      <td>3378</td>\n",
              "    </tr>\n",
              "    <tr>\n",
              "      <th>23864</th>\n",
              "      <td>56f970019b226e1400dd145e</td>\n",
              "      <td>What is copra?</td>\n",
              "      <td>On September 15, 2007, Witon Barry (of the Tob...</td>\n",
              "      <td>the meat of the coconut</td>\n",
              "      <td>354.0</td>\n",
              "      <td>4059</td>\n",
              "    </tr>\n",
              "  </tbody>\n",
              "</table>\n",
              "</div>\n",
              "      <button class=\"colab-df-convert\" onclick=\"convertToInteractive('df-3b8b9a74-f237-4eee-ba2f-90426db6bb66')\"\n",
              "              title=\"Convert this dataframe to an interactive table.\"\n",
              "              style=\"display:none;\">\n",
              "        \n",
              "  <svg xmlns=\"http://www.w3.org/2000/svg\" height=\"24px\"viewBox=\"0 0 24 24\"\n",
              "       width=\"24px\">\n",
              "    <path d=\"M0 0h24v24H0V0z\" fill=\"none\"/>\n",
              "    <path d=\"M18.56 5.44l.94 2.06.94-2.06 2.06-.94-2.06-.94-.94-2.06-.94 2.06-2.06.94zm-11 1L8.5 8.5l.94-2.06 2.06-.94-2.06-.94L8.5 2.5l-.94 2.06-2.06.94zm10 10l.94 2.06.94-2.06 2.06-.94-2.06-.94-.94-2.06-.94 2.06-2.06.94z\"/><path d=\"M17.41 7.96l-1.37-1.37c-.4-.4-.92-.59-1.43-.59-.52 0-1.04.2-1.43.59L10.3 9.45l-7.72 7.72c-.78.78-.78 2.05 0 2.83L4 21.41c.39.39.9.59 1.41.59.51 0 1.02-.2 1.41-.59l7.78-7.78 2.81-2.81c.8-.78.8-2.07 0-2.86zM5.41 20L4 18.59l7.72-7.72 1.47 1.35L5.41 20z\"/>\n",
              "  </svg>\n",
              "      </button>\n",
              "      \n",
              "  <style>\n",
              "    .colab-df-container {\n",
              "      display:flex;\n",
              "      flex-wrap:wrap;\n",
              "      gap: 12px;\n",
              "    }\n",
              "\n",
              "    .colab-df-convert {\n",
              "      background-color: #E8F0FE;\n",
              "      border: none;\n",
              "      border-radius: 50%;\n",
              "      cursor: pointer;\n",
              "      display: none;\n",
              "      fill: #1967D2;\n",
              "      height: 32px;\n",
              "      padding: 0 0 0 0;\n",
              "      width: 32px;\n",
              "    }\n",
              "\n",
              "    .colab-df-convert:hover {\n",
              "      background-color: #E2EBFA;\n",
              "      box-shadow: 0px 1px 2px rgba(60, 64, 67, 0.3), 0px 1px 3px 1px rgba(60, 64, 67, 0.15);\n",
              "      fill: #174EA6;\n",
              "    }\n",
              "\n",
              "    [theme=dark] .colab-df-convert {\n",
              "      background-color: #3B4455;\n",
              "      fill: #D2E3FC;\n",
              "    }\n",
              "\n",
              "    [theme=dark] .colab-df-convert:hover {\n",
              "      background-color: #434B5C;\n",
              "      box-shadow: 0px 1px 3px 1px rgba(0, 0, 0, 0.15);\n",
              "      filter: drop-shadow(0px 1px 2px rgba(0, 0, 0, 0.3));\n",
              "      fill: #FFFFFF;\n",
              "    }\n",
              "  </style>\n",
              "\n",
              "      <script>\n",
              "        const buttonEl =\n",
              "          document.querySelector('#df-3b8b9a74-f237-4eee-ba2f-90426db6bb66 button.colab-df-convert');\n",
              "        buttonEl.style.display =\n",
              "          google.colab.kernel.accessAllowed ? 'block' : 'none';\n",
              "\n",
              "        async function convertToInteractive(key) {\n",
              "          const element = document.querySelector('#df-3b8b9a74-f237-4eee-ba2f-90426db6bb66');\n",
              "          const dataTable =\n",
              "            await google.colab.kernel.invokeFunction('convertToInteractive',\n",
              "                                                     [key], {});\n",
              "          if (!dataTable) return;\n",
              "\n",
              "          const docLinkHtml = 'Like what you see? Visit the ' +\n",
              "            '<a target=\"_blank\" href=https://colab.research.google.com/notebooks/data_table.ipynb>data table notebook</a>'\n",
              "            + ' to learn more about interactive tables.';\n",
              "          element.innerHTML = '';\n",
              "          dataTable['output_type'] = 'display_data';\n",
              "          await google.colab.output.renderOutput(dataTable, element);\n",
              "          const docLink = document.createElement('div');\n",
              "          docLink.innerHTML = docLinkHtml;\n",
              "          element.appendChild(docLink);\n",
              "        }\n",
              "      </script>\n",
              "    </div>\n",
              "  </div>\n",
              "  "
            ]
          },
          "metadata": {},
          "execution_count": 128
        }
      ]
    },
    {
      "cell_type": "markdown",
      "source": [
        "We can have the same question for different context. We keep this data."
      ],
      "metadata": {
        "id": "sQ5hCn3A-rs2"
      },
      "id": "sQ5hCn3A-rs2"
    },
    {
      "cell_type": "code",
      "source": [
        "data.describe(include='all')"
      ],
      "metadata": {
        "colab": {
          "base_uri": "https://localhost:8080/",
          "height": 563
        },
        "id": "Io1jOjYm_aJ7",
        "outputId": "b073084e-a49b-4444-ed9f-2323a5af8dea"
      },
      "id": "Io1jOjYm_aJ7",
      "execution_count": 129,
      "outputs": [
        {
          "output_type": "execute_result",
          "data": {
            "text/plain": [
              "                           index                              question  \\\n",
              "count                     130217                                130217   \n",
              "unique                    130217                                130179   \n",
              "top     56be85543aeaaa14008c9063  In what year did World War II start?   \n",
              "freq                           1                                     3   \n",
              "mean                         NaN                                   NaN   \n",
              "std                          NaN                                   NaN   \n",
              "min                          NaN                                   NaN   \n",
              "25%                          NaN                                   NaN   \n",
              "50%                          NaN                                   NaN   \n",
              "75%                          NaN                                   NaN   \n",
              "max                          NaN                                   NaN   \n",
              "\n",
              "                                                  context   text  \\\n",
              "count                                              130217  86747   \n",
              "unique                                              19029  64726   \n",
              "top     In 1853, Victoria gave birth to her eighth chi...  three   \n",
              "freq                                                   30    231   \n",
              "mean                                                  NaN    NaN   \n",
              "std                                                   NaN    NaN   \n",
              "min                                                   NaN    NaN   \n",
              "25%                                                   NaN    NaN   \n",
              "50%                                                   NaN    NaN   \n",
              "75%                                                   NaN    NaN   \n",
              "max                                                   NaN    NaN   \n",
              "\n",
              "        answer_start           c_id  \n",
              "count   86747.000000  130217.000000  \n",
              "unique           NaN            NaN  \n",
              "top              NaN            NaN  \n",
              "freq             NaN            NaN  \n",
              "mean      319.834830    9847.745609  \n",
              "std       266.370408    5364.512350  \n",
              "min         0.000000       0.000000  \n",
              "25%       111.000000    5627.000000  \n",
              "50%       262.000000    9964.000000  \n",
              "75%       468.000000   14459.000000  \n",
              "max      3126.000000   19028.000000  "
            ],
            "text/html": [
              "\n",
              "  <div id=\"df-258b6d85-0edb-4bc3-a255-a2f970475334\">\n",
              "    <div class=\"colab-df-container\">\n",
              "      <div>\n",
              "<style scoped>\n",
              "    .dataframe tbody tr th:only-of-type {\n",
              "        vertical-align: middle;\n",
              "    }\n",
              "\n",
              "    .dataframe tbody tr th {\n",
              "        vertical-align: top;\n",
              "    }\n",
              "\n",
              "    .dataframe thead th {\n",
              "        text-align: right;\n",
              "    }\n",
              "</style>\n",
              "<table border=\"1\" class=\"dataframe\">\n",
              "  <thead>\n",
              "    <tr style=\"text-align: right;\">\n",
              "      <th></th>\n",
              "      <th>index</th>\n",
              "      <th>question</th>\n",
              "      <th>context</th>\n",
              "      <th>text</th>\n",
              "      <th>answer_start</th>\n",
              "      <th>c_id</th>\n",
              "    </tr>\n",
              "  </thead>\n",
              "  <tbody>\n",
              "    <tr>\n",
              "      <th>count</th>\n",
              "      <td>130217</td>\n",
              "      <td>130217</td>\n",
              "      <td>130217</td>\n",
              "      <td>86747</td>\n",
              "      <td>86747.000000</td>\n",
              "      <td>130217.000000</td>\n",
              "    </tr>\n",
              "    <tr>\n",
              "      <th>unique</th>\n",
              "      <td>130217</td>\n",
              "      <td>130179</td>\n",
              "      <td>19029</td>\n",
              "      <td>64726</td>\n",
              "      <td>NaN</td>\n",
              "      <td>NaN</td>\n",
              "    </tr>\n",
              "    <tr>\n",
              "      <th>top</th>\n",
              "      <td>56be85543aeaaa14008c9063</td>\n",
              "      <td>In what year did World War II start?</td>\n",
              "      <td>In 1853, Victoria gave birth to her eighth chi...</td>\n",
              "      <td>three</td>\n",
              "      <td>NaN</td>\n",
              "      <td>NaN</td>\n",
              "    </tr>\n",
              "    <tr>\n",
              "      <th>freq</th>\n",
              "      <td>1</td>\n",
              "      <td>3</td>\n",
              "      <td>30</td>\n",
              "      <td>231</td>\n",
              "      <td>NaN</td>\n",
              "      <td>NaN</td>\n",
              "    </tr>\n",
              "    <tr>\n",
              "      <th>mean</th>\n",
              "      <td>NaN</td>\n",
              "      <td>NaN</td>\n",
              "      <td>NaN</td>\n",
              "      <td>NaN</td>\n",
              "      <td>319.834830</td>\n",
              "      <td>9847.745609</td>\n",
              "    </tr>\n",
              "    <tr>\n",
              "      <th>std</th>\n",
              "      <td>NaN</td>\n",
              "      <td>NaN</td>\n",
              "      <td>NaN</td>\n",
              "      <td>NaN</td>\n",
              "      <td>266.370408</td>\n",
              "      <td>5364.512350</td>\n",
              "    </tr>\n",
              "    <tr>\n",
              "      <th>min</th>\n",
              "      <td>NaN</td>\n",
              "      <td>NaN</td>\n",
              "      <td>NaN</td>\n",
              "      <td>NaN</td>\n",
              "      <td>0.000000</td>\n",
              "      <td>0.000000</td>\n",
              "    </tr>\n",
              "    <tr>\n",
              "      <th>25%</th>\n",
              "      <td>NaN</td>\n",
              "      <td>NaN</td>\n",
              "      <td>NaN</td>\n",
              "      <td>NaN</td>\n",
              "      <td>111.000000</td>\n",
              "      <td>5627.000000</td>\n",
              "    </tr>\n",
              "    <tr>\n",
              "      <th>50%</th>\n",
              "      <td>NaN</td>\n",
              "      <td>NaN</td>\n",
              "      <td>NaN</td>\n",
              "      <td>NaN</td>\n",
              "      <td>262.000000</td>\n",
              "      <td>9964.000000</td>\n",
              "    </tr>\n",
              "    <tr>\n",
              "      <th>75%</th>\n",
              "      <td>NaN</td>\n",
              "      <td>NaN</td>\n",
              "      <td>NaN</td>\n",
              "      <td>NaN</td>\n",
              "      <td>468.000000</td>\n",
              "      <td>14459.000000</td>\n",
              "    </tr>\n",
              "    <tr>\n",
              "      <th>max</th>\n",
              "      <td>NaN</td>\n",
              "      <td>NaN</td>\n",
              "      <td>NaN</td>\n",
              "      <td>NaN</td>\n",
              "      <td>3126.000000</td>\n",
              "      <td>19028.000000</td>\n",
              "    </tr>\n",
              "  </tbody>\n",
              "</table>\n",
              "</div>\n",
              "      <button class=\"colab-df-convert\" onclick=\"convertToInteractive('df-258b6d85-0edb-4bc3-a255-a2f970475334')\"\n",
              "              title=\"Convert this dataframe to an interactive table.\"\n",
              "              style=\"display:none;\">\n",
              "        \n",
              "  <svg xmlns=\"http://www.w3.org/2000/svg\" height=\"24px\"viewBox=\"0 0 24 24\"\n",
              "       width=\"24px\">\n",
              "    <path d=\"M0 0h24v24H0V0z\" fill=\"none\"/>\n",
              "    <path d=\"M18.56 5.44l.94 2.06.94-2.06 2.06-.94-2.06-.94-.94-2.06-.94 2.06-2.06.94zm-11 1L8.5 8.5l.94-2.06 2.06-.94-2.06-.94L8.5 2.5l-.94 2.06-2.06.94zm10 10l.94 2.06.94-2.06 2.06-.94-2.06-.94-.94-2.06-.94 2.06-2.06.94z\"/><path d=\"M17.41 7.96l-1.37-1.37c-.4-.4-.92-.59-1.43-.59-.52 0-1.04.2-1.43.59L10.3 9.45l-7.72 7.72c-.78.78-.78 2.05 0 2.83L4 21.41c.39.39.9.59 1.41.59.51 0 1.02-.2 1.41-.59l7.78-7.78 2.81-2.81c.8-.78.8-2.07 0-2.86zM5.41 20L4 18.59l7.72-7.72 1.47 1.35L5.41 20z\"/>\n",
              "  </svg>\n",
              "      </button>\n",
              "      \n",
              "  <style>\n",
              "    .colab-df-container {\n",
              "      display:flex;\n",
              "      flex-wrap:wrap;\n",
              "      gap: 12px;\n",
              "    }\n",
              "\n",
              "    .colab-df-convert {\n",
              "      background-color: #E8F0FE;\n",
              "      border: none;\n",
              "      border-radius: 50%;\n",
              "      cursor: pointer;\n",
              "      display: none;\n",
              "      fill: #1967D2;\n",
              "      height: 32px;\n",
              "      padding: 0 0 0 0;\n",
              "      width: 32px;\n",
              "    }\n",
              "\n",
              "    .colab-df-convert:hover {\n",
              "      background-color: #E2EBFA;\n",
              "      box-shadow: 0px 1px 2px rgba(60, 64, 67, 0.3), 0px 1px 3px 1px rgba(60, 64, 67, 0.15);\n",
              "      fill: #174EA6;\n",
              "    }\n",
              "\n",
              "    [theme=dark] .colab-df-convert {\n",
              "      background-color: #3B4455;\n",
              "      fill: #D2E3FC;\n",
              "    }\n",
              "\n",
              "    [theme=dark] .colab-df-convert:hover {\n",
              "      background-color: #434B5C;\n",
              "      box-shadow: 0px 1px 3px 1px rgba(0, 0, 0, 0.15);\n",
              "      filter: drop-shadow(0px 1px 2px rgba(0, 0, 0, 0.3));\n",
              "      fill: #FFFFFF;\n",
              "    }\n",
              "  </style>\n",
              "\n",
              "      <script>\n",
              "        const buttonEl =\n",
              "          document.querySelector('#df-258b6d85-0edb-4bc3-a255-a2f970475334 button.colab-df-convert');\n",
              "        buttonEl.style.display =\n",
              "          google.colab.kernel.accessAllowed ? 'block' : 'none';\n",
              "\n",
              "        async function convertToInteractive(key) {\n",
              "          const element = document.querySelector('#df-258b6d85-0edb-4bc3-a255-a2f970475334');\n",
              "          const dataTable =\n",
              "            await google.colab.kernel.invokeFunction('convertToInteractive',\n",
              "                                                     [key], {});\n",
              "          if (!dataTable) return;\n",
              "\n",
              "          const docLinkHtml = 'Like what you see? Visit the ' +\n",
              "            '<a target=\"_blank\" href=https://colab.research.google.com/notebooks/data_table.ipynb>data table notebook</a>'\n",
              "            + ' to learn more about interactive tables.';\n",
              "          element.innerHTML = '';\n",
              "          dataTable['output_type'] = 'display_data';\n",
              "          await google.colab.output.renderOutput(dataTable, element);\n",
              "          const docLink = document.createElement('div');\n",
              "          docLink.innerHTML = docLinkHtml;\n",
              "          element.appendChild(docLink);\n",
              "        }\n",
              "      </script>\n",
              "    </div>\n",
              "  </div>\n",
              "  "
            ]
          },
          "metadata": {},
          "execution_count": 129
        }
      ]
    },
    {
      "cell_type": "markdown",
      "source": [
        "Having a lot of missing values in the answers. Our choice was to keep the lines without answers. And to add an extra neuron for classification for no Answer situation. The beginning of answer will be set as -1, and the answer end will also be set as -1."
      ],
      "metadata": {
        "id": "6hs96dzTAj2w"
      },
      "id": "6hs96dzTAj2w"
    },
    {
      "cell_type": "markdown",
      "source": [
        "Now we want to look the answer_start feature. Is it the word position or the character position?\n",
        "We will look to an example to have the answer."
      ],
      "metadata": {
        "id": "Ef6NoYPMNkiT"
      },
      "id": "Ef6NoYPMNkiT"
    },
    {
      "cell_type": "code",
      "source": [
        "data[['question', 'context', 'text', 'answer_start']].iloc[0]"
      ],
      "metadata": {
        "id": "Tm6CUN68AhQ0",
        "colab": {
          "base_uri": "https://localhost:8080/"
        },
        "outputId": "ca516248-975b-47ad-9655-02c8de155b9c"
      },
      "id": "Tm6CUN68AhQ0",
      "execution_count": 130,
      "outputs": [
        {
          "output_type": "execute_result",
          "data": {
            "text/plain": [
              "question                 When did Beyonce start becoming popular?\n",
              "context         Beyoncé Giselle Knowles-Carter (/biːˈjɒnseɪ/ b...\n",
              "text                                            in the late 1990s\n",
              "answer_start                                                269.0\n",
              "Name: 0, dtype: object"
            ]
          },
          "metadata": {},
          "execution_count": 130
        }
      ]
    },
    {
      "cell_type": "code",
      "source": [
        "#Line of code to show string starting from cher n°269\n",
        "data['context'].iloc[0][269:]"
      ],
      "metadata": {
        "id": "EzV7-Vj6A-a8",
        "colab": {
          "base_uri": "https://localhost:8080/",
          "height": 1000
        },
        "outputId": "9cec4581-8e53-40d0-8acf-5466550a7020"
      },
      "id": "EzV7-Vj6A-a8",
      "execution_count": 131,
      "outputs": [
        {
          "output_type": "execute_result",
          "data": {
            "text/plain": [
              "'in the late 1990s as lead singer of R&B girl-group Destiny\\'s Child. Managed by her father, Mathew Knowles, the group became one of the world\\'s best-selling girl groups of all time. Their hiatus saw the release of Beyoncé\\'s debut album, Dangerously in Love (2003), which established her as a solo artist worldwide, earned five Grammy Awards and featured the Billboard Hot 100 number-one singles \"Crazy in Love\" and \"Baby Boy\".'"
            ],
            "application/vnd.google.colaboratory.intrinsic+json": {
              "type": "string"
            }
          },
          "metadata": {},
          "execution_count": 131
        }
      ]
    },
    {
      "cell_type": "markdown",
      "source": [
        "The answer_start field is currently representing the character position of the beginning of the answer. In our case, we will prefer the word number position."
      ],
      "metadata": {
        "id": "1vOq-VIfOFzM"
      },
      "id": "1vOq-VIfOFzM"
    },
    {
      "cell_type": "markdown",
      "id": "16c060ea",
      "metadata": {
        "id": "16c060ea"
      },
      "source": [
        "# Let's retrieve the word positions of the answer: starting & ending"
      ]
    },
    {
      "cell_type": "markdown",
      "source": [
        "For this purpose, we will use a tokenizer, and count the number of words before the answer start. And add the answer to get the word position for the answer."
      ],
      "metadata": {
        "id": "aafjsObfSLTl"
      },
      "id": "aafjsObfSLTl"
    },
    {
      "cell_type": "code",
      "source": [
        "tok = TweetTokenizer()"
      ],
      "metadata": {
        "id": "P3hICd6P4B94"
      },
      "id": "P3hICd6P4B94",
      "execution_count": 132,
      "outputs": []
    },
    {
      "cell_type": "code",
      "execution_count": 133,
      "id": "19360df3",
      "metadata": {
        "id": "19360df3"
      },
      "outputs": [],
      "source": [
        "def AnswerTokenStart(row):\n",
        "    if (math.isnan(row['answer_start'])):\n",
        "        return -1\n",
        "    return len(tok.tokenize(row['context'][:int(row['answer_start'])].lower().strip()))"
      ]
    },
    {
      "cell_type": "code",
      "execution_count": 134,
      "id": "830b8340",
      "metadata": {
        "id": "830b8340"
      },
      "outputs": [],
      "source": [
        "def AnswerTokenEnd(row):\n",
        "    if (math.isnan(row['answer_start'])):\n",
        "        return -1\n",
        "    return row['answer_beg'] + len(tok.tokenize(row['text'].lower().strip()))"
      ]
    },
    {
      "cell_type": "code",
      "execution_count": 135,
      "id": "675e4d74",
      "metadata": {
        "id": "675e4d74"
      },
      "outputs": [],
      "source": [
        "data['answer_beg'] = data.apply(lambda row: AnswerTokenStart(row), axis=1)\n",
        "data['answer_end'] = data.apply(lambda row: AnswerTokenEnd(row), axis=1)"
      ]
    },
    {
      "cell_type": "code",
      "source": [
        "data[['answer_beg', 'answer_end']].iloc[0]"
      ],
      "metadata": {
        "colab": {
          "base_uri": "https://localhost:8080/"
        },
        "id": "26z08qvSQ74D",
        "outputId": "6f21b470-8ccb-4237-e483-1ffd7841fd95"
      },
      "id": "26z08qvSQ74D",
      "execution_count": 136,
      "outputs": [
        {
          "output_type": "execute_result",
          "data": {
            "text/plain": [
              "answer_beg    52\n",
              "answer_end    56\n",
              "Name: 0, dtype: int64"
            ]
          },
          "metadata": {},
          "execution_count": 136
        }
      ]
    },
    {
      "cell_type": "code",
      "source": [
        "tok.tokenize(data['context'].iloc[0].lower().strip())[52:56]"
      ],
      "metadata": {
        "colab": {
          "base_uri": "https://localhost:8080/"
        },
        "id": "ThltsWQPRCMz",
        "outputId": "0a692f75-c558-4268-a7f8-e2e7fdf84a50"
      },
      "id": "ThltsWQPRCMz",
      "execution_count": 137,
      "outputs": [
        {
          "output_type": "execute_result",
          "data": {
            "text/plain": [
              "['in', 'the', 'late', '1990s']"
            ]
          },
          "metadata": {},
          "execution_count": 137
        }
      ]
    },
    {
      "cell_type": "markdown",
      "source": [
        "# Data Visualisation: looking at our dataset"
      ],
      "metadata": {
        "id": "sckA__z-Rzu-"
      },
      "id": "sckA__z-Rzu-"
    },
    {
      "cell_type": "markdown",
      "source": [
        "It's time to look at the number of tokens in question, context and answers, to get more insigth about dataset"
      ],
      "metadata": {
        "id": "5ajfxWQbT42e"
      },
      "id": "5ajfxWQbT42e"
    },
    {
      "cell_type": "code",
      "source": [
        "# Question token length\n",
        "data.question.apply(lambda x: len(tok.tokenize(x.lower().strip()))).hist(bins=40)\n",
        "plt.title('Tokens length distribution for question')\n",
        "plt.xticks(rotation=45)\n",
        "plt.xlabel('Length')\n",
        "plt.ylabel('count')\n",
        "plt.show()"
      ],
      "metadata": {
        "colab": {
          "base_uri": "https://localhost:8080/",
          "height": 54
        },
        "id": "ZL8PFqG8R0-c",
        "outputId": "d4a139f9-2ea9-420a-b66e-097b5ad12b78"
      },
      "id": "ZL8PFqG8R0-c",
      "execution_count": 138,
      "outputs": [
        {
          "output_type": "display_data",
          "data": {
            "text/plain": [
              "<Figure size 432x288 with 1 Axes>"
            ],
            "image/png": "[encoded data removed]"
          },
          "metadata": {
            "needs_background": "light"
          }
        }
      ]
    },
    {
      "cell_type": "code",
      "source": [
        "# Context token length\n",
        "# Removing duplicates as we have many questions for a single context\n",
        "data.context.drop_duplicates().apply(lambda x: len(tok.tokenize(x.lower().strip()))).hist(bins=40)\n",
        "plt.title('Tokens length distribution for context')\n",
        "plt.xticks(rotation=45)\n",
        "plt.xlabel('Length')\n",
        "plt.ylabel('count')\n",
        "plt.show()"
      ],
      "metadata": {
        "colab": {
          "base_uri": "https://localhost:8080/",
          "height": 54
        },
        "id": "vPVVkItrYySW",
        "outputId": "8a0437f3-aaea-4337-d45b-2a30009cc978"
      },
      "id": "vPVVkItrYySW",
      "execution_count": 139,
      "outputs": [
        {
          "output_type": "display_data",
          "data": {
            "text/plain": [
              "<Figure size 432x288 with 1 Axes>"
            ],
            "image/png": "[encoded data removed]"
          },
          "metadata": {
            "needs_background": "light"
          }
        }
      ]
    },
    {
      "cell_type": "code",
      "source": [
        "# Answer token length when available\n",
        "data.text.dropna().apply(lambda x: len(tok.tokenize(str(x).lower().strip()))).hist(bins=40)\n",
        "plt.title('Tokens length distribution for answer')\n",
        "plt.xticks(rotation=45)\n",
        "plt.xlabel('Length')\n",
        "plt.ylabel('count')\n",
        "plt.show()"
      ],
      "metadata": {
        "colab": {
          "base_uri": "https://localhost:8080/",
          "height": 54
        },
        "id": "StdQKQx2ZER1",
        "outputId": "915e2141-4d1d-46af-c5a5-44ad420c4d86"
      },
      "id": "StdQKQx2ZER1",
      "execution_count": 140,
      "outputs": [
        {
          "output_type": "display_data",
          "data": {
            "text/plain": [
              "<Figure size 432x288 with 1 Axes>"
            ],
            "image/png": "[encoded data removed]"
          },
          "metadata": {
            "needs_background": "light"
          }
        }
      ]
    },
    {
      "cell_type": "markdown",
      "source": [
        "Looking at the tooken length of question and context, we can see that most of the questions have less than 20 tokkens, and most of the context have less than 280 tokkens. Therefore, we can take 300 tokkens in entry of the model: all question tokken, followed by the tokkens of context until we reach 300 (or add padding, if we don't have enougth tokken).\n",
        "\n",
        "Concerning, the answer, we can see that we have a lot a single word answer: by looking some answers, we can see that it can be names, dates (year), place..."
      ],
      "metadata": {
        "id": "GYteT1EpXEq1"
      },
      "id": "GYteT1EpXEq1"
    },
    {
      "cell_type": "markdown",
      "source": [
        "Let's show how many questions have an answer VS how many don't."
      ],
      "metadata": {
        "id": "HP3gka9cbZtX"
      },
      "id": "HP3gka9cbZtX"
    },
    {
      "cell_type": "code",
      "source": [
        "#Let's plot the distribution of answers\n",
        "plt.bar(['no answer', 'answer available'], [data['text'].isna().sum(), len(data['text']) - data['text'].isna().sum()])\n",
        "plt.title('Answer distribution')\n",
        "plt.xlabel('Answer availability')\n",
        "plt.ylabel('count')\n",
        "plt.show()"
      ],
      "metadata": {
        "colab": {
          "base_uri": "https://localhost:8080/",
          "height": 54
        },
        "id": "D4qDa3hCb1t2",
        "outputId": "4ef951a9-ae58-4d6b-9ef4-922a88bf9db3"
      },
      "id": "D4qDa3hCb1t2",
      "execution_count": 141,
      "outputs": [
        {
          "output_type": "display_data",
          "data": {
            "text/plain": [
              "<Figure size 432x288 with 1 Axes>"
            ],
            "image/png": "[encoded data removed]"
          },
          "metadata": {
            "needs_background": "light"
          }
        }
      ]
    },
    {
      "cell_type": "markdown",
      "source": [
        "Let's look at the number of questions per context distribution"
      ],
      "metadata": {
        "id": "QOv1mJvmfgMA"
      },
      "id": "QOv1mJvmfgMA"
    },
    {
      "cell_type": "code",
      "source": [
        "data.groupby(by=['c_id']).count()['question'].value_counts().sort_index(ascending=True)[:20].plot.bar()\n",
        "plt.title('Number of questions per context distribution')\n",
        "plt.xticks(rotation=45)\n",
        "plt.xlabel('Number of questions per context')\n",
        "plt.ylabel('count')\n",
        "plt.show()"
      ],
      "metadata": {
        "colab": {
          "base_uri": "https://localhost:8080/",
          "height": 54
        },
        "id": "B7a9pfoiffrQ",
        "outputId": "57293cfa-1883-40c1-b640-bd16524056a5"
      },
      "id": "B7a9pfoiffrQ",
      "execution_count": 142,
      "outputs": [
        {
          "output_type": "display_data",
          "data": {
            "text/plain": [
              "<Figure size 432x288 with 1 Axes>"
            ],
            "image/png": "[encoded data removed]"
          },
          "metadata": {
            "needs_background": "light"
          }
        }
      ]
    },
    {
      "cell_type": "markdown",
      "source": [
        "The distribution of question is a little bit weird. So far we don't have any explanation for this."
      ],
      "metadata": {
        "id": "UrM-Cc1kYgU8"
      },
      "id": "UrM-Cc1kYgU8"
    },
    {
      "cell_type": "markdown",
      "source": [
        "Word frequency for questions"
      ],
      "metadata": {
        "id": "CAWg7j9Zsfmw"
      },
      "id": "CAWg7j9Zsfmw"
    },
    {
      "cell_type": "code",
      "source": [
        "# Function to count the most frequent n-grams\n",
        "def ngram(flat_list,n):\n",
        "    ngram= ngrams(flat_list, n)\n",
        "    return collections.Counter(ngram).most_common()"
      ],
      "metadata": {
        "id": "9Nn2E5JMIG8G"
      },
      "id": "9Nn2E5JMIG8G",
      "execution_count": 143,
      "outputs": []
    },
    {
      "cell_type": "code",
      "source": [
        "# Define a list of words that we want to remove from our results\n",
        "stoplist = ['?', ',']\n",
        "# Converting the question DataFrame into a list\n",
        "question_list = [q for q in data['question']]\n",
        "# Convert each word in tokken according to the tokenizer\n",
        "lemmatized_question=[]\n",
        "for question in question_list:\n",
        "    tokens = tok.tokenize(question.lower().strip())\n",
        "    lemmatized_question.append(tokens)\n",
        "# Removing stop tokkens from our results\n",
        "no_stop = [[t for t in i if t not in stoplist] for i in lemmatized_question]\n",
        "# Flattening the list of tokkens\n",
        "flat_list=[]\n",
        "for sublist in no_stop:\n",
        "    for item in sublist:\n",
        "        flat_list.append(item)\n",
        "\n",
        "# Printing the 25 most common words\n",
        "dist_df=pd.DataFrame(ngram(flat_list,1)[:25])\n",
        "dist_df.plot.bar(x=0,y=1, rot=90,figsize=(15,10), legend=None)\n",
        "plt.title('Tokken distribution for questions')\n",
        "plt.xticks(rotation=45)\n",
        "plt.xlabel('Tokken')\n",
        "plt.ylabel('count')\n",
        "plt.show()"
      ],
      "metadata": {
        "id": "zjWYiHyJsfBL",
        "colab": {
          "base_uri": "https://localhost:8080/",
          "height": 54
        },
        "outputId": "50fcd953-8eb6-4fc1-e078-3e0e42796271"
      },
      "id": "zjWYiHyJsfBL",
      "execution_count": 144,
      "outputs": [
        {
          "output_type": "display_data",
          "data": {
            "text/plain": [
              "<Figure size 1080x720 with 1 Axes>"
            ],
            "image/png": "[encoded data removed]"
          },
          "metadata": {
            "needs_background": "light"
          }
        }
      ]
    },
    {
      "cell_type": "code",
      "source": [
        "# Printing the 25 most common bi-grams\n",
        "dist_df=pd.DataFrame(ngram(flat_list,2)[:25])\n",
        "dist_df.plot.bar(x=0,y=1, rot=90,figsize=(15,10), legend=None)\n",
        "plt.title('Bigram distribution for questions')\n",
        "plt.xticks(rotation=45)\n",
        "plt.xlabel('Bigram')\n",
        "plt.ylabel('count')\n",
        "plt.show()"
      ],
      "metadata": {
        "colab": {
          "base_uri": "https://localhost:8080/",
          "height": 54
        },
        "id": "fA1OMZ4QO26s",
        "outputId": "7b1ceb5d-2ace-47ba-bb2f-a3588b0278b7"
      },
      "id": "fA1OMZ4QO26s",
      "execution_count": 145,
      "outputs": [
        {
          "output_type": "display_data",
          "data": {
            "text/plain": [
              "<Figure size 1080x720 with 1 Axes>"
            ],
            "image/png": "[encoded data removed]"
          },
          "metadata": {
            "needs_background": "light"
          }
        }
      ]
    },
    {
      "cell_type": "code",
      "source": [
        "# Printing the 25 most common tri-grams\n",
        "dist_df=pd.DataFrame(ngram(flat_list,3)[:25])\n",
        "dist_df.plot.bar(x=0,y=1, rot=90,figsize=(15,10), legend=None)\n",
        "plt.title('Trigram distribution for questions')\n",
        "plt.xticks(rotation=45)\n",
        "plt.xlabel('Trigram')\n",
        "plt.ylabel('count')\n",
        "plt.show()"
      ],
      "metadata": {
        "colab": {
          "base_uri": "https://localhost:8080/",
          "height": 54
        },
        "id": "ahSRYGi0Qol5",
        "outputId": "9c1eb3e7-3fd8-452b-bdf3-4a28e2d75ae4"
      },
      "id": "ahSRYGi0Qol5",
      "execution_count": 146,
      "outputs": [
        {
          "output_type": "display_data",
          "data": {
            "text/plain": [
              "<Figure size 1080x720 with 1 Axes>"
            ],
            "image/png": "[encoded data removed]"
          },
          "metadata": {
            "needs_background": "light"
          }
        }
      ]
    },
    {
      "cell_type": "markdown",
      "source": [
        "What are the question tokkens that appear the most?"
      ],
      "metadata": {
        "id": "fJ65jSQvNUjc"
      },
      "id": "fJ65jSQvNUjc"
    },
    {
      "cell_type": "code",
      "source": [
        "# List of words that we are interested in\n",
        "qlist = ['what', 'how', 'who', 'when', 'which', 'where', 'why', 'in', 'on', 'to']\n",
        "# Keeping tokkens we are interested in\n",
        "no_stop = [[t for t in i if t in qlist] for i in lemmatized_question]\n",
        "flat_list=[]\n",
        "for sublist in no_stop:\n",
        "    for item in sublist:\n",
        "        flat_list.append(item)\n",
        "\n",
        "# Printing the tokkens\n",
        "dist_df=pd.DataFrame(ngram(flat_list,1)).sort_index(ascending=False)\n",
        "dist_df.plot.barh(x=0,y=1, rot=90,figsize=(15,10), legend=None)\n",
        "plt.title('Questions Tokken distribution for questions')\n",
        "plt.yticks(rotation=0)\n",
        "plt.xlabel('count')\n",
        "plt.ylabel('Tokken')\n",
        "plt.show()"
      ],
      "metadata": {
        "colab": {
          "base_uri": "https://localhost:8080/",
          "height": 54
        },
        "id": "_lrn4Le5JIer",
        "outputId": "32985cb0-9873-41ed-ea3d-3676c039afc9"
      },
      "id": "_lrn4Le5JIer",
      "execution_count": 147,
      "outputs": [
        {
          "output_type": "display_data",
          "data": {
            "text/plain": [
              "<Figure size 1080x720 with 1 Axes>"
            ],
            "image/png": "[encoded data removed]"
          },
          "metadata": {
            "needs_background": "light"
          }
        }
      ]
    },
    {
      "cell_type": "markdown",
      "source": [
        "Looking at the last graph, we can see that, we have mostly 'what' type of question. This is also highlighted with the 'what is' bigram being the most frequent one after bigram 'of the'.\n",
        "Looking at the trigrams, we can see that we have a lot of similar question such as: In what year, what type of, what year was, etc."
      ],
      "metadata": {
        "id": "1slt_hrUZilL"
      },
      "id": "1slt_hrUZilL"
    },
    {
      "cell_type": "markdown",
      "source": [
        "Word frequency for context"
      ],
      "metadata": {
        "id": "5J0gfl-zRJyD"
      },
      "id": "5J0gfl-zRJyD"
    },
    {
      "cell_type": "code",
      "source": [
        "# Define a list of words that we want to remove from our results\n",
        "stoplist = stopwords.words('english')\n",
        "stoplist.extend(['.',',',')','(', '?', '\"', ';', ':', '–', \"'\", '[', ']', '-'])\n",
        "# Converting the context DataFrame into a list\n",
        "context_list = [q for q in data.context.drop_duplicates()]\n",
        "# Convert each word in tokken according to the tokenizer\n",
        "lemmatized_context=[]\n",
        "for context in context_list:\n",
        "    tokens = tok.tokenize(context.lower().strip())\n",
        "    lemmatized_context.append(tokens)\n",
        "# Removing stop tokkens from our results\n",
        "no_stop = [[t for t in i if t not in stoplist] for i in lemmatized_context]\n",
        "# Flattening the list of tokkens\n",
        "flat_list=[]\n",
        "for sublist in no_stop:\n",
        "    for item in sublist:\n",
        "        flat_list.append(item)\n",
        "\n",
        "# Printing the 25 most common words\n",
        "dist_df=pd.DataFrame(ngram(flat_list,1)[:25])\n",
        "dist_df.plot.bar(x=0,y=1, rot=90,figsize=(15,10), legend=None)\n",
        "plt.title('Tokken distribution for context')\n",
        "plt.xticks(rotation=45)\n",
        "plt.xlabel('Tokken')\n",
        "plt.ylabel('count')\n",
        "plt.show()"
      ],
      "metadata": {
        "colab": {
          "base_uri": "https://localhost:8080/",
          "height": 54
        },
        "id": "ycGpRJyVRJks",
        "outputId": "02f6c51e-34a7-4911-ccdf-aa8679991726"
      },
      "id": "ycGpRJyVRJks",
      "execution_count": 148,
      "outputs": [
        {
          "output_type": "display_data",
          "data": {
            "text/plain": [
              "<Figure size 1080x720 with 1 Axes>"
            ],
            "image/png": "[encoded data removed]"
          },
          "metadata": {
            "needs_background": "light"
          }
        }
      ]
    },
    {
      "cell_type": "code",
      "source": [
        "# Printing the 25 most common bigrams\n",
        "dist_df=pd.DataFrame(ngram(flat_list,2)[:25])\n",
        "dist_df.plot.bar(x=0,y=1, rot=90,figsize=(15,10), legend=None)\n",
        "plt.title('Bigram distribution for context')\n",
        "plt.xticks(rotation=45)\n",
        "plt.xlabel('Bigram')\n",
        "plt.ylabel('count')\n",
        "plt.show()"
      ],
      "metadata": {
        "colab": {
          "base_uri": "https://localhost:8080/",
          "height": 54
        },
        "id": "Cpoe-0mDVtKP",
        "outputId": "cbff8ce4-67bd-45a8-b77b-3651601f22b5"
      },
      "id": "Cpoe-0mDVtKP",
      "execution_count": 149,
      "outputs": [
        {
          "output_type": "display_data",
          "data": {
            "text/plain": [
              "<Figure size 1080x720 with 1 Axes>"
            ],
            "image/png": "[encoded data removed]"
          },
          "metadata": {
            "needs_background": "light"
          }
        }
      ]
    },
    {
      "cell_type": "markdown",
      "source": [
        "Looking at the bigrams for context, we can see 'united states', 'new york' or 'north america' which are a lot of US bigrams. Maybe saying that a lot of articles are related with USA.\n",
        "\n",
        "We can also see some metric such as °C, °f, or % population.\n",
        "And some dates such as 19th century, 20th century (maybe saying that the context are mostly from recent history (ex: Beyonce))\n",
        "\n",
        "Citation needed is an interesting bigram because it appears a lot in the Wikipedia pages when a citation is really needed to highlight a piece of information. This bigram should be removed in the corpus, but this will be left for the next steps."
      ],
      "metadata": {
        "id": "peJ59i_aadh-"
      },
      "id": "peJ59i_aadh-"
    },
    {
      "cell_type": "markdown",
      "id": "fa787bdb",
      "metadata": {
        "id": "fa787bdb"
      },
      "source": [
        "# Let's create a simple model, in which in entry we concatenate the question with the context"
      ]
    },
    {
      "cell_type": "markdown",
      "source": [
        "In this section, we want to combine the question and the context in a single entry for our model. The entry will be composed of \n",
        "```\n",
        "[question tokens] + [end of question token] + [context tokens] + [pading tokens]\n",
        "```\n",
        "And it will be converted into vectors with the Glove pretrained embedings.\n",
        "\n",
        "Let's first download the GloVe pretrained vectors."
      ],
      "metadata": {
        "id": "oaPJCnv2_iWD"
      },
      "id": "oaPJCnv2_iWD"
    },
    {
      "cell_type": "code",
      "source": [
        "pretrained_vectors = GloVe(name=\"6B\", dim='50')"
      ],
      "metadata": {
        "id": "srhIxxgEw9e4"
      },
      "id": "srhIxxgEw9e4",
      "execution_count": 150,
      "outputs": []
    },
    {
      "cell_type": "code",
      "source": [
        "print(pretrained_vectors['beyonce'])"
      ],
      "metadata": {
        "id": "bPurTlpG1lZC",
        "colab": {
          "base_uri": "https://localhost:8080/"
        },
        "outputId": "58dd7f06-1597-42e2-e850-60e93bb92f69"
      },
      "id": "bPurTlpG1lZC",
      "execution_count": 151,
      "outputs": [
        {
          "output_type": "stream",
          "name": "stdout",
          "text": [
            "tensor([-0.0937,  0.5236,  0.2702,  0.7983, -0.4120,  0.0445,  0.3991,  0.0044,\n",
            "         0.8581,  1.9740,  0.1814,  0.4373, -0.3023,  0.6262, -0.0643,  0.2984,\n",
            "        -0.0245, -1.1808,  0.5135, -0.1783, -0.6956,  0.9800,  1.1588,  0.1510,\n",
            "         0.0563, -0.0074, -1.4715, -0.3011, -1.1525, -1.4750, -0.2914,  0.7519,\n",
            "         0.5445,  0.4029,  0.5384, -1.0918,  0.7068, -0.5869, -0.3682, -0.5314,\n",
            "        -0.5449,  0.9530, -0.5681, -0.4658,  0.5187, -0.5819,  0.0684, -1.9778,\n",
            "        -0.6726,  0.8330])\n"
          ]
        }
      ]
    },
    {
      "cell_type": "code",
      "source": [
        "print(pretrained_vectors[')'])"
      ],
      "metadata": {
        "colab": {
          "base_uri": "https://localhost:8080/"
        },
        "id": "47FwM0DsI8q5",
        "outputId": "4b49c711-eb64-492e-d153-d8d9ccfc59f6"
      },
      "id": "47FwM0DsI8q5",
      "execution_count": 152,
      "outputs": [
        {
          "output_type": "stream",
          "name": "stdout",
          "text": [
            "tensor([-2.8314e-01,  1.0028e+00,  1.4746e-01,  2.2262e-01,  7.0985e-03,\n",
            "         2.3108e-01,  5.7082e-01, -1.2767e+00, -7.2415e-01, -7.5270e-01,\n",
            "         5.2624e-01,  3.9498e-01,  1.8922e-03, -3.9396e-01,  4.4859e-01,\n",
            "        -1.9057e-02,  6.8143e-02,  4.5082e-01, -1.2849e+00,  6.8088e-01,\n",
            "        -4.8318e-01, -4.5829e-01,  8.5504e-01,  4.7712e-01, -1.6152e-01,\n",
            "        -7.4784e-01,  4.0742e-01, -9.7385e-01, -7.2580e-01, -1.7232e-01,\n",
            "         3.8901e+00, -4.6535e-01, -6.1925e-01,  6.3584e-01, -2.0339e-01,\n",
            "        -8.0612e-02,  6.4959e-01, -5.1208e-01,  9.1193e-01,  3.6208e-02,\n",
            "         1.0099e+00,  1.8802e-01,  5.9359e-01, -6.1313e-01, -6.6839e-01,\n",
            "         6.7479e-01,  4.0625e-01, -6.9590e-01,  1.4553e-01,  3.7339e-01])\n"
          ]
        }
      ]
    },
    {
      "cell_type": "markdown",
      "source": [
        "Let's look how to convert a sentence (here a question of our datset) into token number being a key for the embeding using a pretrained_vectors dictionnary."
      ],
      "metadata": {
        "id": "c3mg0fMuPiFA"
      },
      "id": "c3mg0fMuPiFA"
    },
    {
      "cell_type": "code",
      "source": [
        "pretrained_vocab = vocab(pretrained_vectors.stoi)\n",
        "unk_token = \"<unk>\"\n",
        "unk_index = 0\n",
        "pad_token = '<pad>'\n",
        "pad_index = 1\n",
        "eoq_token = '<eoq>'\n",
        "eoq_index = 2\n",
        "pretrained_vocab.insert_token(\"<unk>\",unk_index)\n",
        "pretrained_vocab.insert_token(\"<pad>\", pad_index)\n",
        "pretrained_vocab.insert_token(\"<eoq>\", eoq_index)\n",
        "#this is necessary otherwise it will throw runtime error if OOV token is queried \n",
        "pretrained_vocab.set_default_index(unk_index)\n",
        "pretrained_embeddings = pretrained_vectors.vectors\n",
        "pretrained_embeddings = torch.cat((torch.ones(1,pretrained_embeddings.shape[1]),\n",
        "                                   torch.zeros(1,pretrained_embeddings.shape[1]),\n",
        "                                   torch.ones(1,pretrained_embeddings.shape[1])*10,\n",
        "                                   pretrained_embeddings))\n",
        "pretrained_embeddings.size()"
      ],
      "metadata": {
        "id": "zB5d-WaopPxk",
        "colab": {
          "base_uri": "https://localhost:8080/"
        },
        "outputId": "b9e0db0c-870c-47b8-90cb-6569cfd05cfe"
      },
      "id": "zB5d-WaopPxk",
      "execution_count": 153,
      "outputs": [
        {
          "output_type": "execute_result",
          "data": {
            "text/plain": [
              "torch.Size([400003, 50])"
            ]
          },
          "metadata": {},
          "execution_count": 153
        }
      ]
    },
    {
      "cell_type": "code",
      "source": [
        "pretrained_embeddings[pretrained_vocab.get_stoi()['<eoq>']]"
      ],
      "metadata": {
        "id": "EvJhV7yrqGER",
        "colab": {
          "base_uri": "https://localhost:8080/"
        },
        "outputId": "4354a41b-c0dc-4082-e223-e18ac452f6a7"
      },
      "id": "EvJhV7yrqGER",
      "execution_count": 154,
      "outputs": [
        {
          "output_type": "execute_result",
          "data": {
            "text/plain": [
              "tensor([10., 10., 10., 10., 10., 10., 10., 10., 10., 10., 10., 10., 10., 10.,\n",
              "        10., 10., 10., 10., 10., 10., 10., 10., 10., 10., 10., 10., 10., 10.,\n",
              "        10., 10., 10., 10., 10., 10., 10., 10., 10., 10., 10., 10., 10., 10.,\n",
              "        10., 10., 10., 10., 10., 10., 10., 10.])"
            ]
          },
          "metadata": {},
          "execution_count": 154
        }
      ]
    },
    {
      "cell_type": "code",
      "source": [
        "print(data['question'][0].lower().strip())"
      ],
      "metadata": {
        "id": "M0JqGWqKssfj",
        "colab": {
          "base_uri": "https://localhost:8080/"
        },
        "outputId": "2e0dff23-21b2-4474-fb0f-83fb7ea8c992"
      },
      "id": "M0JqGWqKssfj",
      "execution_count": 155,
      "outputs": [
        {
          "output_type": "stream",
          "name": "stdout",
          "text": [
            "when did beyonce start becoming popular?\n"
          ]
        }
      ]
    },
    {
      "cell_type": "code",
      "source": [
        "question_tokens = tok.tokenize(data['question'][0].lower().strip())\n",
        "print(question_tokens)"
      ],
      "metadata": {
        "id": "HDtx-vPAs38p",
        "colab": {
          "base_uri": "https://localhost:8080/"
        },
        "outputId": "2a69652b-d62a-4de4-af97-bd98e68223f5"
      },
      "id": "HDtx-vPAs38p",
      "execution_count": 156,
      "outputs": [
        {
          "output_type": "stream",
          "name": "stdout",
          "text": [
            "['when', 'did', 'beyonce', 'start', 'becoming', 'popular', '?']\n"
          ]
        }
      ]
    },
    {
      "cell_type": "code",
      "source": [
        "question_tokens_sos = tok.tokenize(data['question'][0].lower().strip()) + ['<eoq>']\n",
        "print(question_tokens_sos)"
      ],
      "metadata": {
        "id": "eHwSxR3x4TkA",
        "colab": {
          "base_uri": "https://localhost:8080/"
        },
        "outputId": "72320672-6780-403f-ba7a-9e9adb555020"
      },
      "id": "eHwSxR3x4TkA",
      "execution_count": 157,
      "outputs": [
        {
          "output_type": "stream",
          "name": "stdout",
          "text": [
            "['when', 'did', 'beyonce', 'start', 'becoming', 'popular', '?', '<eoq>']\n"
          ]
        }
      ]
    },
    {
      "cell_type": "code",
      "source": [
        "[pretrained_vocab.get_stoi()[token] if token in pretrained_vocab.get_stoi() else pretrained_vocab.get_stoi()['<unk>'] for token in question_tokens_sos]"
      ],
      "metadata": {
        "id": "CDA391C3Pc4J",
        "colab": {
          "base_uri": "https://localhost:8080/"
        },
        "outputId": "3fe27feb-97ab-417b-976e-a86203413aac"
      },
      "id": "CDA391C3Pc4J",
      "execution_count": 158,
      "outputs": [
        {
          "output_type": "execute_result",
          "data": {
            "text/plain": [
              "[63, 121, 31264, 467, 1665, 816, 190, 2]"
            ]
          },
          "metadata": {},
          "execution_count": 158
        }
      ]
    },
    {
      "cell_type": "markdown",
      "source": [
        "Let's create the function to concatenate the question and the context, while transforming the tokens into indexes."
      ],
      "metadata": {
        "id": "IGoa3I1RS8m3"
      },
      "id": "IGoa3I1RS8m3"
    },
    {
      "cell_type": "code",
      "source": [
        "def concat_qc(row,  vocab_stoi = pretrained_vocab.get_stoi(), max_length = 300):\n",
        "  '''\n",
        "  This function returns the words indexes to retrieve an embedded torch_tensor of format q + <eoq> + c + <pad>\n",
        "  '''\n",
        "  question = [vocab_stoi[token] if token in vocab_stoi else vocab_stoi['<unk>'] for token in tok.tokenize(row['question'].lower().strip())]\n",
        "  if len(question) < max_length:\n",
        "    concat_text = question + [vocab_stoi['<eoq>']]\n",
        "  else:\n",
        "    return question[:max_length]\n",
        "  context = [vocab_stoi[token] if token in vocab_stoi else vocab_stoi['<unk>'] for token in tok.tokenize(row['context'].lower().strip())]\n",
        "  nb_tokens = len(question) + len(context) + 1\n",
        "  if nb_tokens < max_length:\n",
        "    return concat_text + context + [ vocab_stoi['<pad>'] for i in range(nb_tokens, max_length) ]\n",
        "  elif nb_tokens > max_length:\n",
        "    return concat_text + context[:(max_length - len(question) - 1)]\n",
        "  else:\n",
        "    return concat_text + context"
      ],
      "metadata": {
        "id": "XMburDvYAcKP"
      },
      "id": "XMburDvYAcKP",
      "execution_count": 159,
      "outputs": []
    },
    {
      "cell_type": "code",
      "source": [
        "print(concat_qc(data.iloc[0]))"
      ],
      "metadata": {
        "id": "zds95bjGEzaZ",
        "colab": {
          "base_uri": "https://localhost:8080/"
        },
        "outputId": "e9f08c62-1791-4661-cf04-8737a90f38b8"
      },
      "id": "zds95bjGEzaZ",
      "execution_count": 160,
      "outputs": [
        {
          "output_type": "stream",
          "name": "stdout",
          "text": [
            "[63, 121, 31264, 467, 1665, 816, 190, 2, 47038, 45745, 0, 25, 276, 0, 276, 0, 26, 25, 381, 443, 411, 3, 2900, 26, 16, 31, 142, 2228, 3, 9637, 3, 386, 1940, 7, 2892, 4, 381, 7, 1075, 8, 2000, 3, 747, 3, 69, 1791, 8, 919, 4101, 7, 5367, 5675, 21, 9, 966, 3, 7, 488, 6, 3154, 8, 0, 290, 2258, 21, 412, 2228, 5, 1913, 1163, 1558, 281670, 0, 966, 4, 1766, 23, 73, 631, 3, 27886, 18367, 3, 0, 131, 304, 50, 5, 0, 0, 20666, 1751, 505, 5, 66, 81, 4, 46, 13694, 824, 0, 715, 5, 0, 1606, 599, 3, 15311, 8, 837, 25, 784, 26, 3, 44, 986, 73, 21, 9, 3521, 2133, 1978, 3, 1772, 176, 8472, 1544, 7, 1980, 0, 5157, 1629, 560, 22715, 2320, 10, 5580, 8, 837, 10, 7, 10, 2234, 1608, 10, 4, 1, 1, 1, 1, 1, 1, 1, 1, 1, 1, 1, 1, 1, 1, 1, 1, 1, 1, 1, 1, 1, 1, 1, 1, 1, 1, 1, 1, 1, 1, 1, 1, 1, 1, 1, 1, 1, 1, 1, 1, 1, 1, 1, 1, 1, 1, 1, 1, 1, 1, 1, 1, 1, 1, 1, 1, 1, 1, 1, 1, 1, 1, 1, 1, 1, 1, 1, 1, 1, 1, 1, 1, 1, 1, 1, 1, 1, 1, 1, 1, 1, 1, 1, 1, 1, 1, 1, 1, 1, 1, 1, 1, 1, 1, 1, 1, 1, 1, 1, 1, 1, 1, 1, 1, 1, 1, 1, 1, 1, 1, 1, 1, 1, 1, 1, 1, 1, 1, 1, 1, 1, 1, 1, 1, 1, 1, 1, 1, 1, 1, 1, 1, 1, 1, 1, 1, 1, 1, 1, 1, 1, 1, 1, 1, 1, 1, 1, 1, 1, 1, 1, 1, 1, 1]\n"
          ]
        }
      ]
    },
    {
      "cell_type": "code",
      "source": [
        "max_length = 300\n",
        "res = []\n",
        "for index, row in tqdm(data.iterrows(), total=data.shape[0]):\n",
        "    res.append(concat_qc(row, max_length=max_length))\n",
        "data['train'] = res"
      ],
      "metadata": {
        "id": "I5rSmvqXKitF",
        "colab": {
          "base_uri": "https://localhost:8080/"
        },
        "outputId": "35cf1b02-e375-48ed-c34d-aedb150ddcf8"
      },
      "id": "I5rSmvqXKitF",
      "execution_count": 161,
      "outputs": [
        {
          "output_type": "stream",
          "name": "stderr",
          "text": [
            "100%|██████████| 130217/130217 [01:21<00:00, 1605.86it/s]\n"
          ]
        }
      ]
    },
    {
      "cell_type": "code",
      "source": [
        "data"
      ],
      "metadata": {
        "id": "jQEYJZq0MMQF",
        "colab": {
          "base_uri": "https://localhost:8080/",
          "height": 1000
        },
        "outputId": "5e725bed-3ba4-4869-beda-b119d143fb17"
      },
      "id": "jQEYJZq0MMQF",
      "execution_count": 162,
      "outputs": [
        {
          "output_type": "execute_result",
          "data": {
            "text/plain": [
              "                           index  \\\n",
              "0       56be85543aeaaa14008c9063   \n",
              "1       56be85543aeaaa14008c9065   \n",
              "2       56be85543aeaaa14008c9066   \n",
              "3       56bf6b0f3aeaaa14008c9601   \n",
              "4       56bf6b0f3aeaaa14008c9602   \n",
              "...                          ...   \n",
              "130314  5a7e070b70df9f001a875439   \n",
              "130315  5a7e070b70df9f001a87543a   \n",
              "130316  5a7e070b70df9f001a87543b   \n",
              "130317  5a7e070b70df9f001a87543c   \n",
              "130318  5a7e070b70df9f001a87543d   \n",
              "\n",
              "                                                 question  \\\n",
              "0                When did Beyonce start becoming popular?   \n",
              "1       What areas did Beyonce compete in when she was...   \n",
              "2       When did Beyonce leave Destiny's Child and bec...   \n",
              "3           In what city and state did Beyonce  grow up?    \n",
              "4              In which decade did Beyonce become famous?   \n",
              "...                                                   ...   \n",
              "130314  Physics has broadly agreed on the definition o...   \n",
              "130315               Who coined the term partonic matter?   \n",
              "130316              What is another name for anti-matter?   \n",
              "130317  Matter usually does not need to be used in con...   \n",
              "130318  What field of study has a variety of unusual c...   \n",
              "\n",
              "                                                  context  \\\n",
              "0       Beyoncé Giselle Knowles-Carter (/biːˈjɒnseɪ/ b...   \n",
              "1       Beyoncé Giselle Knowles-Carter (/biːˈjɒnseɪ/ b...   \n",
              "2       Beyoncé Giselle Knowles-Carter (/biːˈjɒnseɪ/ b...   \n",
              "3       Beyoncé Giselle Knowles-Carter (/biːˈjɒnseɪ/ b...   \n",
              "4       Beyoncé Giselle Knowles-Carter (/biːˈjɒnseɪ/ b...   \n",
              "...                                                   ...   \n",
              "130314  The term \"matter\" is used throughout physics i...   \n",
              "130315  The term \"matter\" is used throughout physics i...   \n",
              "130316  The term \"matter\" is used throughout physics i...   \n",
              "130317  The term \"matter\" is used throughout physics i...   \n",
              "130318  The term \"matter\" is used throughout physics i...   \n",
              "\n",
              "                       text  answer_start   c_id  answer_beg  answer_end  \\\n",
              "0         in the late 1990s         269.0      0          52          56   \n",
              "1       singing and dancing         207.0      0          40          43   \n",
              "2                      2003         526.0      0         103         104   \n",
              "3            Houston, Texas         166.0      0          32          35   \n",
              "4                late 1990s         276.0      0          54          56   \n",
              "...                     ...           ...    ...         ...         ...   \n",
              "130314                  NaN           NaN  19028          -1          -1   \n",
              "130315                  NaN           NaN  19028          -1          -1   \n",
              "130316                  NaN           NaN  19028          -1          -1   \n",
              "130317                  NaN           NaN  19028          -1          -1   \n",
              "130318                  NaN           NaN  19028          -1          -1   \n",
              "\n",
              "                                                    train  \n",
              "0       [63, 121, 31264, 467, 1665, 816, 190, 2, 47038...  \n",
              "1       [104, 621, 121, 31264, 2799, 8, 63, 69, 17, 99...  \n",
              "2       [63, 121, 31264, 893, 0, 966, 7, 401, 9, 3521,...  \n",
              "3       [8, 104, 117, 7, 94, 121, 31264, 2276, 62, 190...  \n",
              "4       [8, 44, 1654, 121, 31264, 401, 1615, 190, 2, 4...  \n",
              "...                                                   ...  \n",
              "130314  [5789, 33, 9302, 739, 15, 0, 4745, 5, 104, 190...  \n",
              "130315  [40, 13934, 0, 572, 0, 1122, 190, 2, 0, 572, 1...  \n",
              "130316  [104, 16, 172, 313, 12, 183285, 190, 2, 0, 572...  \n",
              "130317  [1122, 1142, 262, 38, 410, 6, 32, 182, 8, 9809...  \n",
              "130318  [104, 612, 5, 808, 33, 9, 2167, 5, 3219, 22018...  \n",
              "\n",
              "[130217 rows x 9 columns]"
            ],
            "text/html": [
              "\n",
              "  <div id=\"df-f6aadc92-44f0-4e33-826b-78f683d0c25a\">\n",
              "    <div class=\"colab-df-container\">\n",
              "      <div>\n",
              "<style scoped>\n",
              "    .dataframe tbody tr th:only-of-type {\n",
              "        vertical-align: middle;\n",
              "    }\n",
              "\n",
              "    .dataframe tbody tr th {\n",
              "        vertical-align: top;\n",
              "    }\n",
              "\n",
              "    .dataframe thead th {\n",
              "        text-align: right;\n",
              "    }\n",
              "</style>\n",
              "<table border=\"1\" class=\"dataframe\">\n",
              "  <thead>\n",
              "    <tr style=\"text-align: right;\">\n",
              "      <th></th>\n",
              "      <th>index</th>\n",
              "      <th>question</th>\n",
              "      <th>context</th>\n",
              "      <th>text</th>\n",
              "      <th>answer_start</th>\n",
              "      <th>c_id</th>\n",
              "      <th>answer_beg</th>\n",
              "      <th>answer_end</th>\n",
              "      <th>train</th>\n",
              "    </tr>\n",
              "  </thead>\n",
              "  <tbody>\n",
              "    <tr>\n",
              "      <th>0</th>\n",
              "      <td>56be85543aeaaa14008c9063</td>\n",
              "      <td>When did Beyonce start becoming popular?</td>\n",
              "      <td>Beyoncé Giselle Knowles-Carter (/biːˈjɒnseɪ/ b...</td>\n",
              "      <td>in the late 1990s</td>\n",
              "      <td>269.0</td>\n",
              "      <td>0</td>\n",
              "      <td>52</td>\n",
              "      <td>56</td>\n",
              "      <td>[63, 121, 31264, 467, 1665, 816, 190, 2, 47038...</td>\n",
              "    </tr>\n",
              "    <tr>\n",
              "      <th>1</th>\n",
              "      <td>56be85543aeaaa14008c9065</td>\n",
              "      <td>What areas did Beyonce compete in when she was...</td>\n",
              "      <td>Beyoncé Giselle Knowles-Carter (/biːˈjɒnseɪ/ b...</td>\n",
              "      <td>singing and dancing</td>\n",
              "      <td>207.0</td>\n",
              "      <td>0</td>\n",
              "      <td>40</td>\n",
              "      <td>43</td>\n",
              "      <td>[104, 621, 121, 31264, 2799, 8, 63, 69, 17, 99...</td>\n",
              "    </tr>\n",
              "    <tr>\n",
              "      <th>2</th>\n",
              "      <td>56be85543aeaaa14008c9066</td>\n",
              "      <td>When did Beyonce leave Destiny's Child and bec...</td>\n",
              "      <td>Beyoncé Giselle Knowles-Carter (/biːˈjɒnseɪ/ b...</td>\n",
              "      <td>2003</td>\n",
              "      <td>526.0</td>\n",
              "      <td>0</td>\n",
              "      <td>103</td>\n",
              "      <td>104</td>\n",
              "      <td>[63, 121, 31264, 893, 0, 966, 7, 401, 9, 3521,...</td>\n",
              "    </tr>\n",
              "    <tr>\n",
              "      <th>3</th>\n",
              "      <td>56bf6b0f3aeaaa14008c9601</td>\n",
              "      <td>In what city and state did Beyonce  grow up?</td>\n",
              "      <td>Beyoncé Giselle Knowles-Carter (/biːˈjɒnseɪ/ b...</td>\n",
              "      <td>Houston, Texas</td>\n",
              "      <td>166.0</td>\n",
              "      <td>0</td>\n",
              "      <td>32</td>\n",
              "      <td>35</td>\n",
              "      <td>[8, 104, 117, 7, 94, 121, 31264, 2276, 62, 190...</td>\n",
              "    </tr>\n",
              "    <tr>\n",
              "      <th>4</th>\n",
              "      <td>56bf6b0f3aeaaa14008c9602</td>\n",
              "      <td>In which decade did Beyonce become famous?</td>\n",
              "      <td>Beyoncé Giselle Knowles-Carter (/biːˈjɒnseɪ/ b...</td>\n",
              "      <td>late 1990s</td>\n",
              "      <td>276.0</td>\n",
              "      <td>0</td>\n",
              "      <td>54</td>\n",
              "      <td>56</td>\n",
              "      <td>[8, 44, 1654, 121, 31264, 401, 1615, 190, 2, 4...</td>\n",
              "    </tr>\n",
              "    <tr>\n",
              "      <th>...</th>\n",
              "      <td>...</td>\n",
              "      <td>...</td>\n",
              "      <td>...</td>\n",
              "      <td>...</td>\n",
              "      <td>...</td>\n",
              "      <td>...</td>\n",
              "      <td>...</td>\n",
              "      <td>...</td>\n",
              "      <td>...</td>\n",
              "    </tr>\n",
              "    <tr>\n",
              "      <th>130314</th>\n",
              "      <td>5a7e070b70df9f001a875439</td>\n",
              "      <td>Physics has broadly agreed on the definition o...</td>\n",
              "      <td>The term \"matter\" is used throughout physics i...</td>\n",
              "      <td>NaN</td>\n",
              "      <td>NaN</td>\n",
              "      <td>19028</td>\n",
              "      <td>-1</td>\n",
              "      <td>-1</td>\n",
              "      <td>[5789, 33, 9302, 739, 15, 0, 4745, 5, 104, 190...</td>\n",
              "    </tr>\n",
              "    <tr>\n",
              "      <th>130315</th>\n",
              "      <td>5a7e070b70df9f001a87543a</td>\n",
              "      <td>Who coined the term partonic matter?</td>\n",
              "      <td>The term \"matter\" is used throughout physics i...</td>\n",
              "      <td>NaN</td>\n",
              "      <td>NaN</td>\n",
              "      <td>19028</td>\n",
              "      <td>-1</td>\n",
              "      <td>-1</td>\n",
              "      <td>[40, 13934, 0, 572, 0, 1122, 190, 2, 0, 572, 1...</td>\n",
              "    </tr>\n",
              "    <tr>\n",
              "      <th>130316</th>\n",
              "      <td>5a7e070b70df9f001a87543b</td>\n",
              "      <td>What is another name for anti-matter?</td>\n",
              "      <td>The term \"matter\" is used throughout physics i...</td>\n",
              "      <td>NaN</td>\n",
              "      <td>NaN</td>\n",
              "      <td>19028</td>\n",
              "      <td>-1</td>\n",
              "      <td>-1</td>\n",
              "      <td>[104, 16, 172, 313, 12, 183285, 190, 2, 0, 572...</td>\n",
              "    </tr>\n",
              "    <tr>\n",
              "      <th>130317</th>\n",
              "      <td>5a7e070b70df9f001a87543c</td>\n",
              "      <td>Matter usually does not need to be used in con...</td>\n",
              "      <td>The term \"matter\" is used throughout physics i...</td>\n",
              "      <td>NaN</td>\n",
              "      <td>NaN</td>\n",
              "      <td>19028</td>\n",
              "      <td>-1</td>\n",
              "      <td>-1</td>\n",
              "      <td>[1122, 1142, 262, 38, 410, 6, 32, 182, 8, 9809...</td>\n",
              "    </tr>\n",
              "    <tr>\n",
              "      <th>130318</th>\n",
              "      <td>5a7e070b70df9f001a87543d</td>\n",
              "      <td>What field of study has a variety of unusual c...</td>\n",
              "      <td>The term \"matter\" is used throughout physics i...</td>\n",
              "      <td>NaN</td>\n",
              "      <td>NaN</td>\n",
              "      <td>19028</td>\n",
              "      <td>-1</td>\n",
              "      <td>-1</td>\n",
              "      <td>[104, 612, 5, 808, 33, 9, 2167, 5, 3219, 22018...</td>\n",
              "    </tr>\n",
              "  </tbody>\n",
              "</table>\n",
              "<p>130217 rows × 9 columns</p>\n",
              "</div>\n",
              "      <button class=\"colab-df-convert\" onclick=\"convertToInteractive('df-f6aadc92-44f0-4e33-826b-78f683d0c25a')\"\n",
              "              title=\"Convert this dataframe to an interactive table.\"\n",
              "              style=\"display:none;\">\n",
              "        \n",
              "  <svg xmlns=\"http://www.w3.org/2000/svg\" height=\"24px\"viewBox=\"0 0 24 24\"\n",
              "       width=\"24px\">\n",
              "    <path d=\"M0 0h24v24H0V0z\" fill=\"none\"/>\n",
              "    <path d=\"M18.56 5.44l.94 2.06.94-2.06 2.06-.94-2.06-.94-.94-2.06-.94 2.06-2.06.94zm-11 1L8.5 8.5l.94-2.06 2.06-.94-2.06-.94L8.5 2.5l-.94 2.06-2.06.94zm10 10l.94 2.06.94-2.06 2.06-.94-2.06-.94-.94-2.06-.94 2.06-2.06.94z\"/><path d=\"M17.41 7.96l-1.37-1.37c-.4-.4-.92-.59-1.43-.59-.52 0-1.04.2-1.43.59L10.3 9.45l-7.72 7.72c-.78.78-.78 2.05 0 2.83L4 21.41c.39.39.9.59 1.41.59.51 0 1.02-.2 1.41-.59l7.78-7.78 2.81-2.81c.8-.78.8-2.07 0-2.86zM5.41 20L4 18.59l7.72-7.72 1.47 1.35L5.41 20z\"/>\n",
              "  </svg>\n",
              "      </button>\n",
              "      \n",
              "  <style>\n",
              "    .colab-df-container {\n",
              "      display:flex;\n",
              "      flex-wrap:wrap;\n",
              "      gap: 12px;\n",
              "    }\n",
              "\n",
              "    .colab-df-convert {\n",
              "      background-color: #E8F0FE;\n",
              "      border: none;\n",
              "      border-radius: 50%;\n",
              "      cursor: pointer;\n",
              "      display: none;\n",
              "      fill: #1967D2;\n",
              "      height: 32px;\n",
              "      padding: 0 0 0 0;\n",
              "      width: 32px;\n",
              "    }\n",
              "\n",
              "    .colab-df-convert:hover {\n",
              "      background-color: #E2EBFA;\n",
              "      box-shadow: 0px 1px 2px rgba(60, 64, 67, 0.3), 0px 1px 3px 1px rgba(60, 64, 67, 0.15);\n",
              "      fill: #174EA6;\n",
              "    }\n",
              "\n",
              "    [theme=dark] .colab-df-convert {\n",
              "      background-color: #3B4455;\n",
              "      fill: #D2E3FC;\n",
              "    }\n",
              "\n",
              "    [theme=dark] .colab-df-convert:hover {\n",
              "      background-color: #434B5C;\n",
              "      box-shadow: 0px 1px 3px 1px rgba(0, 0, 0, 0.15);\n",
              "      filter: drop-shadow(0px 1px 2px rgba(0, 0, 0, 0.3));\n",
              "      fill: #FFFFFF;\n",
              "    }\n",
              "  </style>\n",
              "\n",
              "      <script>\n",
              "        const buttonEl =\n",
              "          document.querySelector('#df-f6aadc92-44f0-4e33-826b-78f683d0c25a button.colab-df-convert');\n",
              "        buttonEl.style.display =\n",
              "          google.colab.kernel.accessAllowed ? 'block' : 'none';\n",
              "\n",
              "        async function convertToInteractive(key) {\n",
              "          const element = document.querySelector('#df-f6aadc92-44f0-4e33-826b-78f683d0c25a');\n",
              "          const dataTable =\n",
              "            await google.colab.kernel.invokeFunction('convertToInteractive',\n",
              "                                                     [key], {});\n",
              "          if (!dataTable) return;\n",
              "\n",
              "          const docLinkHtml = 'Like what you see? Visit the ' +\n",
              "            '<a target=\"_blank\" href=https://colab.research.google.com/notebooks/data_table.ipynb>data table notebook</a>'\n",
              "            + ' to learn more about interactive tables.';\n",
              "          element.innerHTML = '';\n",
              "          dataTable['output_type'] = 'display_data';\n",
              "          await google.colab.output.renderOutput(dataTable, element);\n",
              "          const docLink = document.createElement('div');\n",
              "          docLink.innerHTML = docLinkHtml;\n",
              "          element.appendChild(docLink);\n",
              "        }\n",
              "      </script>\n",
              "    </div>\n",
              "  </div>\n",
              "  "
            ]
          },
          "metadata": {},
          "execution_count": 162
        }
      ]
    },
    {
      "cell_type": "code",
      "source": [
        "# Do we have answer starting and ending after token 300?\n",
        "data[data['answer_end']>299]"
      ],
      "metadata": {
        "colab": {
          "base_uri": "https://localhost:8080/",
          "height": 1000
        },
        "id": "0BmApTUkK7k5",
        "outputId": "5b41356f-b54c-432d-c752-795b406e330a"
      },
      "id": "0BmApTUkK7k5",
      "execution_count": 163,
      "outputs": [
        {
          "output_type": "execute_result",
          "data": {
            "text/plain": [
              "                           index  \\\n",
              "176     56be95823aeaaa14008c910f   \n",
              "177     56be95823aeaaa14008c9110   \n",
              "179     56bf97aba10cfb140055119f   \n",
              "180     56bf97aba10cfb14005511a0   \n",
              "181     56bf97aba10cfb14005511a1   \n",
              "...                          ...   \n",
              "117741  5730c36ab7151e1900c01530   \n",
              "119699  5731388f497a881900248c7f   \n",
              "125991  57327a00e17f3d14004229a0   \n",
              "127706  57339a5bd058e614000b5e95   \n",
              "129598  57363183012e2f140011a1fe   \n",
              "\n",
              "                                                 question  \\\n",
              "176     Which singer beat out Beyonce for best video p...   \n",
              "177     In 2009, Beyonce started her second world tour...   \n",
              "179         When did Beyonce begin her second world tour?   \n",
              "180          Who beat out Beyonce for Best Female Video ?   \n",
              "181     How much did the second world tour make in dol...   \n",
              "...                                                   ...   \n",
              "117741  What became associated with the celebration of...   \n",
              "119699  How many Green Standard Army soldiers  were on...   \n",
              "125991  Who felt that humanism would surely be a major...   \n",
              "127706     Which baseball stadium is found at Notre Dame?   \n",
              "129598     What do hunters pay to obtain hunting license?   \n",
              "\n",
              "                                                  context  \\\n",
              "176     On April 4, 2008, Beyoncé married Jay Z. She p...   \n",
              "177     On April 4, 2008, Beyoncé married Jay Z. She p...   \n",
              "179     On April 4, 2008, Beyoncé married Jay Z. She p...   \n",
              "180     On April 4, 2008, Beyoncé married Jay Z. She p...   \n",
              "181     On April 4, 2008, Beyoncé married Jay Z. She p...   \n",
              "...                                                   ...   \n",
              "117741  Mary's complete sinlessness and concomitant ex...   \n",
              "119699  Faced with the stripping of their powers, Wu S...   \n",
              "125991  But in the mid-18th century, during the French...   \n",
              "127706  Since the construction of its oldest buildings...   \n",
              "129598  There is a very active tradition of hunting of...   \n",
              "\n",
              "                                                     text  answer_start  \\\n",
              "176                                          Taylor Swift        1567.0   \n",
              "177                                         119.5 million        1881.0   \n",
              "179                                            March 2009        1744.0   \n",
              "180                                          Taylor Swift        1567.0   \n",
              "181                                         119.5 million        1881.0   \n",
              "...                                                   ...           ...   \n",
              "117741  purification was eventually associated with th...        1743.0   \n",
              "119699                                            400,000        2136.0   \n",
              "125991                                       Ernest Renan        1822.0   \n",
              "127706                                  Frank Eck Stadium        1755.0   \n",
              "129598                                    very small fees        1790.0   \n",
              "\n",
              "         c_id  answer_beg  answer_end  \\\n",
              "176        14         323         325   \n",
              "177        14         381         383   \n",
              "179        14         354         356   \n",
              "180        14         323         325   \n",
              "181        14         381         383   \n",
              "...       ...         ...         ...   \n",
              "117741  17125         321         332   \n",
              "119699  17420         396         397   \n",
              "125991  18448         339         341   \n",
              "127706  18636         315         318   \n",
              "129598  18904         329         332   \n",
              "\n",
              "                                                    train  \n",
              "176     [44, 2228, 962, 68, 31264, 12, 256, 976, 885, ...  \n",
              "177     [8, 705, 3, 31264, 553, 73, 128, 87, 727, 7, 1...  \n",
              "179     [63, 121, 31264, 1094, 73, 128, 87, 727, 190, ...  \n",
              "180     [40, 962, 68, 31264, 12, 256, 1634, 976, 190, ...  \n",
              "181     [199, 183, 121, 0, 128, 87, 727, 161, 8, 232, ...  \n",
              "...                                                   ...  \n",
              "117741  [104, 304, 988, 19, 0, 4620, 5, 0, 11589, 8, 0...  \n",
              "119699  [199, 111, 991, 1226, 332, 668, 37, 15, 0, 155...  \n",
              "125991  [40, 1351, 14, 37974, 56, 7362, 32, 9, 226, 10...  \n",
              "127706  [44, 1446, 1354, 16, 240, 24, 8407, 7193, 190,...  \n",
              "129598  [104, 90, 9542, 644, 6, 4424, 4431, 3853, 190,...  \n",
              "\n",
              "[143 rows x 9 columns]"
            ],
            "text/html": [
              "\n",
              "  <div id=\"df-d6df45e3-7c28-4d97-a6c4-32f340de391b\">\n",
              "    <div class=\"colab-df-container\">\n",
              "      <div>\n",
              "<style scoped>\n",
              "    .dataframe tbody tr th:only-of-type {\n",
              "        vertical-align: middle;\n",
              "    }\n",
              "\n",
              "    .dataframe tbody tr th {\n",
              "        vertical-align: top;\n",
              "    }\n",
              "\n",
              "    .dataframe thead th {\n",
              "        text-align: right;\n",
              "    }\n",
              "</style>\n",
              "<table border=\"1\" class=\"dataframe\">\n",
              "  <thead>\n",
              "    <tr style=\"text-align: right;\">\n",
              "      <th></th>\n",
              "      <th>index</th>\n",
              "      <th>question</th>\n",
              "      <th>context</th>\n",
              "      <th>text</th>\n",
              "      <th>answer_start</th>\n",
              "      <th>c_id</th>\n",
              "      <th>answer_beg</th>\n",
              "      <th>answer_end</th>\n",
              "      <th>train</th>\n",
              "    </tr>\n",
              "  </thead>\n",
              "  <tbody>\n",
              "    <tr>\n",
              "      <th>176</th>\n",
              "      <td>56be95823aeaaa14008c910f</td>\n",
              "      <td>Which singer beat out Beyonce for best video p...</td>\n",
              "      <td>On April 4, 2008, Beyoncé married Jay Z. She p...</td>\n",
              "      <td>Taylor Swift</td>\n",
              "      <td>1567.0</td>\n",
              "      <td>14</td>\n",
              "      <td>323</td>\n",
              "      <td>325</td>\n",
              "      <td>[44, 2228, 962, 68, 31264, 12, 256, 976, 885, ...</td>\n",
              "    </tr>\n",
              "    <tr>\n",
              "      <th>177</th>\n",
              "      <td>56be95823aeaaa14008c9110</td>\n",
              "      <td>In 2009, Beyonce started her second world tour...</td>\n",
              "      <td>On April 4, 2008, Beyoncé married Jay Z. She p...</td>\n",
              "      <td>119.5 million</td>\n",
              "      <td>1881.0</td>\n",
              "      <td>14</td>\n",
              "      <td>381</td>\n",
              "      <td>383</td>\n",
              "      <td>[8, 705, 3, 31264, 553, 73, 128, 87, 727, 7, 1...</td>\n",
              "    </tr>\n",
              "    <tr>\n",
              "      <th>179</th>\n",
              "      <td>56bf97aba10cfb140055119f</td>\n",
              "      <td>When did Beyonce begin her second world tour?</td>\n",
              "      <td>On April 4, 2008, Beyoncé married Jay Z. She p...</td>\n",
              "      <td>March 2009</td>\n",
              "      <td>1744.0</td>\n",
              "      <td>14</td>\n",
              "      <td>354</td>\n",
              "      <td>356</td>\n",
              "      <td>[63, 121, 31264, 1094, 73, 128, 87, 727, 190, ...</td>\n",
              "    </tr>\n",
              "    <tr>\n",
              "      <th>180</th>\n",
              "      <td>56bf97aba10cfb14005511a0</td>\n",
              "      <td>Who beat out Beyonce for Best Female Video ?</td>\n",
              "      <td>On April 4, 2008, Beyoncé married Jay Z. She p...</td>\n",
              "      <td>Taylor Swift</td>\n",
              "      <td>1567.0</td>\n",
              "      <td>14</td>\n",
              "      <td>323</td>\n",
              "      <td>325</td>\n",
              "      <td>[40, 962, 68, 31264, 12, 256, 1634, 976, 190, ...</td>\n",
              "    </tr>\n",
              "    <tr>\n",
              "      <th>181</th>\n",
              "      <td>56bf97aba10cfb14005511a1</td>\n",
              "      <td>How much did the second world tour make in dol...</td>\n",
              "      <td>On April 4, 2008, Beyoncé married Jay Z. She p...</td>\n",
              "      <td>119.5 million</td>\n",
              "      <td>1881.0</td>\n",
              "      <td>14</td>\n",
              "      <td>381</td>\n",
              "      <td>383</td>\n",
              "      <td>[199, 183, 121, 0, 128, 87, 727, 161, 8, 232, ...</td>\n",
              "    </tr>\n",
              "    <tr>\n",
              "      <th>...</th>\n",
              "      <td>...</td>\n",
              "      <td>...</td>\n",
              "      <td>...</td>\n",
              "      <td>...</td>\n",
              "      <td>...</td>\n",
              "      <td>...</td>\n",
              "      <td>...</td>\n",
              "      <td>...</td>\n",
              "      <td>...</td>\n",
              "    </tr>\n",
              "    <tr>\n",
              "      <th>117741</th>\n",
              "      <td>5730c36ab7151e1900c01530</td>\n",
              "      <td>What became associated with the celebration of...</td>\n",
              "      <td>Mary's complete sinlessness and concomitant ex...</td>\n",
              "      <td>purification was eventually associated with th...</td>\n",
              "      <td>1743.0</td>\n",
              "      <td>17125</td>\n",
              "      <td>321</td>\n",
              "      <td>332</td>\n",
              "      <td>[104, 304, 988, 19, 0, 4620, 5, 0, 11589, 8, 0...</td>\n",
              "    </tr>\n",
              "    <tr>\n",
              "      <th>119699</th>\n",
              "      <td>5731388f497a881900248c7f</td>\n",
              "      <td>How many Green Standard Army soldiers  were on...</td>\n",
              "      <td>Faced with the stripping of their powers, Wu S...</td>\n",
              "      <td>400,000</td>\n",
              "      <td>2136.0</td>\n",
              "      <td>17420</td>\n",
              "      <td>396</td>\n",
              "      <td>397</td>\n",
              "      <td>[199, 111, 991, 1226, 332, 668, 37, 15, 0, 155...</td>\n",
              "    </tr>\n",
              "    <tr>\n",
              "      <th>125991</th>\n",
              "      <td>57327a00e17f3d14004229a0</td>\n",
              "      <td>Who felt that humanism would surely be a major...</td>\n",
              "      <td>But in the mid-18th century, during the French...</td>\n",
              "      <td>Ernest Renan</td>\n",
              "      <td>1822.0</td>\n",
              "      <td>18448</td>\n",
              "      <td>339</td>\n",
              "      <td>341</td>\n",
              "      <td>[40, 1351, 14, 37974, 56, 7362, 32, 9, 226, 10...</td>\n",
              "    </tr>\n",
              "    <tr>\n",
              "      <th>127706</th>\n",
              "      <td>57339a5bd058e614000b5e95</td>\n",
              "      <td>Which baseball stadium is found at Notre Dame?</td>\n",
              "      <td>Since the construction of its oldest buildings...</td>\n",
              "      <td>Frank Eck Stadium</td>\n",
              "      <td>1755.0</td>\n",
              "      <td>18636</td>\n",
              "      <td>315</td>\n",
              "      <td>318</td>\n",
              "      <td>[44, 1446, 1354, 16, 240, 24, 8407, 7193, 190,...</td>\n",
              "    </tr>\n",
              "    <tr>\n",
              "      <th>129598</th>\n",
              "      <td>57363183012e2f140011a1fe</td>\n",
              "      <td>What do hunters pay to obtain hunting license?</td>\n",
              "      <td>There is a very active tradition of hunting of...</td>\n",
              "      <td>very small fees</td>\n",
              "      <td>1790.0</td>\n",
              "      <td>18904</td>\n",
              "      <td>329</td>\n",
              "      <td>332</td>\n",
              "      <td>[104, 90, 9542, 644, 6, 4424, 4431, 3853, 190,...</td>\n",
              "    </tr>\n",
              "  </tbody>\n",
              "</table>\n",
              "<p>143 rows × 9 columns</p>\n",
              "</div>\n",
              "      <button class=\"colab-df-convert\" onclick=\"convertToInteractive('df-d6df45e3-7c28-4d97-a6c4-32f340de391b')\"\n",
              "              title=\"Convert this dataframe to an interactive table.\"\n",
              "              style=\"display:none;\">\n",
              "        \n",
              "  <svg xmlns=\"http://www.w3.org/2000/svg\" height=\"24px\"viewBox=\"0 0 24 24\"\n",
              "       width=\"24px\">\n",
              "    <path d=\"M0 0h24v24H0V0z\" fill=\"none\"/>\n",
              "    <path d=\"M18.56 5.44l.94 2.06.94-2.06 2.06-.94-2.06-.94-.94-2.06-.94 2.06-2.06.94zm-11 1L8.5 8.5l.94-2.06 2.06-.94-2.06-.94L8.5 2.5l-.94 2.06-2.06.94zm10 10l.94 2.06.94-2.06 2.06-.94-2.06-.94-.94-2.06-.94 2.06-2.06.94z\"/><path d=\"M17.41 7.96l-1.37-1.37c-.4-.4-.92-.59-1.43-.59-.52 0-1.04.2-1.43.59L10.3 9.45l-7.72 7.72c-.78.78-.78 2.05 0 2.83L4 21.41c.39.39.9.59 1.41.59.51 0 1.02-.2 1.41-.59l7.78-7.78 2.81-2.81c.8-.78.8-2.07 0-2.86zM5.41 20L4 18.59l7.72-7.72 1.47 1.35L5.41 20z\"/>\n",
              "  </svg>\n",
              "      </button>\n",
              "      \n",
              "  <style>\n",
              "    .colab-df-container {\n",
              "      display:flex;\n",
              "      flex-wrap:wrap;\n",
              "      gap: 12px;\n",
              "    }\n",
              "\n",
              "    .colab-df-convert {\n",
              "      background-color: #E8F0FE;\n",
              "      border: none;\n",
              "      border-radius: 50%;\n",
              "      cursor: pointer;\n",
              "      display: none;\n",
              "      fill: #1967D2;\n",
              "      height: 32px;\n",
              "      padding: 0 0 0 0;\n",
              "      width: 32px;\n",
              "    }\n",
              "\n",
              "    .colab-df-convert:hover {\n",
              "      background-color: #E2EBFA;\n",
              "      box-shadow: 0px 1px 2px rgba(60, 64, 67, 0.3), 0px 1px 3px 1px rgba(60, 64, 67, 0.15);\n",
              "      fill: #174EA6;\n",
              "    }\n",
              "\n",
              "    [theme=dark] .colab-df-convert {\n",
              "      background-color: #3B4455;\n",
              "      fill: #D2E3FC;\n",
              "    }\n",
              "\n",
              "    [theme=dark] .colab-df-convert:hover {\n",
              "      background-color: #434B5C;\n",
              "      box-shadow: 0px 1px 3px 1px rgba(0, 0, 0, 0.15);\n",
              "      filter: drop-shadow(0px 1px 2px rgba(0, 0, 0, 0.3));\n",
              "      fill: #FFFFFF;\n",
              "    }\n",
              "  </style>\n",
              "\n",
              "      <script>\n",
              "        const buttonEl =\n",
              "          document.querySelector('#df-d6df45e3-7c28-4d97-a6c4-32f340de391b button.colab-df-convert');\n",
              "        buttonEl.style.display =\n",
              "          google.colab.kernel.accessAllowed ? 'block' : 'none';\n",
              "\n",
              "        async function convertToInteractive(key) {\n",
              "          const element = document.querySelector('#df-d6df45e3-7c28-4d97-a6c4-32f340de391b');\n",
              "          const dataTable =\n",
              "            await google.colab.kernel.invokeFunction('convertToInteractive',\n",
              "                                                     [key], {});\n",
              "          if (!dataTable) return;\n",
              "\n",
              "          const docLinkHtml = 'Like what you see? Visit the ' +\n",
              "            '<a target=\"_blank\" href=https://colab.research.google.com/notebooks/data_table.ipynb>data table notebook</a>'\n",
              "            + ' to learn more about interactive tables.';\n",
              "          element.innerHTML = '';\n",
              "          dataTable['output_type'] = 'display_data';\n",
              "          await google.colab.output.renderOutput(dataTable, element);\n",
              "          const docLink = document.createElement('div');\n",
              "          docLink.innerHTML = docLinkHtml;\n",
              "          element.appendChild(docLink);\n",
              "        }\n",
              "      </script>\n",
              "    </div>\n",
              "  </div>\n",
              "  "
            ]
          },
          "metadata": {},
          "execution_count": 163
        }
      ]
    },
    {
      "cell_type": "code",
      "source": [
        "# Let's remove these lines as they are outliers of the way we are framing our dataset.\n",
        "# It's only for 143 rows\n",
        "data = data[data['answer_end']<=300]"
      ],
      "metadata": {
        "id": "6CVFo2q0LyuL"
      },
      "id": "6CVFo2q0LyuL",
      "execution_count": 164,
      "outputs": []
    },
    {
      "cell_type": "markdown",
      "source": [
        "# Dataset and Dataloader"
      ],
      "metadata": {
        "id": "tcG6cxqEdi4I"
      },
      "id": "tcG6cxqEdi4I"
    },
    {
      "cell_type": "markdown",
      "source": [
        "Time to split the dataset before applying it to a model. We have chosen randomness as a way of splitting. We assume that we can have new question on an already seen context."
      ],
      "metadata": {
        "id": "soFiq41RVVMv"
      },
      "id": "soFiq41RVVMv"
    },
    {
      "cell_type": "code",
      "execution_count": 165,
      "id": "7151eae3",
      "metadata": {
        "id": "7151eae3"
      },
      "outputs": [],
      "source": [
        "indices = [i for i in range(len(data['train']))]\n",
        "# use scikit learn to split the indices into subsets: ~67% train, ~16 % val, ~16% test\n",
        "train_indices, other_indices, _, _ = train_test_split(indices, indices, test_size=0.33, random_state=42)\n",
        "val_indices, test_indices, _, _ = train_test_split(other_indices, other_indices, test_size=0.5, random_state=42)"
      ]
    },
    {
      "cell_type": "code",
      "execution_count": 166,
      "id": "537014b6",
      "metadata": {
        "id": "537014b6",
        "colab": {
          "base_uri": "https://localhost:8080/"
        },
        "outputId": "fd0d20c1-71c0-4e5e-fecc-f71642d0e20f"
      },
      "outputs": [
        {
          "output_type": "stream",
          "name": "stdout",
          "text": [
            "87151 21463 21463\n"
          ]
        }
      ],
      "source": [
        "print(len(train_indices), len(val_indices), len(test_indices))"
      ]
    },
    {
      "cell_type": "code",
      "source": [
        "#Shuffling dataset as the last rows contains questions without answers\n",
        "data = data.sample(frac=1, random_state=42).reset_index(drop=True)"
      ],
      "metadata": {
        "id": "Cwj5dTaxU3CW"
      },
      "id": "Cwj5dTaxU3CW",
      "execution_count": 167,
      "outputs": []
    },
    {
      "cell_type": "code",
      "source": [
        "train = data.loc[train_indices]\n",
        "test = data.loc[test_indices]\n",
        "val = data.loc[val_indices]"
      ],
      "metadata": {
        "id": "ls51Yg4dYStO"
      },
      "id": "ls51Yg4dYStO",
      "execution_count": 168,
      "outputs": []
    },
    {
      "cell_type": "code",
      "source": [
        "class QADataset(Dataset):\n",
        "    def __init__(self, data):\n",
        "      self.data = data\n",
        "      # self.entry = data['train']\n",
        "      # self.answer_beg = data['answer_beg']\n",
        "      # self.answer_end = data['answer_end']\n",
        "\n",
        "    def __len__(self):\n",
        "      return len(self.data)\n",
        "    \n",
        "    def __getitem__(self, idx):\n",
        "      item = {\n",
        "          \"entry\": np.array(self.data.iloc[idx]['train']),\n",
        "          \"answer_beg\": np.array(self.data.iloc[idx]['answer_beg']),\n",
        "          \"answer_end\": np.array(self.data.iloc[idx]['answer_end'])\n",
        "      }\n",
        "      return item"
      ],
      "metadata": {
        "id": "71WJnzO0Ymuw"
      },
      "id": "71WJnzO0Ymuw",
      "execution_count": 169,
      "outputs": []
    },
    {
      "cell_type": "code",
      "source": [
        "train_loader = DataLoader(QADataset(train), batch_size=1, shuffle=True, drop_last=True)\n",
        "val_loader   = DataLoader(QADataset(val), batch_size=1, shuffle=True, drop_last=True)\n",
        "test_loader  = DataLoader(QADataset(test), batch_size=1, shuffle=True, drop_last=True)"
      ],
      "metadata": {
        "id": "zvWlWT4KZueD"
      },
      "id": "zvWlWT4KZueD",
      "execution_count": 170,
      "outputs": []
    },
    {
      "cell_type": "code",
      "source": [
        "# next(iter(train_loader))['entry'].shape"
      ],
      "metadata": {
        "id": "pI6VhfN8qyM5"
      },
      "id": "pI6VhfN8qyM5",
      "execution_count": 171,
      "outputs": []
    },
    {
      "cell_type": "markdown",
      "source": [
        "The following code is just to know which type of execution is curently activated. (CPU or GPU)"
      ],
      "metadata": {
        "id": "_7Zp43Vj0Qs5"
      },
      "id": "_7Zp43Vj0Qs5"
    },
    {
      "cell_type": "code",
      "source": [
        "from termcolor import colored\n",
        "# torch.cuda.is_available() returns a boolean to check if the GPU can be used or not\n",
        "if torch.cuda.is_available():\n",
        "  # if CUDA is available set 'cuda' as the device\n",
        "  device = 'cuda'\n",
        "  # and then print the name of the GPU\n",
        "  print('DEVICE = ', colored(torch.cuda.get_device_name(0), \"green\" ) )\n",
        "else:\n",
        "  # else, set 'cpu' as device\n",
        "  device = 'cpu'\n",
        "  # just print than the CPU is used. Alternatively you can check your CPU with the following command (linux based) in the next cell:\n",
        "  # ! lscpu\n",
        "  print('DEVICE = ', colored('CPU', \"blue\"))"
      ],
      "metadata": {
        "id": "KlnOL-q0cKxs",
        "colab": {
          "base_uri": "https://localhost:8080/"
        },
        "outputId": "d1724dd6-899d-47d7-ffd8-0e23432266be"
      },
      "id": "KlnOL-q0cKxs",
      "execution_count": 172,
      "outputs": [
        {
          "output_type": "stream",
          "name": "stdout",
          "text": [
            "DEVICE =  \u001b[34mCPU\u001b[0m\n"
          ]
        }
      ]
    },
    {
      "cell_type": "markdown",
      "source": [
        "# A really simple model"
      ],
      "metadata": {
        "id": "s-0k894fswRq"
      },
      "id": "s-0k894fswRq"
    },
    {
      "cell_type": "markdown",
      "source": [
        "This section is not working.."
      ],
      "metadata": {
        "id": "MkcgtQ4EEh5B"
      },
      "id": "MkcgtQ4EEh5B"
    },
    {
      "cell_type": "code",
      "source": [
        "# from sklearn.neural_network import MLPClassifier\n",
        "# from sklearn.pipeline import Pipeline\n",
        "# from sklearn.model_selection import GridSearchCV\n",
        "# from sklearn.metrics import log_loss\n",
        "\n",
        "# #Let's do the model pipeline\n",
        "# X_train = train['train'].values.tolist()\n",
        "# X_val = val['train'].values.tolist()\n",
        "# X_test = test['train'].values.tolist()\n",
        "# # y_train = train[['answer_beg', 'answer_end']].values.tolist()\n",
        "# # y_val = val[['answer_beg', 'answer_end']].values.tolist()\n",
        "# # y_test = test[['answer_beg', 'answer_end']].values.tolist()\n",
        "# y_train1 = train['answer_beg'].values.tolist()\n",
        "# y_val1 = val['answer_beg'].values.tolist()\n",
        "# y_test1 = test['answer_beg'].values.tolist()\n",
        "# y_train2 = train['answer_end'].values.tolist()\n",
        "# y_val2 = val['answer_end'].values.tolist()\n",
        "# y_test2 = test['answer_end'].values.tolist()\n",
        "\n",
        "# model1 = [(\"mlpc\", MLPClassifier(solver='adam', hidden_layer_sizes=(600,301)))]\n",
        "# grids = {\"mlpc\": {'mlpc__alpha': [1e-5,3e-5,1e-4]}}\n",
        "\n",
        "# for name, model in model1:\n",
        "#   pipe = Pipeline(steps=[(name,model)])\n",
        "#   clf = GridSearchCV(pipe, grids[name], cv=3, scoring=log_loss)\n",
        "#   clf.fit(X_train, y_train1)\n",
        "#   print('Result for {}', format(name))\n",
        "\n",
        "# model2 = [(\"mlpc\", MLPClassifier(solver='adam', hidden_layer_sizes=(600,301)))]\n",
        "# for name, model in model2:\n",
        "#   pipe = Pipeline(steps=[(name,model)])\n",
        "#   clf = GridSearchCV(pipe, grids[name], cv=3, scoring=log_loss)\n",
        "#   clf.fit(X_train, y_train2)\n",
        "#   print('Result for {}', format(name))"
      ],
      "metadata": {
        "id": "oxJccik8sv-K"
      },
      "id": "oxJccik8sv-K",
      "execution_count": 173,
      "outputs": []
    },
    {
      "cell_type": "markdown",
      "source": [
        "# Baseline Model"
      ],
      "metadata": {
        "id": "gdaHymgsd52l"
      },
      "id": "gdaHymgsd52l"
    },
    {
      "cell_type": "markdown",
      "source": [
        "Now it is time to look for a baseline model. This 'easy' model will be composed of a word embeding layer, and a bi-LSTM layer, and a final layer to do the classification."
      ],
      "metadata": {
        "id": "VqicNrznd3X8"
      },
      "id": "VqicNrznd3X8"
    },
    {
      "cell_type": "code",
      "source": [
        "class BaselineModel(torch.nn.Module):\n",
        "    def __init__(self, input_size, embedding_size, output_size, pretrained_vectors=None):\n",
        "        super(BaselineModel, self).__init__()\n",
        "        # we use an embedding layer: apply the pretrained embeddings to transform our token indices, into vectors\n",
        "        self.embedding = nn.Embedding.from_pretrained(pretrained_vectors, freeze=True)\n",
        "        # we define a LSTM layer\n",
        "        self.input_size = input_size\n",
        "        self.hidden = self.init_hidden()\n",
        "        self.lstm = nn.LSTM(embedding_size, input_size, bidirectional=False)\n",
        "        # define the final linear layer, often named classification layer as the output dimension (D_out) == the number of target classes\n",
        "        self.start_classification_layer = torch.nn.Linear(input_size, output_size, bias=True)\n",
        "        self.end_classification_layer = torch.nn.Linear(input_size, output_size, bias=True)\n",
        "\n",
        "        # softmax layer to compute class probabilities\n",
        "        # https://pytorch.org/docs/stable/generated/torch.nn.Softmax.html?highlight=softmax#torch.nn.Softmax\n",
        "        self.softmax = nn.Softmax(dim=1)\n",
        "\n",
        "        # define the dropout strategy (here, 20% (0.2) of the vector is ignored to prevent overfitting)\n",
        "        # self.dropout = nn.Dropout(p=0.2)\n",
        "\n",
        "    def init_hidden(self):\n",
        "        # the first is the hidden h\n",
        "        # the second is the cell  c\n",
        "        return (autograd.Variable(torch.zeros(1, 1, self.input_size, device=device)),\n",
        "                autograd.Variable(torch.zeros(1, 1, self.input_size, device=device)))\n",
        "\n",
        "    def forward(self, input):\n",
        "        # move the input to the dedicated device (CPU or GPU)\n",
        "        input = input.to(device)\n",
        "        # apply the embedding layer\n",
        "        embedded = self.embedding(input)\n",
        "        # modify the output shape in order for it to work with a LSTM (we use batches of one element)\n",
        "        output = embedded.permute(1, 0, 2) # input.size() = (num_sequences, batch_size, embedding_length)\n",
        "        # clean hidden layer\n",
        "        self.hidden = self.init_hidden()\n",
        "        # apply the LSTM layer\n",
        "        output, self.hidden = self.lstm(output, self.hidden)\n",
        "        # apply classification layer\n",
        "        start = self.start_classification_layer(output[-1])\n",
        "        end = self.end_classification_layer(output[-1])\n",
        "        # apply softmax\n",
        "        start = self.softmax(start)\n",
        "        end = self.softmax(end)\n",
        "        output = torch.stack((start, end), 0)\n",
        "        # return both the output\n",
        "        return output"
      ],
      "metadata": {
        "id": "HsCGaTEzd3D0"
      },
      "id": "HsCGaTEzd3D0",
      "execution_count": 174,
      "outputs": []
    },
    {
      "cell_type": "markdown",
      "source": [
        "Let's define some variables, considering our data representation."
      ],
      "metadata": {
        "id": "VEcsN4oV-9Ld"
      },
      "id": "VEcsN4oV-9Ld"
    },
    {
      "cell_type": "code",
      "source": [
        "sizes = next(iter(train_loader))['entry'].size()\n",
        "batchsize = sizes[0]\n",
        "inputdim  = sizes[1]\n",
        "print(batchsize, inputdim)"
      ],
      "metadata": {
        "id": "UCw2QueG-_Go",
        "colab": {
          "base_uri": "https://localhost:8080/"
        },
        "outputId": "5baa697d-67f5-4c52-e1d9-44f0003133f5"
      },
      "id": "UCw2QueG-_Go",
      "execution_count": 175,
      "outputs": [
        {
          "output_type": "stream",
          "name": "stdout",
          "text": [
            "1 300\n"
          ]
        }
      ]
    },
    {
      "cell_type": "code",
      "source": [
        "embeddingdim = 50 # dimension of the pretrained vector\n",
        "outputdim = 301 # because there is 300 tokens + 1 extra for non answer question\n",
        "# we instanciate the model\n",
        "baseline_model = BaselineModel(inputdim, embeddingdim, outputdim, pretrained_vectors=pretrained_vectors.vectors)"
      ],
      "metadata": {
        "id": "3M5NGcua_WZN"
      },
      "id": "3M5NGcua_WZN",
      "execution_count": 176,
      "outputs": []
    },
    {
      "cell_type": "code",
      "source": [
        "# we can look at the model \n",
        "baseline_model"
      ],
      "metadata": {
        "id": "nCTgXh8s_W58",
        "colab": {
          "base_uri": "https://localhost:8080/"
        },
        "outputId": "1e9552ea-cad7-4da2-8a6b-9bfdd565d193"
      },
      "id": "nCTgXh8s_W58",
      "execution_count": 177,
      "outputs": [
        {
          "output_type": "execute_result",
          "data": {
            "text/plain": [
              "BaselineModel(\n",
              "  (embedding): Embedding(400000, 50)\n",
              "  (lstm): LSTM(50, 300)\n",
              "  (start_classification_layer): Linear(in_features=300, out_features=301, bias=True)\n",
              "  (end_classification_layer): Linear(in_features=300, out_features=301, bias=True)\n",
              "  (softmax): Softmax(dim=1)\n",
              ")"
            ]
          },
          "metadata": {},
          "execution_count": 177
        }
      ]
    },
    {
      "cell_type": "code",
      "source": [
        "def train(model, optimizer, ep, args):\n",
        "  # set the model into a training mode : the model's weights and parameters will be updated!\n",
        "  model.train()\n",
        "  # initialize empty lists for losses and accuracies\n",
        "  loss_it, acc_it = list(), list()\n",
        "\n",
        "  # start the loop over all the training batches. This means one full epoch.\n",
        "  for it, batch in tqdm(enumerate(train_loader), desc=\"Epoch %s:\" % (ep), total=train_loader.__len__()):\n",
        "    \n",
        "    batch = {'entry': batch['entry'].to(device),\n",
        "            \"answer_beg\": batch['answer_beg'].to(device),\n",
        "            \"answer_end\": batch['answer_end'].to(device)}\n",
        "\n",
        "    # put parameters of the model and the optimizer to zero before doing another iteration. this prevents the gradient accumulation through batches\n",
        "    optimizer.zero_grad()\n",
        "\n",
        "    # apply the model on the batch\n",
        "    logits = model(batch['entry'])\n",
        "\n",
        "    # Choice of CrossEntropyLoss as it is suitable for multiclass classification\n",
        "    loss_function = nn.CrossEntropyLoss()\n",
        "    # Converting word position to the corresponding neurons (1st neurone is for no answer, all other neurons for words)\n",
        "    # And applying one hot encoding to make it suitable with our model\n",
        "    beg = (batch['answer_beg'] + 1).to(torch.int64)\n",
        "    ans_beg = torch.nn.functional.one_hot(beg, num_classes=301)\n",
        "    end = (batch['answer_end'] + 1).to(torch.int64)\n",
        "    ans_end = torch.nn.functional.one_hot(end, num_classes=301)\n",
        "    y = torch.stack((ans_beg, ans_end),0)\n",
        "\n",
        "    loss = loss_function(logits, y.float())\n",
        "\n",
        "    # compute backpropagation\n",
        "    loss.backward()\n",
        "\n",
        "    # indicate to the optimizer we've done a step\n",
        "    optimizer.step()\n",
        "\n",
        "    # append the value of the loss for the current iteration (it). .item() retrieve the nuclear value as a int/long\n",
        "    loss_it.append(loss.item())\n",
        "\n",
        "    # get the predicted tags using the maximum probability from the softmax\n",
        "    _, tag_seq  = torch.max(logits, 2)\n",
        "    \n",
        "    # Those 3 lines compute the accuracy and then append it the same way as the loss above\n",
        "    y_ind = torch.stack(((batch['answer_beg'] + 1), (batch['answer_end'] + 1)), 0)\n",
        "    correct = (tag_seq.flatten() == y_ind.flatten()).float().sum()\n",
        "    acc = correct / y_ind.flatten().size(0)\n",
        "    acc_it.append(acc.item())\n",
        "\n",
        "  # simple averages of losses and accuracies for this epoch\n",
        "  loss_it_avg = sum(loss_it)/len(loss_it)\n",
        "  acc_it_avg = sum(acc_it)/len(acc_it)\n",
        "  \n",
        "  # print useful information about the training progress and scores on this training set's full pass (i.e. 1 epoch)\n",
        "  print(\"Epoch %s/%s : %s : (%s %s) (%s %s)\" % (colored(str(ep), 'blue'),args['max_eps'] , colored('Training', 'blue'), colored('loss', 'cyan'), sum(loss_it)/len(loss_it), colored('acc', 'cyan'), sum(acc_it) / len(acc_it)))\n"
      ],
      "metadata": {
        "id": "fU91_sm0UuZ5"
      },
      "id": "fU91_sm0UuZ5",
      "execution_count": 178,
      "outputs": []
    },
    {
      "cell_type": "code",
      "source": [
        "def inference(target, loader, model):\n",
        "  \"\"\"\n",
        "    Args:\n",
        "      target (str): modify the display, usually either 'validation' or 'test'\n",
        "  \"\"\"\n",
        "\n",
        "  # set the model into a evaluation mode : the model's weights and parameters will NOT be updated!\n",
        "  model.eval()\n",
        "\n",
        "  # intialize empty list to populate later on\n",
        "  loss_it, acc_it, f1_it = list(), list(), list()\n",
        "  # preds = predicted values ; trues = true values .... obviously~\n",
        "  preds, trues = list(), list()\n",
        "\n",
        "  # loop over the loader batches\n",
        "  for it, batch in tqdm(enumerate(loader), desc=\"%s:\" % (target), total=loader.__len__()):\n",
        "    # set an environnement without any gradient. So the tensor gradients are not considered \n",
        "    # (saves a lot of computation and memory, this is one of the many things that makes predicting far less costly than training)\n",
        "    with torch.no_grad():\n",
        "\n",
        "      # put the batch to the correct device\n",
        "      batch = {'entry': batch['entry'].to(device),\n",
        "            \"answer_beg\": batch['answer_beg'].to(device),\n",
        "            \"answer_end\": batch['answer_end'].to(device)}\n",
        "\n",
        "\n",
        "      # apply the model\n",
        "      logits = model(batch['entry'])\n",
        "\n",
        "      loss_function = nn.CrossEntropyLoss()\n",
        "      # Converting word position to the corresponding neurons (1st neurone is for no answer, all other neurons for words)\n",
        "      # And applying one hot encoding to make it suitable with our model\n",
        "      beg = (batch['answer_beg'] + 1).to(torch.int64)\n",
        "      ans_beg = torch.nn.functional.one_hot(beg, num_classes=301)\n",
        "      end = (batch['answer_end'] + 1).to(torch.int64)\n",
        "      ans_end = torch.nn.functional.one_hot(end, num_classes=301)\n",
        "      y = torch.stack((ans_beg, ans_end),0)\n",
        "\n",
        "      loss = loss_function(logits, y.float())\n",
        "\n",
        "      # no need to backward() and other training stuff. Directly store the loss in the list\n",
        "      loss_it.append(loss.item())\n",
        "\n",
        "      # get the predicted tags using the maximum probability from the softmax\n",
        "      _, tag_seq  = torch.max(logits, 1)\n",
        "      \n",
        "      # compute the accuracy and store it\n",
        "      y_ind = torch.stack(((batch['answer_beg'] + 1), (batch['answer_end'] + 1)), 0)\n",
        "      correct = (tag_seq.flatten() == y_ind.flatten()).float().sum()\n",
        "      acc = correct / y_ind.flatten().size(0)\n",
        "      acc_it.append(acc.item())\n",
        "      \n",
        "      # extend the predictions and true labels lists so we can compare them later on\n",
        "      # note how we first ensure the tensor are on cpu (.cpu()), then we detach() the gradient from the tensor, before transforming it to a simple python list (.tolist())\n",
        "      preds.extend(tag_seq.cpu().detach().tolist())\n",
        "      trues.extend(batch['y'].cpu().detach().tolist())\n",
        "\n",
        "  # compute the average loss and accuracy accross the iterations (batches)\n",
        "  loss_it_avg = sum(loss_it)/len(loss_it)\n",
        "  acc_it_avg = sum(acc_it)/len(acc_it)\n",
        "  \n",
        "  # print useful information. Important during training as we want to know the performance over the validation set after each epoch\n",
        "  print(\"%s : (%s %s) (%s %s)\" % ( colored(target, 'blue'), colored('loss', 'cyan'), sum(loss_it)/len(loss_it), colored('acc', 'cyan'), sum(acc_it) / len(acc_it)))\n",
        "\n",
        "  # return the true and predicted values with the losses and accuracies\n",
        "  return trues, preds, loss_it_avg, acc_it_avg, loss_it, acc_it"
      ],
      "metadata": {
        "id": "ChP6jAT1VCpY"
      },
      "id": "ChP6jAT1VCpY",
      "execution_count": 179,
      "outputs": []
    },
    {
      "cell_type": "code",
      "source": [
        "import torch.optim as optim\n",
        "\n",
        "def run_epochs(model, args):\n",
        "\n",
        "  args['device'] =device\n",
        "  # if args['cuda'] != -1:\n",
        "  #     model.cuda(args['cuda'])\n",
        "  #     device = torch.device(\"cuda\" if torch.cuda.is_available() else \"cpu\")\n",
        "  #     args['device'] = device\n",
        "  #     print(\"device set to %s\" % (device) )\n",
        "\n",
        "  # we set the optimizer as Adam with the learning rate (lr) set in the arguments\n",
        "  # you can look at the different optimizer available here: https://pytorch.org/docs/stable/optim.html\n",
        "  optimizer = optim.Adam(model.parameters(), lr = args['lr'])\n",
        "\n",
        "  # define an empty list to store validation losses for each epoch\n",
        "  val_ep_losses = list()\n",
        "  # iterate over the number of max epochs set in the arguments\n",
        "  for ep in range(args['max_eps']):\n",
        "    # train the model using our defined function\n",
        "    train(model, optimizer, ep, args)\n",
        "    # apply the model for inference using our defined function\n",
        "    trues, preds, val_loss_it_avg, val_acc_it_avg, val_loss_it, val_acc_it = inference(\"validation\", val_loader, model)\n",
        "    # append the validation losses (good losses should normally go down)\n",
        "    val_ep_losses.append(val_loss_it_avg)\n",
        "\n",
        "  # return the list of epoch validation losses in order to use it later to create a plot\n",
        "  return val_ep_losses\n",
        "    "
      ],
      "metadata": {
        "id": "FaIttmHdVE5H"
      },
      "id": "FaIttmHdVE5H",
      "execution_count": 180,
      "outputs": []
    },
    {
      "cell_type": "code",
      "source": [
        "# here you can specify if you want a GPU or a CPU by setting the cuda argument as -1 for CPU and another index for GPU. If you only have one GPU, put 0.\n",
        "args = {'bsize': 64}\n",
        "args.update({'max_eps': 1, 'lr': 0.001, 'device': 'cpu', 'cuda': 0, 'num_class': 2})\n",
        "# 1e-05\n",
        "print('device', device)\n",
        "loss_list_val = run_epochs(baseline_model, args)"
      ],
      "metadata": {
        "id": "yj4t5hhrVH75",
        "colab": {
          "base_uri": "https://localhost:8080/",
          "height": 408
        },
        "outputId": "3a0fc100-46c3-4f8b-d0ae-20ec13b1b8e4"
      },
      "id": "yj4t5hhrVH75",
      "execution_count": 181,
      "outputs": [
        {
          "output_type": "stream",
          "name": "stdout",
          "text": [
            "device cpu\n"
          ]
        },
        {
          "output_type": "stream",
          "name": "stderr",
          "text": [
            "Epoch 0::   1%|          | 633/87151 [03:21<7:39:20,  3.14it/s]\n"
          ]
        },
        {
          "output_type": "error",
          "ename": "KeyboardInterrupt",
          "evalue": "ignored",
          "traceback": [
            "\u001b[0;31m---------------------------------------------------------------------------\u001b[0m",
            "\u001b[0;31mKeyboardInterrupt\u001b[0m                         Traceback (most recent call last)",
            "\u001b[0;32m<ipython-input-181-76e90db99b60>\u001b[0m in \u001b[0;36m<module>\u001b[0;34m()\u001b[0m\n\u001b[1;32m      4\u001b[0m \u001b[0;31m# 1e-05\u001b[0m\u001b[0;34m\u001b[0m\u001b[0;34m\u001b[0m\u001b[0;34m\u001b[0m\u001b[0m\n\u001b[1;32m      5\u001b[0m \u001b[0mprint\u001b[0m\u001b[0;34m(\u001b[0m\u001b[0;34m'device'\u001b[0m\u001b[0;34m,\u001b[0m \u001b[0mdevice\u001b[0m\u001b[0;34m)\u001b[0m\u001b[0;34m\u001b[0m\u001b[0;34m\u001b[0m\u001b[0m\n\u001b[0;32m----> 6\u001b[0;31m \u001b[0mloss_list_val\u001b[0m \u001b[0;34m=\u001b[0m \u001b[0mrun_epochs\u001b[0m\u001b[0;34m(\u001b[0m\u001b[0mbaseline_model\u001b[0m\u001b[0;34m,\u001b[0m \u001b[0margs\u001b[0m\u001b[0;34m)\u001b[0m\u001b[0;34m\u001b[0m\u001b[0;34m\u001b[0m\u001b[0m\n\u001b[0m",
            "\u001b[0;32m<ipython-input-180-a6ac9615ddd5>\u001b[0m in \u001b[0;36mrun_epochs\u001b[0;34m(model, args)\u001b[0m\n\u001b[1;32m     19\u001b[0m   \u001b[0;32mfor\u001b[0m \u001b[0mep\u001b[0m \u001b[0;32min\u001b[0m \u001b[0mrange\u001b[0m\u001b[0;34m(\u001b[0m\u001b[0margs\u001b[0m\u001b[0;34m[\u001b[0m\u001b[0;34m'max_eps'\u001b[0m\u001b[0;34m]\u001b[0m\u001b[0;34m)\u001b[0m\u001b[0;34m:\u001b[0m\u001b[0;34m\u001b[0m\u001b[0;34m\u001b[0m\u001b[0m\n\u001b[1;32m     20\u001b[0m     \u001b[0;31m# train the model using our defined function\u001b[0m\u001b[0;34m\u001b[0m\u001b[0;34m\u001b[0m\u001b[0;34m\u001b[0m\u001b[0m\n\u001b[0;32m---> 21\u001b[0;31m     \u001b[0mtrain\u001b[0m\u001b[0;34m(\u001b[0m\u001b[0mmodel\u001b[0m\u001b[0;34m,\u001b[0m \u001b[0moptimizer\u001b[0m\u001b[0;34m,\u001b[0m \u001b[0mep\u001b[0m\u001b[0;34m,\u001b[0m \u001b[0margs\u001b[0m\u001b[0;34m)\u001b[0m\u001b[0;34m\u001b[0m\u001b[0;34m\u001b[0m\u001b[0m\n\u001b[0m\u001b[1;32m     22\u001b[0m     \u001b[0;31m# apply the model for inference using our defined function\u001b[0m\u001b[0;34m\u001b[0m\u001b[0;34m\u001b[0m\u001b[0;34m\u001b[0m\u001b[0m\n\u001b[1;32m     23\u001b[0m     \u001b[0mtrues\u001b[0m\u001b[0;34m,\u001b[0m \u001b[0mpreds\u001b[0m\u001b[0;34m,\u001b[0m \u001b[0mval_loss_it_avg\u001b[0m\u001b[0;34m,\u001b[0m \u001b[0mval_acc_it_avg\u001b[0m\u001b[0;34m,\u001b[0m \u001b[0mval_loss_it\u001b[0m\u001b[0;34m,\u001b[0m \u001b[0mval_acc_it\u001b[0m \u001b[0;34m=\u001b[0m \u001b[0minference\u001b[0m\u001b[0;34m(\u001b[0m\u001b[0;34m\"validation\"\u001b[0m\u001b[0;34m,\u001b[0m \u001b[0mval_loader\u001b[0m\u001b[0;34m,\u001b[0m \u001b[0mmodel\u001b[0m\u001b[0;34m)\u001b[0m\u001b[0;34m\u001b[0m\u001b[0;34m\u001b[0m\u001b[0m\n",
            "\u001b[0;32m<ipython-input-178-064778766323>\u001b[0m in \u001b[0;36mtrain\u001b[0;34m(model, optimizer, ep, args)\u001b[0m\n\u001b[1;32m     31\u001b[0m \u001b[0;34m\u001b[0m\u001b[0m\n\u001b[1;32m     32\u001b[0m     \u001b[0;31m# compute backpropagation\u001b[0m\u001b[0;34m\u001b[0m\u001b[0;34m\u001b[0m\u001b[0;34m\u001b[0m\u001b[0m\n\u001b[0;32m---> 33\u001b[0;31m     \u001b[0mloss\u001b[0m\u001b[0;34m.\u001b[0m\u001b[0mbackward\u001b[0m\u001b[0;34m(\u001b[0m\u001b[0;34m)\u001b[0m\u001b[0;34m\u001b[0m\u001b[0;34m\u001b[0m\u001b[0m\n\u001b[0m\u001b[1;32m     34\u001b[0m \u001b[0;34m\u001b[0m\u001b[0m\n\u001b[1;32m     35\u001b[0m     \u001b[0;31m# indicate to the optimizer we've done a step\u001b[0m\u001b[0;34m\u001b[0m\u001b[0;34m\u001b[0m\u001b[0;34m\u001b[0m\u001b[0m\n",
            "\u001b[0;32m/usr/local/lib/python3.7/dist-packages/torch/_tensor.py\u001b[0m in \u001b[0;36mbackward\u001b[0;34m(self, gradient, retain_graph, create_graph, inputs)\u001b[0m\n\u001b[1;32m    305\u001b[0m                 \u001b[0mcreate_graph\u001b[0m\u001b[0;34m=\u001b[0m\u001b[0mcreate_graph\u001b[0m\u001b[0;34m,\u001b[0m\u001b[0;34m\u001b[0m\u001b[0;34m\u001b[0m\u001b[0m\n\u001b[1;32m    306\u001b[0m                 inputs=inputs)\n\u001b[0;32m--> 307\u001b[0;31m         \u001b[0mtorch\u001b[0m\u001b[0;34m.\u001b[0m\u001b[0mautograd\u001b[0m\u001b[0;34m.\u001b[0m\u001b[0mbackward\u001b[0m\u001b[0;34m(\u001b[0m\u001b[0mself\u001b[0m\u001b[0;34m,\u001b[0m \u001b[0mgradient\u001b[0m\u001b[0;34m,\u001b[0m \u001b[0mretain_graph\u001b[0m\u001b[0;34m,\u001b[0m \u001b[0mcreate_graph\u001b[0m\u001b[0;34m,\u001b[0m \u001b[0minputs\u001b[0m\u001b[0;34m=\u001b[0m\u001b[0minputs\u001b[0m\u001b[0;34m)\u001b[0m\u001b[0;34m\u001b[0m\u001b[0;34m\u001b[0m\u001b[0m\n\u001b[0m\u001b[1;32m    308\u001b[0m \u001b[0;34m\u001b[0m\u001b[0m\n\u001b[1;32m    309\u001b[0m     \u001b[0;32mdef\u001b[0m \u001b[0mregister_hook\u001b[0m\u001b[0;34m(\u001b[0m\u001b[0mself\u001b[0m\u001b[0;34m,\u001b[0m \u001b[0mhook\u001b[0m\u001b[0;34m)\u001b[0m\u001b[0;34m:\u001b[0m\u001b[0;34m\u001b[0m\u001b[0;34m\u001b[0m\u001b[0m\n",
            "\u001b[0;32m/usr/local/lib/python3.7/dist-packages/torch/autograd/__init__.py\u001b[0m in \u001b[0;36mbackward\u001b[0;34m(tensors, grad_tensors, retain_graph, create_graph, grad_variables, inputs)\u001b[0m\n\u001b[1;32m    154\u001b[0m     Variable._execution_engine.run_backward(\n\u001b[1;32m    155\u001b[0m         \u001b[0mtensors\u001b[0m\u001b[0;34m,\u001b[0m \u001b[0mgrad_tensors_\u001b[0m\u001b[0;34m,\u001b[0m \u001b[0mretain_graph\u001b[0m\u001b[0;34m,\u001b[0m \u001b[0mcreate_graph\u001b[0m\u001b[0;34m,\u001b[0m \u001b[0minputs\u001b[0m\u001b[0;34m,\u001b[0m\u001b[0;34m\u001b[0m\u001b[0;34m\u001b[0m\u001b[0m\n\u001b[0;32m--> 156\u001b[0;31m         allow_unreachable=True, accumulate_grad=True)  # allow_unreachable flag\n\u001b[0m\u001b[1;32m    157\u001b[0m \u001b[0;34m\u001b[0m\u001b[0m\n\u001b[1;32m    158\u001b[0m \u001b[0;34m\u001b[0m\u001b[0m\n",
            "\u001b[0;31mKeyboardInterrupt\u001b[0m: "
          ]
        }
      ]
    },
    {
      "cell_type": "code",
      "source": [
        "# A = torch.tensor(5).to(torch.int64)\n",
        "# torch.nn.functional.one_hot(A, num_classes=10)"
      ],
      "metadata": {
        "id": "fU9EPIKjivIG"
      },
      "id": "fU9EPIKjivIG",
      "execution_count": null,
      "outputs": []
    },
    {
      "cell_type": "code",
      "source": [
        "def plot_loss(loss_list):\n",
        "  '''\n",
        "  this function creates a plot. a simple curve showing the different values at each steps.\n",
        "  Here we use it to plot the loss so we named it plot_loss, but the same function with different titles could be used to plot accuracies\n",
        "  or other metrics for instance.\n",
        "  \n",
        "  Args:\n",
        "    loss_list (list of floats): list of numerical values\n",
        "  '''\n",
        "  plt.plot(range(len(loss_list)), loss_list)\n",
        "  plt.xlabel('epochs')\n",
        "  # in our model we use Softmax then NLLLoss which means Cross Entropy loss\n",
        "  plt.ylabel('Cross Entropy')\n",
        "  # in our training loop we used an Adam optimizer so we indicate it there\n",
        "  plt.title('lr: {}, optim_alg:{}'.format(args['lr'], 'Adam'))\n",
        "  # let's directly show the plot when calling this function\n",
        "  plt.show()"
      ],
      "metadata": {
        "id": "xcG-1mmXVLQA"
      },
      "id": "xcG-1mmXVLQA",
      "execution_count": null,
      "outputs": []
    },
    {
      "cell_type": "code",
      "source": [
        "plot_loss(loss_list_val)"
      ],
      "metadata": {
        "id": "VnB3anpaVMIp"
      },
      "id": "VnB3anpaVMIp",
      "execution_count": null,
      "outputs": []
    },
    {
      "cell_type": "code",
      "source": [
        "#Evaluate model\n",
        "trues, preds, _, _, _, _ = inference(\"test\", test_loader, baseline_model)"
      ],
      "metadata": {
        "id": "qv91CnUgVOGv"
      },
      "id": "qv91CnUgVOGv",
      "execution_count": null,
      "outputs": []
    },
    {
      "cell_type": "code",
      "source": [
        "# let's look at the first ten predictions\n",
        "for t, p in zip(trues[:10], preds[:10]):\n",
        "  correct = colored('Correct', 'green') if t == p else colored('Mistake', 'red')\n",
        "  print('true', t, 'predicted', p, correct)"
      ],
      "metadata": {
        "id": "FHgFm8iRVPth"
      },
      "id": "FHgFm8iRVPth",
      "execution_count": null,
      "outputs": []
    },
    {
      "cell_type": "markdown",
      "source": [
        "# Next steps"
      ],
      "metadata": {
        "id": "fEwHvQnA9n55"
      },
      "id": "fEwHvQnA9n55"
    },
    {
      "cell_type": "markdown",
      "source": [
        "Unfortunately, none of our models was working until today. This situation is really frustrating, especially when we wanted to test a lot of ideas. But the lack of experience in Pytorch made us stuck all the way out. But today we have successfully debugged our Pytorch model, the reset of the hidden layer was our issue ! We didn't have the time to train it: an epoch is taking 8h.\n",
        "\n",
        "A nice idea for the baseline model we had, was to take the mean square error as a metric, as we know that answers of our model can start with non relevant words as 'the', 'just', ... Being close to the answer is still better than beeing completly far off.\n",
        "\n",
        "So far, the next steps is to train our model. See how it works.\n",
        "Then putting some self-attention layers in the deep learning model.\n",
        "And also change the input of the models, instead of having the question and the context concatenated in a single array, we could have split the two as two entries in our model, so they can pass through differents steps. Doing so, will enable to extract more useful information, and will remove a useless level of dependency in our way of modelling."
      ],
      "metadata": {
        "id": "yHRkal5p9pr0"
      },
      "id": "yHRkal5p9pr0"
    },
    {
      "cell_type": "markdown",
      "source": [
        "# Searching model..."
      ],
      "metadata": {
        "id": "s7qpt1LKYzHe"
      },
      "id": "s7qpt1LKYzHe"
    },
    {
      "cell_type": "markdown",
      "source": [
        "The model : it contains an embedding layer, and followed by an encoder with an attention layer"
      ],
      "metadata": {
        "id": "BR8pEQYqVbFd"
      },
      "id": "BR8pEQYqVbFd"
    },
    {
      "cell_type": "markdown",
      "source": [
        "https://github.com/kushalj001/pytorch-question-answering/blob/master/1.%20DrQA.ipynb\n",
        "\n",
        "http://www.adeveloperdiary.com/data-science/deep-learning/nlp/machine-translation-using-attention-with-pytorch/\n",
        "\n",
        "https://medium.com/intel-student-ambassadors/implementing-attention-models-in-pytorch-f947034b3e66"
      ],
      "metadata": {
        "id": "Xw7dv4FzqfEM"
      },
      "id": "Xw7dv4FzqfEM"
    },
    {
      "cell_type": "code",
      "source": [
        "class QAEncoder(torch.nn.Module):\n",
        "    def __init__(self, input_size, hidden_size, pretrained_vectors=None):\n",
        "        super(QAEncoder, self).__init__()\n",
        "        # configurable hidden size\n",
        "        self.hidden_size = hidden_size\n",
        "        # we use an embedding layer\n",
        "        self.embedding = nn.Embedding.from_pretrained(pretrained_vectors, freeze=True)\n",
        "        # we define a LSTM layer\n",
        "        self.lstm = nn.LSTM(hidden_size, hidden_size, bidirectional=True)\n",
        "\n",
        "    def forward(self, input, hidden):\n",
        "        # move the input to the dedicated device (CPU or GPU)\n",
        "        input = input.to(device)\n",
        "        # apply the embedding layer\n",
        "        embedded = self.embedding(input)\n",
        "        # modify the output shape in order for it to work with a LSTM (we use batches of one element)\n",
        "        output = embedded.view(1, 1, -1)\n",
        "        # apply the LSTM layer\n",
        "        output, hidden = self.lstm(output, hidden)\n",
        "        # return both the output, and the hidden vector\n",
        "        return output, hidden\n",
        "\n",
        "    def initHidden(self):\n",
        "        \"\"\"\n",
        "        method used to customize the hidden vector initialization.\n",
        "        here the vector is initialized as 0 with the correct shape and created directly on the correct device\n",
        "        \"\"\"\n",
        "        return torch.zeros(1, 1, self.hidden_size, device=device)"
      ],
      "metadata": {
        "id": "joRHCQ5vqeq8"
      },
      "id": "joRHCQ5vqeq8",
      "execution_count": null,
      "outputs": []
    },
    {
      "cell_type": "code",
      "source": [
        "class QAEncoder(torch.nn.Module):\n",
        "    def __init__(self, input_size, hidden_size, pretrained_vectors=None):\n",
        "        super(QAEncoder, self).__init__()\n",
        "        # configurable hidden size\n",
        "        self.hidden_size = hidden_size\n",
        "        # we use an embedding layer\n",
        "        self.embedding = nn.Embedding.from_pretrained(pretrained_vectors, freeze=True)\n",
        "        # we define a LSTM layer\n",
        "        self.lstm = nn.LSTM(hidden_size, hidden_size, bidirectional=True)\n",
        "\n",
        "    def forward(self, input, hidden):\n",
        "        # move the input to the dedicated device (CPU or GPU)\n",
        "        input = input.to(device)\n",
        "        # apply the embedding layer\n",
        "        embedded = self.embedding(input)\n",
        "        # modify the output shape in order for it to work with a LSTM (we use batches of one element)\n",
        "        output = embedded.view(1, 1, -1)\n",
        "        # apply the LSTM layer\n",
        "        output, hidden = self.lstm(output, hidden)\n",
        "        # return both the output, and the hidden vector\n",
        "        return output, hidden\n",
        "\n",
        "    def initHidden(self):\n",
        "        \"\"\"\n",
        "        method used to customize the hidden vector initialization.\n",
        "        here the vector is initialized as 0 with the correct shape and created directly on the correct device\n",
        "        \"\"\"\n",
        "        return torch.zeros(1, 1, self.hidden_size, device=device)"
      ],
      "metadata": {
        "id": "PMckFG0fVTmN"
      },
      "id": "PMckFG0fVTmN",
      "execution_count": null,
      "outputs": []
    },
    {
      "cell_type": "code",
      "source": [
        "# To change\n",
        "class AttentionDecoder(nn.Module):\n",
        "    def __init__(self, hidden_size, output_size, vocab_size):\n",
        "        super(AttentionDecoder, self).__init__()\n",
        "        self.hidden_size = hidden_size\n",
        "        self.output_size = output_size\n",
        "        self.attn = nn.Linear(hidden_size + output_size, 1)\n",
        "        self.lstm = nn.LSTM(hidden_size + vocab_size, output_size) #if we are using embedding hidden_size should be added with embedding of vocab size\n",
        "        self.final = nn.Linear(output_size, vocab_size)\n",
        "    \n",
        "    def init_hidden(self):\n",
        "        return (torch.zeros(1, 1, self.output_size),\n",
        "          torch.zeros(1, 1, self.output_size))\n",
        "    \n",
        "    def forward(self, decoder_hidden, encoder_outputs, input):\n",
        "        weights = []\n",
        "        for i in range(len(encoder_outputs)):\n",
        "          print(decoder_hidden[0][0].shape)\n",
        "          print(encoder_outputs[0].shape)\n",
        "          weights.append(self.attn(torch.cat((decoder_hidden[0][0], encoder_outputs[i]), dim = 1)))\n",
        "        normalized_weights = F.softmax(torch.cat(weights, 1), 1)\n",
        "        attn_applied = torch.bmm(normalized_weights.unsqueeze(1), encoder_outputs.view(1, -1, self.hidden_size))\n",
        "        input_lstm = torch.cat((attn_applied[0], input[0]), dim = 1) #if we are using embedding, use embedding of input here instead\n",
        "        output, hidden = self.lstm(input_lstm.unsqueeze(0), decoder_hidden)\n",
        "        output = self.final(output[0])\n",
        "        return output, hidden, normalized_weights"
      ],
      "metadata": {
        "id": "8gQcrWccLddS"
      },
      "id": "8gQcrWccLddS",
      "execution_count": null,
      "outputs": []
    }
  ],
  "metadata": {
    "kernelspec": {
      "display_name": "Python 3 (ipykernel)",
      "language": "python",
      "name": "python3"
    },
    "language_info": {
      "codemirror_mode": {
        "name": "ipython",
        "version": 3
      },
      "file_extension": ".py",
      "mimetype": "text/x-python",
      "name": "python",
      "nbconvert_exporter": "python",
      "pygments_lexer": "ipython3",
      "version": "3.8.12"
    },
    "colab": {
      "name": "Q&A project_Yann.ipynb",
      "provenance": [],
      "collapsed_sections": [
        "b69f8d68",
        "2c3d9086",
        "6jge93_t6nx7",
        "16c060ea",
        "sckA__z-Rzu-",
        "fa787bdb",
        "tcG6cxqEdi4I",
        "s-0k894fswRq",
        "s7qpt1LKYzHe"
      ]
    }
  },
  "nbformat": 4,
  "nbformat_minor": 5
}